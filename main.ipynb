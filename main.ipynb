{
 "cells": [
  {
   "cell_type": "markdown",
   "metadata": {},
   "source": [
    "# Standard Imports"
   ]
  },
  {
   "cell_type": "code",
   "execution_count": 1,
   "metadata": {},
   "outputs": [
    {
     "name": "stderr",
     "output_type": "stream",
     "text": [
      "/tmp/ipykernel_32491/2381892063.py:2: DeprecationWarning: \n",
      "Pyarrow will become a required dependency of pandas in the next major release of pandas (pandas 3.0),\n",
      "(to allow more performant data types, such as the Arrow string type, and better interoperability with other libraries)\n",
      "but was not found to be installed on your system.\n",
      "If this would cause problems for you,\n",
      "please provide us feedback at https://github.com/pandas-dev/pandas/issues/54466\n",
      "        \n",
      "  import pandas as pd\n"
     ]
    },
    {
     "ename": "ModuleNotFoundError",
     "evalue": "No module named 'matplotlib'",
     "output_type": "error",
     "traceback": [
      "\u001b[0;31m---------------------------------------------------------------------------\u001b[0m",
      "\u001b[0;31mModuleNotFoundError\u001b[0m                       Traceback (most recent call last)",
      "Cell \u001b[0;32mIn[1], line 3\u001b[0m\n\u001b[1;32m      1\u001b[0m \u001b[38;5;28;01mimport\u001b[39;00m \u001b[38;5;21;01mnumpy\u001b[39;00m \u001b[38;5;28;01mas\u001b[39;00m \u001b[38;5;21;01mnp\u001b[39;00m\n\u001b[1;32m      2\u001b[0m \u001b[38;5;28;01mimport\u001b[39;00m \u001b[38;5;21;01mpandas\u001b[39;00m \u001b[38;5;28;01mas\u001b[39;00m \u001b[38;5;21;01mpd\u001b[39;00m\n\u001b[0;32m----> 3\u001b[0m \u001b[38;5;28;01mimport\u001b[39;00m \u001b[38;5;21;01mmatplotlib\u001b[39;00m\u001b[38;5;21;01m.\u001b[39;00m\u001b[38;5;21;01mpyplot\u001b[39;00m \u001b[38;5;28;01mas\u001b[39;00m \u001b[38;5;21;01mplt\u001b[39;00m\n\u001b[1;32m      4\u001b[0m \u001b[38;5;28;01mimport\u001b[39;00m \u001b[38;5;21;01mtorch\u001b[39;00m\u001b[38;5;21;01m.\u001b[39;00m\u001b[38;5;21;01mnn\u001b[39;00m \u001b[38;5;28;01mas\u001b[39;00m \u001b[38;5;21;01mnn\u001b[39;00m\n",
      "\u001b[0;31mModuleNotFoundError\u001b[0m: No module named 'matplotlib'"
     ]
    }
   ],
   "source": [
    "import numpy as np\n",
    "import pandas as pd\n",
    "import matplotlib.pyplot as plt\n",
    "import torch.nn as nn"
   ]
  },
  {
   "cell_type": "markdown",
   "metadata": {},
   "source": [
    "# Constants"
   ]
  },
  {
   "cell_type": "code",
   "execution_count": null,
   "metadata": {},
   "outputs": [],
   "source": [
    "seed = 42"
   ]
  },
  {
   "cell_type": "markdown",
   "metadata": {},
   "source": [
    "# Import data"
   ]
  },
  {
   "cell_type": "code",
   "execution_count": null,
   "metadata": {},
   "outputs": [
    {
     "data": {
      "text/html": [
       "<div>\n",
       "<style scoped>\n",
       "    .dataframe tbody tr th:only-of-type {\n",
       "        vertical-align: middle;\n",
       "    }\n",
       "\n",
       "    .dataframe tbody tr th {\n",
       "        vertical-align: top;\n",
       "    }\n",
       "\n",
       "    .dataframe thead th {\n",
       "        text-align: right;\n",
       "    }\n",
       "</style>\n",
       "<table border=\"1\" class=\"dataframe\">\n",
       "  <thead>\n",
       "    <tr style=\"text-align: right;\">\n",
       "      <th></th>\n",
       "      <th>Ascorbic acid</th>\n",
       "      <th>Caffeine</th>\n",
       "      <th>Nitrogen</th>\n",
       "      <th>Polyphenols</th>\n",
       "      <th>Amino acids</th>\n",
       "      <th>GC</th>\n",
       "      <th>EGC</th>\n",
       "      <th>C</th>\n",
       "      <th>EC</th>\n",
       "      <th>EGCG</th>\n",
       "      <th>GCG</th>\n",
       "      <th>ECG</th>\n",
       "      <th>CG</th>\n",
       "      <th>Total catechins</th>\n",
       "    </tr>\n",
       "    <tr>\n",
       "      <th>Sample no</th>\n",
       "      <th></th>\n",
       "      <th></th>\n",
       "      <th></th>\n",
       "      <th></th>\n",
       "      <th></th>\n",
       "      <th></th>\n",
       "      <th></th>\n",
       "      <th></th>\n",
       "      <th></th>\n",
       "      <th></th>\n",
       "      <th></th>\n",
       "      <th></th>\n",
       "      <th></th>\n",
       "      <th></th>\n",
       "    </tr>\n",
       "  </thead>\n",
       "  <tbody>\n",
       "    <tr>\n",
       "      <th>1</th>\n",
       "      <td>9.41 ± 0.12</td>\n",
       "      <td>31.47 ± 0.22</td>\n",
       "      <td>40.8 ± 0.42</td>\n",
       "      <td>145.0 ± 1.23</td>\n",
       "      <td>45.1 ± 0.57</td>\n",
       "      <td>8.36 ± 0.08</td>\n",
       "      <td>18.00 ± 0.16</td>\n",
       "      <td>8.93 ± 0.09</td>\n",
       "      <td>7.04 ± 07</td>\n",
       "      <td>21.11 ± 0.28</td>\n",
       "      <td>21.50 ± 0.38</td>\n",
       "      <td>4.66 ± 0.07</td>\n",
       "      <td>3.72 ± 0.04</td>\n",
       "      <td>93.31 ± 1.20</td>\n",
       "    </tr>\n",
       "    <tr>\n",
       "      <th>2</th>\n",
       "      <td>9.42 ± 0.13</td>\n",
       "      <td>39.24 ± 0.18</td>\n",
       "      <td>40.9 ± 0.27</td>\n",
       "      <td>150.0 ± 1.42</td>\n",
       "      <td>40.9 ± 0.36</td>\n",
       "      <td>22.55 ± 0.21</td>\n",
       "      <td>10.92 ± 0.08</td>\n",
       "      <td>9.87 ± 008</td>\n",
       "      <td>.4.99 ± 0.04</td>\n",
       "      <td>23.42 ± 0.18</td>\n",
       "      <td>26.62 ± 0.34</td>\n",
       "      <td>5.29 ± 0.09</td>\n",
       "      <td>5.33 ± 0.04</td>\n",
       "      <td>109.0 ± 1.07</td>\n",
       "    </tr>\n",
       "    <tr>\n",
       "      <th>3</th>\n",
       "      <td>9.59 ± 0.14</td>\n",
       "      <td>41.08 ± 0.32</td>\n",
       "      <td>41.4 ± 0.43</td>\n",
       "      <td>150.8 ± 1.27</td>\n",
       "      <td>41.0 ± 0.32</td>\n",
       "      <td>21.87 ± 0.17</td>\n",
       "      <td>10.98 ± 0.08</td>\n",
       "      <td>6.37 ± 0.07</td>\n",
       "      <td>4.92 ± 0.06</td>\n",
       "      <td>23.63 ± 0.21</td>\n",
       "      <td>24.84 ± 0.42</td>\n",
       "      <td>5.43 ± 0.07</td>\n",
       "      <td>5.29 ± 0.07</td>\n",
       "      <td>103.3 ± 1.19</td>\n",
       "    </tr>\n",
       "    <tr>\n",
       "      <th>4</th>\n",
       "      <td>11.23 ± 0.15</td>\n",
       "      <td>50.97 ± 0.29</td>\n",
       "      <td>46.7 ± 0.27</td>\n",
       "      <td>171.5 ± 1.78</td>\n",
       "      <td>50.9 ± 0.43</td>\n",
       "      <td>23.08 ± 0.18</td>\n",
       "      <td>11.47 ± 0.12</td>\n",
       "      <td>6.78 ± 0.03</td>\n",
       "      <td>5.91 ± 0.07</td>\n",
       "      <td>22.14 ± 0.20</td>\n",
       "      <td>25.34 ± 0.27</td>\n",
       "      <td>6.43 ± 0.06</td>\n",
       "      <td>5.76 ± 0.06</td>\n",
       "      <td>106.9 ± 0.94</td>\n",
       "    </tr>\n",
       "    <tr>\n",
       "      <th>5</th>\n",
       "      <td>10.66 ± 0.09</td>\n",
       "      <td>53.70 ± 0.45</td>\n",
       "      <td>50.8 ± 0.31</td>\n",
       "      <td>181.8 ± 1.76</td>\n",
       "      <td>46.8 ± 0.39</td>\n",
       "      <td>24.12 ± 0.22</td>\n",
       "      <td>13.35 ± 0.11</td>\n",
       "      <td>5.82 ± 0.07</td>\n",
       "      <td>5.60 ± 0.07</td>\n",
       "      <td>25.09 ± 0.22</td>\n",
       "      <td>27.92 ± 0.32</td>\n",
       "      <td>5.94 ± 0.04</td>\n",
       "      <td>5.28 ± 0.06</td>\n",
       "      <td>113.1 ± 1.13</td>\n",
       "    </tr>\n",
       "  </tbody>\n",
       "</table>\n",
       "</div>"
      ],
      "text/plain": [
       "          Ascorbic acid      Caffeine     Nitrogen   Polyphenols  Amino acids  \\\n",
       "Sample no                                                                       \n",
       "1           9.41 ± 0.12  31.47 ± 0.22  40.8 ± 0.42  145.0 ± 1.23  45.1 ± 0.57   \n",
       "2           9.42 ± 0.13  39.24 ± 0.18  40.9 ± 0.27  150.0 ± 1.42  40.9 ± 0.36   \n",
       "3           9.59 ± 0.14  41.08 ± 0.32  41.4 ± 0.43  150.8 ± 1.27  41.0 ± 0.32   \n",
       "4          11.23 ± 0.15  50.97 ± 0.29  46.7 ± 0.27  171.5 ± 1.78  50.9 ± 0.43   \n",
       "5          10.66 ± 0.09  53.70 ± 0.45  50.8 ± 0.31  181.8 ± 1.76  46.8 ± 0.39   \n",
       "\n",
       "                     GC           EGC            C            EC  \\\n",
       "Sample no                                                          \n",
       "1           8.36 ± 0.08  18.00 ± 0.16  8.93 ± 0.09     7.04 ± 07   \n",
       "2          22.55 ± 0.21  10.92 ± 0.08   9.87 ± 008  .4.99 ± 0.04   \n",
       "3          21.87 ± 0.17  10.98 ± 0.08  6.37 ± 0.07   4.92 ± 0.06   \n",
       "4          23.08 ± 0.18  11.47 ± 0.12  6.78 ± 0.03   5.91 ± 0.07   \n",
       "5          24.12 ± 0.22  13.35 ± 0.11  5.82 ± 0.07   5.60 ± 0.07   \n",
       "\n",
       "                   EGCG           GCG          ECG           CG  \\\n",
       "Sample no                                                         \n",
       "1          21.11 ± 0.28  21.50 ± 0.38  4.66 ± 0.07  3.72 ± 0.04   \n",
       "2          23.42 ± 0.18  26.62 ± 0.34  5.29 ± 0.09  5.33 ± 0.04   \n",
       "3          23.63 ± 0.21  24.84 ± 0.42  5.43 ± 0.07  5.29 ± 0.07   \n",
       "4          22.14 ± 0.20  25.34 ± 0.27  6.43 ± 0.06  5.76 ± 0.06   \n",
       "5          25.09 ± 0.22  27.92 ± 0.32  5.94 ± 0.04  5.28 ± 0.06   \n",
       "\n",
       "          Total catechins  \n",
       "Sample no                  \n",
       "1            93.31 ± 1.20  \n",
       "2            109.0 ± 1.07  \n",
       "3            103.3 ± 1.19  \n",
       "4            106.9 ± 0.94  \n",
       "5            113.1 ± 1.13  "
      ]
     },
     "execution_count": 15,
     "metadata": {},
     "output_type": "execute_result"
    }
   ],
   "source": [
    "df = pd.read_csv('data/data1_rename.csv', index_col=0, header=1)\n",
    "df.head()"
   ]
  },
  {
   "cell_type": "markdown",
   "metadata": {},
   "source": [
    "# Combine data"
   ]
  },
  {
   "cell_type": "code",
   "execution_count": null,
   "metadata": {},
   "outputs": [],
   "source": []
  },
  {
   "cell_type": "markdown",
   "metadata": {},
   "source": [
    "# Visualize data"
   ]
  },
  {
   "cell_type": "code",
   "execution_count": null,
   "metadata": {},
   "outputs": [],
   "source": []
  },
  {
   "cell_type": "markdown",
   "metadata": {},
   "source": [
    "# Data Wrangling"
   ]
  },
  {
   "cell_type": "code",
   "execution_count": null,
   "metadata": {},
   "outputs": [],
   "source": []
  },
  {
   "cell_type": "markdown",
   "metadata": {},
   "source": [
    "# Generative Adversarial Network"
   ]
  },
  {
   "cell_type": "code",
   "execution_count": null,
   "metadata": {},
   "outputs": [],
   "source": [
    "class Generator(nn.Module):\n",
    "    def __init__(self, ngpu):\n",
    "            super(Generator, self).__init__()\n",
    "            self.ngpu = ngpu\n",
    "\n",
    "class Discriminator(nn.Module):    \n",
    "    def __init__(self, ngpu):\n",
    "        super(Discriminator, self).__init__()\n",
    "        self.ngpu = ngpu"
   ]
  },
  {
   "cell_type": "markdown",
   "metadata": {},
   "source": [
    "# Feature Engineering"
   ]
  },
  {
   "cell_type": "code",
   "execution_count": null,
   "metadata": {},
   "outputs": [],
   "source": []
  },
  {
   "cell_type": "markdown",
   "metadata": {},
   "source": [
    "# Split data"
   ]
  },
  {
   "cell_type": "code",
   "execution_count": null,
   "metadata": {},
   "outputs": [],
   "source": []
  },
  {
   "cell_type": "markdown",
   "metadata": {},
   "source": [
    "# DBSCAN"
   ]
  },
  {
   "cell_type": "code",
   "execution_count": null,
   "metadata": {},
   "outputs": [],
   "source": [
    "# Model Creation"
   ]
  },
  {
   "cell_type": "code",
   "execution_count": null,
   "metadata": {},
   "outputs": [],
   "source": [
    "# Hyperparameter Selection"
   ]
  },
  {
   "cell_type": "code",
   "execution_count": null,
   "metadata": {},
   "outputs": [],
   "source": [
    "# Model Training"
   ]
  },
  {
   "cell_type": "markdown",
   "metadata": {},
   "source": [
    "# Multilayer Perceptron"
   ]
  },
  {
   "cell_type": "code",
   "execution_count": null,
   "metadata": {},
   "outputs": [],
   "source": [
    "# Model Creation"
   ]
  },
  {
   "cell_type": "code",
   "execution_count": null,
   "metadata": {},
   "outputs": [],
   "source": [
    "# Hyperparameter Selection"
   ]
  },
  {
   "cell_type": "code",
   "execution_count": null,
   "metadata": {},
   "outputs": [],
   "source": [
    "# Model Training"
   ]
  },
  {
   "cell_type": "markdown",
   "metadata": {},
   "source": [
    "# Convolutiontional Neural Network"
   ]
  },
  {
   "cell_type": "code",
   "execution_count": null,
   "metadata": {},
   "outputs": [],
   "source": [
    "# Model Creation"
   ]
  },
  {
   "cell_type": "code",
   "execution_count": null,
   "metadata": {},
   "outputs": [],
   "source": [
    "# Hyperparameter Selection\n"
   ]
  },
  {
   "cell_type": "code",
   "execution_count": null,
   "metadata": {},
   "outputs": [],
   "source": [
    "# Model Training"
   ]
  },
  {
   "cell_type": "markdown",
   "metadata": {},
   "source": [
    "# Model Visualization and Comparison"
   ]
  },
  {
   "cell_type": "code",
   "execution_count": null,
   "metadata": {},
   "outputs": [],
   "source": []
  },
  {
   "cell_type": "markdown",
   "metadata": {},
   "source": [
    "# Export model"
   ]
  },
  {
   "cell_type": "code",
   "execution_count": null,
   "metadata": {},
   "outputs": [],
   "source": []
  }
 ],
 "metadata": {
  "kernelspec": {
   "display_name": "Python 3",
   "language": "python",
   "name": "python3"
  },
  "language_info": {
   "codemirror_mode": {
    "name": "ipython",
    "version": 3
   },
   "file_extension": ".py",
   "mimetype": "text/x-python",
   "name": "python",
   "nbconvert_exporter": "python",
   "pygments_lexer": "ipython3",
   "version": "3.11.6"
  }
 },
 "nbformat": 4,
 "nbformat_minor": 2
}
