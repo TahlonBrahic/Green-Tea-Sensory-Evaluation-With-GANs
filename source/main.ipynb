{
 "cells": [
  {
   "cell_type": "markdown",
   "metadata": {},
   "source": [
    "# Standard Imports"
   ]
  },
  {
   "cell_type": "code",
   "execution_count": 322,
   "metadata": {},
   "outputs": [],
   "source": [
    "import numpy as np\n",
    "import pandas as pd\n",
    "import matplotlib.pyplot as plt\n",
    "import torch\n",
    "import torch.nn as nn"
   ]
  },
  {
   "cell_type": "markdown",
   "metadata": {},
   "source": [
    "# Constants"
   ]
  },
  {
   "cell_type": "code",
   "execution_count": 323,
   "metadata": {},
   "outputs": [],
   "source": [
    "seed = 42"
   ]
  },
  {
   "cell_type": "markdown",
   "metadata": {},
   "source": [
    "# Import data"
   ]
  },
  {
   "cell_type": "code",
   "execution_count": 324,
   "metadata": {},
   "outputs": [],
   "source": [
    "# Chemical and Instrumental Assessment of Green Tea Sensory Preference - Y.R. Liang, Q. Ye, J. Jin, H. Liang, J.L. Lu, Y.Y. Du & J.J. Dong\n",
    "# https://doi.org/10.1080/10942910701299430\n",
    "# Notes: downloaded CSVs\n",
    "\n",
    "df_10942910701299430_chemical_composition = pd.read_csv('../data/10942910701299430/chemical_composition.csv', index_col=0, header=1)\n",
    "df_10942910701299430_sensory_evaluation = pd.read_csv('../data/10942910701299430/sensory_evaluation.csv')\n",
    "\n",
    "# Phytochemical Composition and Antioxidant Capacity of 30 Chinese Teas - by Guo-Yi Tang, Cai-Ning Zhao, Xiao-Yu Xu, Ren-You Gan, Shi-Yu Cao, Qing Liu, AoShang, Qian-Qian Mao & Hua-Bin Li\n",
    "# https://doi.org/10.3390/antiox8060180\n",
    "# Notes: Manually scraped data\n",
    "\n",
    "df_antiox8060180_chemical_composition = pd.read_csv('../data/antiox8060180/chemical_composition.csv')\n",
    "\n",
    "# Catechin and caffeine content of tea (Camellia sinensis L.) leaf significantly differ with seasonal variation... - Himangshu Deka, Tupu Barman, Jintu Dutta, Arundhuti Devi, Pradip Tamuly, Ranjit Kumar Paul & Tanmoy Karak \n",
    "# https://doi.org/10.1016/j.jfca.2020.103684\n",
    "# https://krishi.icar.gov.in/jspui/bitstream/123456789/68751/2/S0889157520313892-main.pdf - Free access\n",
    "\n",
    "# df_j.jfca.2020.103684_chemical_composition = pd.read_csv('dava/j.jfca.2020.103684/chemical_composition.csv')\n",
    "\n",
    "# Comparative analysis of tea catechins and theaflavins by high-performance liquid chromatography and capillary electrophoresis - Bee-Lan Lee & Choon-Nam Ong\n",
    "# https://doi.org/10.1016/S0021-9673(00)00215-6\n",
    "# Notes: Manually scraped data\n",
    "\n",
    "df_S0021967300002156 = pd.read_csv('../data/S0021967300002156/chemical_composition.csv')\n",
    "\n",
    "# Survey of Catechins, Gallic Acid, and Methylxanthines in Green, Oolong, Pu-erh, and Black Teas - Jen-Kun Lin, Chih-Li Lin, Yu-Chih Liang, Shoei-Yn Lin-Shiau & I-Ming Juan\n",
    "# https://doi.org/10.1021/jf980223x\n",
    "# Notes: Manually scraped data\n",
    "\n",
    "df_S0021967300002156 = pd.read_csv('../data/jf980223x/chemical_composition.csv')\n"
   ]
  },
  {
   "cell_type": "markdown",
   "metadata": {},
   "source": [
    "# Combine data\n",
    "\n",
    "To combine the data I am going to create a data pipeline that does the following:\n",
    "\n",
    "1. Add all the pandas dataframes to a list.\n",
    "2. Read that list into a function.\n",
    "3. The function reads an individual dataframe from that list then resets the index, rename catechins to be like the catechin dictionary below, drop unused columns, add columns that are part of the standardized column format, and then sorts the columns to be part of the standardized column format.\n",
    "4. The function will then add the dataframe to a list denoting it is processed.\n",
    "5. Once the function has processed all the dataframes in the lists it will loop through the data frames in the finished list and concatenate them.\n",
    "6. The function will return a combined dataframe.\n",
    "\n",
    "## Data Frame Format\n",
    "\n",
    "The data frames will be combined into the following format:\n",
    "\n",
    "- `'Catechin'`\n",
    "- `'Epicatechin'`\n",
    "- `'Gallocatechin'`\n",
    "- `'Epigallocatechin'`\n",
    "- `'Catechin Gallate'`\n",
    "- `'Epicatechin Gallate'`\n",
    "- `'Gallocatechin Gallate'`\n",
    "- `'Epigallocatechin Gallate'`\n",
    "- `'Gallic Acid'`\n",
    "- `'Chlorogenic Acid'`\n",
    "- `'Caffeine'`\n",
    "- `'Taste'`\n",
    "- `'Appearance'`\n",
    "- `'Aroma'`\n",
    "- `'Liqour color'`\n"
   ]
  },
  {
   "cell_type": "code",
   "execution_count": 325,
   "metadata": {},
   "outputs": [],
   "source": [
    "catechin_dictionary = {\n",
    "    'C': 'Catechin',\n",
    "    'EC': 'Epicatechin',\n",
    "    'GC': 'Gallocatechin',\n",
    "    'EGC': 'Epigallocatechin',\n",
    "    'CG': 'Catechin Gallate',\n",
    "    'ECG': 'Epicatechin Gallate',\n",
    "    'GCG': 'Gallocatechin Gallate',\n",
    "    'EGCG': 'Epigallocatechin Gallate'\n",
    "}\n",
    "\n",
    "standardized_columns = [\n",
    "    'Catechin',\n",
    "    'Epicatechin',\n",
    "    'Gallocatechin',\n",
    "    'Epigallocatechin',\n",
    "    'Catechin Gallate',\n",
    "    'Epicatechin Gallate',\n",
    "    'Gallocatechin Gallate',\n",
    "    'Epigallocatechin Gallate',\n",
    "    'Gallic Acid',\n",
    "    'Chlorogenic Acid',\n",
    "    'Caffeine',\n",
    "    'Taste',\n",
    "    'Appearance',\n",
    "    'Aroma',\n",
    "    'Liqour color'\n",
    "]"
   ]
  },
  {
   "cell_type": "code",
   "execution_count": 326,
   "metadata": {},
   "outputs": [],
   "source": [
    "# df_10942910701299430_chemical_composition = df_10942910701299430_chemical_composition.reset_index(drop=1)\n",
    "# # df_10942910701299430_chemical_composition = df_10942910701299430_chemical_composition.drop(columns=['Nitrogen', 'Amino acids', 'Ascorbic acid', 'Polyphenols', 'Total catechins'])\n",
    "# df_10942910701299430_chemical_composition = df_10942910701299430_chemical_composition.rename(columns=catechin_dictionary)\n",
    "# df_10942910701299430_chemical_composition = df_10942910701299430_chemical_composition.drop(columns=[column for column in df_10942910701299430_chemical_composition if column not in standardized_columns])\n",
    "# df_10942910701299430_chemical_composition = df_10942910701299430_chemical_composition.reindex(columns=standardized_columns)"
   ]
  },
  {
   "cell_type": "code",
   "execution_count": 327,
   "metadata": {},
   "outputs": [],
   "source": [
    "def reset_index(dataframe):\n",
    "    return dataframe.reset_index(drop=1)\n",
    "\n",
    "def rename_columns(dataframe):\n",
    "    return dataframe.rename(columns=catechin_dictionary)\n",
    "\n",
    "def drop_nonstandardized_columns(dataframe):\n",
    "    return dataframe.drop(columns=[column for column in df_10942910701299430_chemical_composition if column not in standardized_columns])\n",
    "\n",
    "def reformat_columns(dataframe):\n",
    "    return dataframe.reindex(columns=standardized_columns)"
   ]
  },
  {
   "cell_type": "code",
   "execution_count": 328,
   "metadata": {},
   "outputs": [],
   "source": [
    "from sklearn.pipeline import Pipeline\n",
    "from sklearn.preprocessing import FunctionTransformer\n",
    "\n",
    "ResetIndexTransformer = FunctionTransformer(reset_index)\n",
    "RenameColumnsTransformer = FunctionTransformer(rename_columns)\n",
    "DropNonstandardizedColumnsTransformer = FunctionTransformer(drop_nonstandardized_columns)\n",
    "ReformatColumns = FunctionTransformer(reformat_columns)"
   ]
  },
  {
   "cell_type": "markdown",
   "metadata": {},
   "source": [
    "# Visualize data"
   ]
  },
  {
   "cell_type": "code",
   "execution_count": null,
   "metadata": {},
   "outputs": [],
   "source": []
  },
  {
   "cell_type": "code",
   "execution_count": null,
   "metadata": {},
   "outputs": [],
   "source": []
  },
  {
   "cell_type": "markdown",
   "metadata": {},
   "source": [
    "# Data Wrangling"
   ]
  },
  {
   "cell_type": "code",
   "execution_count": null,
   "metadata": {},
   "outputs": [],
   "source": []
  },
  {
   "cell_type": "markdown",
   "metadata": {},
   "source": [
    "# Training Device"
   ]
  },
  {
   "cell_type": "code",
   "execution_count": 329,
   "metadata": {},
   "outputs": [
    {
     "name": "stdout",
     "output_type": "stream",
     "text": [
      "Using cpu device\n"
     ]
    }
   ],
   "source": [
    "# Get cpu, gpu or mps device for training.\n",
    "device = (\n",
    "    \"cuda\"\n",
    "    if torch.cuda.is_available()\n",
    "    else \"mps\"\n",
    "    if torch.backends.mps.is_available()\n",
    "    else \"cpu\"\n",
    ")\n",
    "print(f\"Using {device} device\")"
   ]
  },
  {
   "cell_type": "markdown",
   "metadata": {},
   "source": [
    "# Generative Adversarial Network"
   ]
  },
  {
   "cell_type": "code",
   "execution_count": 330,
   "metadata": {},
   "outputs": [],
   "source": [
    "class Generator(nn.Module):\n",
    "    def __init__(self, ngpu):\n",
    "            super(Generator, self).__init__()\n",
    "            self.ngpu = ngpu\n",
    "\n",
    "class Discriminator(nn.Module):    \n",
    "    def __init__(self, ngpu):\n",
    "        super(Discriminator, self).__init__()\n",
    "        self.ngpu = ngpu"
   ]
  },
  {
   "cell_type": "markdown",
   "metadata": {},
   "source": [
    "# Split data"
   ]
  },
  {
   "cell_type": "code",
   "execution_count": 331,
   "metadata": {},
   "outputs": [],
   "source": [
    "from torch.utils.data import DataLoader, random_split\n",
    "\n",
    "train_size = int(0.8 * len(df))\n",
    "test_size = len(df) - train_size\n",
    "train_df, test_df = random_split(df, [train_size, test_size])\n",
    "\n",
    "train_loader = DataLoader(train_df, batch_size=64, shuffle=True)\n",
    "test_loader = DataLoader(test_df, batch_size=64, shuffle=True)"
   ]
  },
  {
   "cell_type": "markdown",
   "metadata": {},
   "source": [
    "# Feature Engineering"
   ]
  },
  {
   "cell_type": "code",
   "execution_count": null,
   "metadata": {},
   "outputs": [],
   "source": []
  },
  {
   "cell_type": "markdown",
   "metadata": {},
   "source": [
    "# DBSCAN"
   ]
  },
  {
   "cell_type": "code",
   "execution_count": 332,
   "metadata": {},
   "outputs": [],
   "source": [
    "# Model Creation"
   ]
  },
  {
   "cell_type": "code",
   "execution_count": 333,
   "metadata": {},
   "outputs": [],
   "source": [
    "# Hyperparameter Selection"
   ]
  },
  {
   "cell_type": "code",
   "execution_count": 334,
   "metadata": {},
   "outputs": [],
   "source": [
    "# Model Training"
   ]
  },
  {
   "cell_type": "markdown",
   "metadata": {},
   "source": [
    "# Multilayer Perceptron"
   ]
  },
  {
   "cell_type": "code",
   "execution_count": 335,
   "metadata": {},
   "outputs": [],
   "source": [
    "# Model Creation"
   ]
  },
  {
   "cell_type": "code",
   "execution_count": 336,
   "metadata": {},
   "outputs": [],
   "source": [
    "# Hyperparameter Selection"
   ]
  },
  {
   "cell_type": "code",
   "execution_count": 337,
   "metadata": {},
   "outputs": [],
   "source": [
    "# Model Training"
   ]
  },
  {
   "cell_type": "markdown",
   "metadata": {},
   "source": [
    "# Convolutiontional Neural Network"
   ]
  },
  {
   "cell_type": "code",
   "execution_count": 338,
   "metadata": {},
   "outputs": [],
   "source": [
    "# Model Creation"
   ]
  },
  {
   "cell_type": "code",
   "execution_count": 339,
   "metadata": {},
   "outputs": [],
   "source": [
    "# Hyperparameter Selection\n"
   ]
  },
  {
   "cell_type": "code",
   "execution_count": 340,
   "metadata": {},
   "outputs": [],
   "source": [
    "# Model Training"
   ]
  },
  {
   "cell_type": "markdown",
   "metadata": {},
   "source": [
    "# Model Visualization and Comparison"
   ]
  },
  {
   "cell_type": "code",
   "execution_count": null,
   "metadata": {},
   "outputs": [],
   "source": []
  },
  {
   "cell_type": "markdown",
   "metadata": {},
   "source": [
    "# Export model"
   ]
  },
  {
   "cell_type": "code",
   "execution_count": null,
   "metadata": {},
   "outputs": [],
   "source": []
  }
 ],
 "metadata": {
  "kernelspec": {
   "display_name": "Python 3",
   "language": "python",
   "name": "python3"
  },
  "language_info": {
   "codemirror_mode": {
    "name": "ipython",
    "version": 3
   },
   "file_extension": ".py",
   "mimetype": "text/x-python",
   "name": "python",
   "nbconvert_exporter": "python",
   "pygments_lexer": "ipython3",
   "version": "3.11.6"
  }
 },
 "nbformat": 4,
 "nbformat_minor": 2
}
