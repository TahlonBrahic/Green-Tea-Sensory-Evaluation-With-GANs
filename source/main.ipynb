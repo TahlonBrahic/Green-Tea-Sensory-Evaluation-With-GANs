{
 "cells": [
  {
   "cell_type": "markdown",
   "metadata": {},
   "source": [
    "# Standard Imports"
   ]
  },
  {
   "cell_type": "code",
   "execution_count": 2,
   "metadata": {},
   "outputs": [
    {
     "name": "stderr",
     "output_type": "stream",
     "text": [
      "/tmp/ipykernel_851417/2124984718.py:2: DeprecationWarning: \n",
      "Pyarrow will become a required dependency of pandas in the next major release of pandas (pandas 3.0),\n",
      "(to allow more performant data types, such as the Arrow string type, and better interoperability with other libraries)\n",
      "but was not found to be installed on your system.\n",
      "If this would cause problems for you,\n",
      "please provide us feedback at https://github.com/pandas-dev/pandas/issues/54466\n",
      "        \n",
      "  import pandas as pd\n"
     ]
    }
   ],
   "source": [
    "import numpy as np\n",
    "import pandas as pd\n",
    "import matplotlib.pyplot as plt\n",
    "import seaborn as sns\n",
    "import torch\n",
    "import torch.nn as nn"
   ]
  },
  {
   "cell_type": "markdown",
   "metadata": {},
   "source": [
    "# Constants\n",
    "Listed below is the persistent seed I am choosing to use for this project along with some code to set it in all its instances. There is also some code for some standard column names that will be used many times in this project."
   ]
  },
  {
   "cell_type": "code",
   "execution_count": 3,
   "metadata": {},
   "outputs": [],
   "source": [
    "SEED = 42\n",
    "\n",
    "np.random.seed(SEED)\n",
    "torch.manual_seed(SEED)\n",
    "torch.cuda.manual_seed(SEED)\n",
    "torch.backends.cudnn.deterministic = True\n",
    "\n",
    "catechins = ['Catechin', 'Epicatechin', 'Gallocatechin', 'Epigallocatechin',\n",
    "       'Catechin Gallate', 'Epicatechin Gallate', 'Gallocatechin Gallate',\n",
    "       'Epigallocatechin Gallate']\n",
    "chemicals = ['Catechin', 'Epicatechin', 'Gallocatechin', 'Epigallocatechin',\n",
    "       'Catechin Gallate', 'Epicatechin Gallate', 'Gallocatechin Gallate',\n",
    "       'Epigallocatechin Gallate', 'Caffeine']\n",
    "sensory_evaluations = ['Taste','Appearance','Aroma','Liqour color','Infused leaf']"
   ]
  },
  {
   "cell_type": "markdown",
   "metadata": {},
   "source": [
    "# Import data\n",
    "This data is collected from a wide range of academic articles which bulk work consists of tea-catechins or sensory appeal."
   ]
  },
  {
   "cell_type": "code",
   "execution_count": 4,
   "metadata": {},
   "outputs": [],
   "source": [
    "# Chemical and Instrumental Assessment of Green Tea Sensory Preference - Y.R. Liang, Q. Ye, J. Jin, H. Liang, J.L. Lu, Y.Y. Du & J.J. Dong\n",
    "# https://doi.org/10.1080/10942910701299430\n",
    "# Notes: downloaded CSVs\n",
    "\n",
    "df_10942910701299430 = pd.read_csv('../data/10942910701299430/chemical_composition.csv', header=1)\n",
    "df_10942910701299430 = pd.concat([df_10942910701299430, pd.read_csv('../data/10942910701299430/sensory_evaluation.csv')], axis=1)\n",
    "\n",
    "# Phytochemical Composition and Antioxidant Capacity of 30 Chinese Teas - by Guo-Yi Tang, Cai-Ning Zhao, Xiao-Yu Xu, Ren-You Gan, Shi-Yu Cao, Qing Liu, AoShang, Qian-Qian Mao & Hua-Bin Li\n",
    "# https://doi.org/10.3390/antiox8060180\n",
    "# Notes: Manually scraped data\n",
    "\n",
    "df_antiox8060180 = pd.read_csv('../data/antiox8060180/chemical_composition.csv')\n",
    "\n",
    "# Catechin and caffeine content of tea (Camellia sinensis L.) leaf significantly differ with seasonal variation... - Himangshu Deka, Tupu Barman, Jintu Dutta, Arundhuti Devi, Pradip Tamuly, Ranjit Kumar Paul & Tanmoy Karak \n",
    "# https://doi.org/10.1016/j.jfca.2020.103684\n",
    "# https://krishi.icar.gov.in/jspui/bitstream/123456789/68751/2/S0889157520313892-main.pdf - Free access\n",
    "\n",
    "# df_j.jfca.2020.103684_chemical_composition = pd.read_csv('dava/j.jfca.2020.103684/chemical_composition.csv')\n",
    "\n",
    "# Comparative analysis of tea catechins and theaflavins by high-performance liquid chromatography and capillary electrophoresis - Bee-Lan Lee & Choon-Nam Ong\n",
    "# https://doi.org/10.1016/S0021-9673(00)00215-6\n",
    "# Notes: Manually scraped data\n",
    "\n",
    "df_S0021967300002156 = pd.read_csv('../data/S0021967300002156/chemical_composition.csv')\n",
    "\n",
    "# Survey of Catechins, Gallic Acid, and Methylxanthines in Green, Oolong, Pu-erh, and Black Teas - Jen-Kun Lin, Chih-Li Lin, Yu-Chih Liang, Shoei-Yn Lin-Shiau & I-Ming Juan\n",
    "# https://doi.org/10.1021/jf980223x\n",
    "# Notes: Manually scraped data\n",
    "\n",
    "df_jf980223x = pd.read_csv('../data/jf980223x/chemical_composition.csv')\n",
    "\n",
    "# Analysis of some selected catechins and caffeine in green tea by high performance liquid chromatography\n",
    "# https://doi.org/10.1016/j.foodchem.2012.03.039\n",
    "# Notes: Manually scraped data\n",
    "\n",
    "df_jfoodchem201203039 = pd.read_csv('../data/jfoodchem201203039/chemical_composition.csv', on_bad_lines='skip')\n",
    "\n",
    "# Catechin content of 18 teas and a green tea extract supplement correlates with the antioxidant capacity \n",
    "# https://doi.org/10.1207/S15327914NC4502_13\n",
    "# Notes: Manually scraped data\n",
    "\n",
    "df_15327914NC4502_13 = pd.read_csv('../data/15327914NC4502_13/chemical_composition.csv')\n",
    "\n",
    "# Catechin contents in tea (Camellia sinensis) as affected by cultivar and environment and their relation to chlorophyll contents\n",
    "# https://doi.org/10.1016/j.foodchem.2010.08.029\n",
    "# Notes: Manually scraped data\n",
    "\n",
    "df_jfoodchem201008029 = pd.read_csv('../data/jfoodchem201008029/chemical_composition.csv')\n",
    "\n",
    "# Analysis of Catechin Content of Commercial Green Tea Products\n",
    "# https://doi.org/10.1080/J157v03n03_03\n",
    "# Notes: Manually scraped data\n",
    "\n",
    "df_J157v03n03_03 = pd.read_csv('../data/J157v03n03_03/chemical_composition.csv')\n",
    "\n",
    "# Phenol-Explorer database scraping\n",
    "# phenol-explorer.eu\n",
    "# Notes: Manually scraped data\n",
    "\n",
    "df_phenol_explorer = pd.read_csv('../data/phenol_explorer/chemical_composition.csv')"
   ]
  },
  {
   "cell_type": "code",
   "execution_count": 5,
   "metadata": {},
   "outputs": [],
   "source": [
    "# List of all imported dataframes\n",
    "all_dataframes = [df_10942910701299430,\n",
    "                  df_antiox8060180,\n",
    "                  df_S0021967300002156,\n",
    "                  df_jf980223x,\n",
    "                  df_jfoodchem201203039,\n",
    "                  df_15327914NC4502_13,\n",
    "                  df_phenol_explorer]"
   ]
  },
  {
   "cell_type": "markdown",
   "metadata": {},
   "source": [
    "# Combine data\n",
    "\n",
    "To combine the data I am going to create a data pipeline that does the following:\n",
    "\n",
    "1. Add all the pandas dataframes to a list.\n",
    "2. Read that list into a function.\n",
    "3. The function reads an individual dataframe from that list then resets the index, rename catechins to be like the catechin dictionary below, drop unused columns, add columns that are part of the standardized column format, and then sorts the columns to be part of the standardized column format.\n",
    "4. The function will then add the dataframe to a list denoting it is processed.\n",
    "5. Once the function has processed all the dataframes in the lists it will loop through the data frames in the finished list and concatenate them.\n",
    "6. The function will return a combined dataframe.\n",
    "\n",
    "## Data Frame Format\n",
    "\n",
    "The data frames will be combined into the following format:\n",
    "\n",
    "- `'Catechin'`\n",
    "- `'Epicatechin'`\n",
    "- `'Gallocatechin'`\n",
    "- `'Epigallocatechin'`\n",
    "- `'Catechin Gallate'`\n",
    "- `'Epicatechin Gallate'`\n",
    "- `'Gallocatechin Gallate'`\n",
    "- `'Epigallocatechin Gallate'`\n",
    "- `'Gallic Acid'`\n",
    "- `'Chlorogenic Acid'`\n",
    "- `'Caffeine'`\n",
    "- `'Taste'`\n",
    "- `'Appearance'`\n",
    "- `'Aroma'`\n",
    "- `'Liqour color'`\n"
   ]
  },
  {
   "cell_type": "code",
   "execution_count": 6,
   "metadata": {},
   "outputs": [],
   "source": [
    "catechin_dictionary = {\n",
    "    'C': 'Catechin',\n",
    "    'EC': 'Epicatechin',\n",
    "    'GC': 'Gallocatechin',\n",
    "    'EGC': 'Epigallocatechin',\n",
    "    'CG': 'Catechin Gallate',\n",
    "    'ECG': 'Epicatechin Gallate',\n",
    "    'GCG': 'Gallocatechin Gallate',\n",
    "    'EGCG': 'Epigallocatechin Gallate'\n",
    "}\n",
    "\n",
    "standardized_columns = [\n",
    "    'Catechin',\n",
    "    'Epicatechin',\n",
    "    'Gallocatechin',\n",
    "    'Epigallocatechin',\n",
    "    'Catechin Gallate',\n",
    "    'Epicatechin Gallate',\n",
    "    'Gallocatechin Gallate',\n",
    "    'Epigallocatechin Gallate',\n",
    "    'Caffeine',\n",
    "    'Taste',\n",
    "    'Appearance',\n",
    "    'Aroma',\n",
    "    'Liqour color',\n",
    "    'Infused leaf'\n",
    "]"
   ]
  },
  {
   "cell_type": "markdown",
   "metadata": {},
   "source": [
    "To faciliate scability I am create a sklearn pipeline and process all my data to be concatenated.\n",
    "First I will define the functions that will go into my data preprocessing pipeline."
   ]
  },
  {
   "cell_type": "code",
   "execution_count": 7,
   "metadata": {},
   "outputs": [],
   "source": [
    "def reset_index(dataframe: pd.DataFrame):\n",
    "    return dataframe.reset_index(drop=1)\n",
    "\n",
    "def rename_columns(dataframe: pd.DataFrame):\n",
    "    return dataframe.rename(columns=catechin_dictionary)\n",
    "\n",
    "def drop_nonstandardized_columns(dataframe: pd.DataFrame):\n",
    "    return dataframe.drop(columns=[column for column in dataframe if column not in standardized_columns])\n",
    "\n",
    "def reformat_columns(dataframe: pd.DataFrame):\n",
    "    return dataframe.reindex(columns=standardized_columns)\n",
    "\n",
    "def remove_standard_deviation_format(dataframe: pd.DataFrame):\n",
    "    for column in dataframe.columns:\n",
    "        if (dataframe[column].dtype.name == 'object') or (dataframe[column].dtype.name == 'string'):\n",
    "            dataframe[column] = dataframe[column].str.replace('± \\d*.\\d*', '', regex=True)\n",
    "    return dataframe    "
   ]
  },
  {
   "cell_type": "markdown",
   "metadata": {},
   "source": [
    "Next, the data pipeline applies all of those functions to the inputed dataset."
   ]
  },
  {
   "cell_type": "code",
   "execution_count": 8,
   "metadata": {},
   "outputs": [],
   "source": [
    "from sklearn.pipeline import make_pipeline\n",
    "from sklearn.preprocessing import FunctionTransformer\n",
    "\n",
    "ResetIndexTransformer = FunctionTransformer(reset_index)\n",
    "RenameColumnsTransformer = FunctionTransformer(rename_columns)\n",
    "DropNonstandardizedColumnsTransformer = FunctionTransformer(drop_nonstandardized_columns)\n",
    "ReformatColumnsTransformer = FunctionTransformer(reformat_columns)\n",
    "RemoveStandardDeviationFormat = FunctionTransformer(remove_standard_deviation_format)\n",
    "\n",
    "data_combining_pipeline = make_pipeline(\n",
    "    ResetIndexTransformer,\n",
    "    RenameColumnsTransformer,\n",
    "    DropNonstandardizedColumnsTransformer,\n",
    "    ReformatColumnsTransformer,\n",
    "    RemoveStandardDeviationFormat\n",
    ")"
   ]
  },
  {
   "cell_type": "markdown",
   "metadata": {},
   "source": [
    "Now I am creating a pipeline that transforms each dataframe then concatenates it and returns one dataframe to be used for the model."
   ]
  },
  {
   "cell_type": "code",
   "execution_count": 9,
   "metadata": {},
   "outputs": [],
   "source": [
    "def process_dataframes(dataframes: list):\n",
    "    processed_dataframes = []\n",
    "    for dataframe in dataframes:\n",
    "        dataframe = data_combining_pipeline.fit_transform(dataframe)\n",
    "        processed_dataframes.append(dataframe)\n",
    "    return processed_dataframes\n",
    "\n",
    "def concatenate_dataframes(dataframes: list):\n",
    "    formated_dataframe = pd.concat(dataframes, ignore_index=True)\n",
    "    return formated_dataframe\n",
    "\n",
    "def change_dtypes(dataframe: pd.DataFrame):\n",
    "    for column in dataframe.columns:\n",
    "        dataframe[column] = pd.to_numeric(dataframe[column], errors='coerce')\n",
    "    return dataframe"
   ]
  },
  {
   "cell_type": "code",
   "execution_count": 10,
   "metadata": {},
   "outputs": [],
   "source": [
    "ProcessDataframes = FunctionTransformer(process_dataframes)\n",
    "ConcatenateDataframes = FunctionTransformer(concatenate_dataframes)\n",
    "Change_Dtypes = FunctionTransformer(change_dtypes)\n",
    "\n",
    "data_combining_pipeline_processor = make_pipeline(\n",
    "    ProcessDataframes,\n",
    "    ConcatenateDataframes,\n",
    "    Change_Dtypes\n",
    ")"
   ]
  },
  {
   "cell_type": "code",
   "execution_count": 11,
   "metadata": {},
   "outputs": [
    {
     "data": {
      "text/html": [
       "<div>\n",
       "<style scoped>\n",
       "    .dataframe tbody tr th:only-of-type {\n",
       "        vertical-align: middle;\n",
       "    }\n",
       "\n",
       "    .dataframe tbody tr th {\n",
       "        vertical-align: top;\n",
       "    }\n",
       "\n",
       "    .dataframe thead th {\n",
       "        text-align: right;\n",
       "    }\n",
       "</style>\n",
       "<table border=\"1\" class=\"dataframe\">\n",
       "  <thead>\n",
       "    <tr style=\"text-align: right;\">\n",
       "      <th></th>\n",
       "      <th>Catechin</th>\n",
       "      <th>Epicatechin</th>\n",
       "      <th>Gallocatechin</th>\n",
       "      <th>Epigallocatechin</th>\n",
       "      <th>Catechin Gallate</th>\n",
       "      <th>Epicatechin Gallate</th>\n",
       "      <th>Gallocatechin Gallate</th>\n",
       "      <th>Epigallocatechin Gallate</th>\n",
       "      <th>Caffeine</th>\n",
       "      <th>Taste</th>\n",
       "      <th>Appearance</th>\n",
       "      <th>Aroma</th>\n",
       "      <th>Liqour color</th>\n",
       "      <th>Infused leaf</th>\n",
       "    </tr>\n",
       "  </thead>\n",
       "  <tbody>\n",
       "    <tr>\n",
       "      <th>0</th>\n",
       "      <td>8.93</td>\n",
       "      <td>7.04</td>\n",
       "      <td>8.36</td>\n",
       "      <td>18.00</td>\n",
       "      <td>3.72</td>\n",
       "      <td>4.66</td>\n",
       "      <td>21.50</td>\n",
       "      <td>21.11</td>\n",
       "      <td>31.47</td>\n",
       "      <td>23.1</td>\n",
       "      <td>7.9</td>\n",
       "      <td>23.1</td>\n",
       "      <td>8.1</td>\n",
       "      <td>15.2</td>\n",
       "    </tr>\n",
       "    <tr>\n",
       "      <th>1</th>\n",
       "      <td>9.87</td>\n",
       "      <td>NaN</td>\n",
       "      <td>22.55</td>\n",
       "      <td>10.92</td>\n",
       "      <td>5.33</td>\n",
       "      <td>5.29</td>\n",
       "      <td>26.62</td>\n",
       "      <td>23.42</td>\n",
       "      <td>39.24</td>\n",
       "      <td>25.8</td>\n",
       "      <td>8.1</td>\n",
       "      <td>24.9</td>\n",
       "      <td>8.3</td>\n",
       "      <td>16.4</td>\n",
       "    </tr>\n",
       "    <tr>\n",
       "      <th>2</th>\n",
       "      <td>6.37</td>\n",
       "      <td>4.92</td>\n",
       "      <td>21.87</td>\n",
       "      <td>10.98</td>\n",
       "      <td>5.29</td>\n",
       "      <td>5.43</td>\n",
       "      <td>24.84</td>\n",
       "      <td>23.63</td>\n",
       "      <td>41.08</td>\n",
       "      <td>23.7</td>\n",
       "      <td>7.8</td>\n",
       "      <td>23.7</td>\n",
       "      <td>7.6</td>\n",
       "      <td>15.8</td>\n",
       "    </tr>\n",
       "    <tr>\n",
       "      <th>3</th>\n",
       "      <td>6.78</td>\n",
       "      <td>5.91</td>\n",
       "      <td>23.08</td>\n",
       "      <td>11.47</td>\n",
       "      <td>5.76</td>\n",
       "      <td>6.43</td>\n",
       "      <td>25.34</td>\n",
       "      <td>22.14</td>\n",
       "      <td>50.97</td>\n",
       "      <td>23.7</td>\n",
       "      <td>8.3</td>\n",
       "      <td>24.0</td>\n",
       "      <td>8.6</td>\n",
       "      <td>16.6</td>\n",
       "    </tr>\n",
       "    <tr>\n",
       "      <th>4</th>\n",
       "      <td>5.82</td>\n",
       "      <td>5.60</td>\n",
       "      <td>24.12</td>\n",
       "      <td>13.35</td>\n",
       "      <td>5.28</td>\n",
       "      <td>5.94</td>\n",
       "      <td>27.92</td>\n",
       "      <td>25.09</td>\n",
       "      <td>53.70</td>\n",
       "      <td>24.6</td>\n",
       "      <td>8.2</td>\n",
       "      <td>26.4</td>\n",
       "      <td>8.5</td>\n",
       "      <td>16.6</td>\n",
       "    </tr>\n",
       "  </tbody>\n",
       "</table>\n",
       "</div>"
      ],
      "text/plain": [
       "   Catechin  Epicatechin  Gallocatechin  Epigallocatechin  Catechin Gallate  \\\n",
       "0      8.93         7.04           8.36             18.00              3.72   \n",
       "1      9.87          NaN          22.55             10.92              5.33   \n",
       "2      6.37         4.92          21.87             10.98              5.29   \n",
       "3      6.78         5.91          23.08             11.47              5.76   \n",
       "4      5.82         5.60          24.12             13.35              5.28   \n",
       "\n",
       "   Epicatechin Gallate  Gallocatechin Gallate  Epigallocatechin Gallate  \\\n",
       "0                 4.66                  21.50                     21.11   \n",
       "1                 5.29                  26.62                     23.42   \n",
       "2                 5.43                  24.84                     23.63   \n",
       "3                 6.43                  25.34                     22.14   \n",
       "4                 5.94                  27.92                     25.09   \n",
       "\n",
       "   Caffeine  Taste  Appearance  Aroma  Liqour color  Infused leaf  \n",
       "0     31.47   23.1         7.9   23.1           8.1          15.2  \n",
       "1     39.24   25.8         8.1   24.9           8.3          16.4  \n",
       "2     41.08   23.7         7.8   23.7           7.6          15.8  \n",
       "3     50.97   23.7         8.3   24.0           8.6          16.6  \n",
       "4     53.70   24.6         8.2   26.4           8.5          16.6  "
      ]
     },
     "execution_count": 11,
     "metadata": {},
     "output_type": "execute_result"
    }
   ],
   "source": [
    "df = data_combining_pipeline_processor.transform(all_dataframes)\n",
    "df.head()"
   ]
  },
  {
   "cell_type": "markdown",
   "metadata": {},
   "source": [
    "# Remove Extraneous Data\n",
    "It is common for this aggregated dataset to come with columns that contain no data at all, that will be removed here."
   ]
  },
  {
   "cell_type": "code",
   "execution_count": 12,
   "metadata": {},
   "outputs": [],
   "source": [
    "df = df.dropna(how='all', axis=0)"
   ]
  },
  {
   "cell_type": "markdown",
   "metadata": {},
   "source": [
    "# Data Explanation\n",
    "\n",
    "The data we will be examining and training on is purely numerical. This has many advantages in terms of cleaning and training but a few disadvantages that may not be readily appearant. The catechins and caffeine are all listed in milligrams. What is taste, appearance, aroma, and liquor color measured in? Milligrams? No, instead it is much more complicated. Thankfully this is a pretty standardized tea tasting scoring system throughout China so most of our data will reflect that, any data that does not reflect that will be modified into this scoring system. The scoring system is outlined below:\n",
    "\n",
    "\n",
    "    Scoring System: They used a scoring system where the highest possible score for a tea sample was 100. This score was divided into different categories, each representing a different aspect of the tea:\n",
    "        Dry Tea Appearance (10% of the total score): This is about how the tea leaves look when they are dry. The experts looked at the color, size, how tender the leaves were, and how evenly the leaves were twisted.\n",
    "        Aroma (30% of the total score): This is about how the tea smells.\n",
    "        Liquor Color (10% of the total score): This is about the color of the tea when it's steeped in water.\n",
    "        Taste (30% of the total score): This is, of course, about how the tea tastes.\n",
    "        Infused Leaf (20% of the total score): After the tea has been steeped, the experts looked at the leaves again to see their color, size, tenderness, and evenness.\n",
    "\n",
    "    How They Tested:\n",
    "        Dry Tea Appearance: They placed 200 grams of dry tea on a wooden tray (20 cm x 20 cm) and scored it based on the criteria mentioned above.\n",
    "        Preparing the Tea: For testing aroma, liquor color, and taste, they steeped 3 grams of the tea in 150 milliliters of boiling water for 5 minutes.\n",
    "        Tasting and Scoring: The tea was then poured into a special tasting bowl. The experts compared the aroma, color, and taste of the tea to three reference samples they had in their lab to give their scores.\n",
    "        Infused Leaf: Finally, they put the steeped leaves into a porcelain tray with cold water and scored them based on color, size, tenderness, and evenness.\n",
    "\n"
   ]
  },
  {
   "cell_type": "markdown",
   "metadata": {},
   "source": [
    "# Exploratory Data Analysis\n",
    "\n",
    "This pairplot offers a high-level visualization of what is going on internally in the dataset. Next, we will examine further the intricacies of the data before cleaning it further and imputing data using a Generative Adversarial Network."
   ]
  },
  {
   "cell_type": "code",
   "execution_count": 13,
   "metadata": {},
   "outputs": [
    {
     "data": {
      "text/plain": [
       "<seaborn.axisgrid.PairGrid at 0x7758f2bb5b50>"
      ]
     },
     "execution_count": 13,
     "metadata": {},
     "output_type": "execute_result"
    },
    {
     "data": {
      "image/png": "[encoded data removed]",
      "text/plain": [
       "<Figure size 2000x2000 with 72 Axes>"
      ]
     },
     "metadata": {},
     "output_type": "display_data"
    }
   ],
   "source": [
    "sns.set_theme()\n",
    "sns.pairplot(df[catechins])"
   ]
  },
  {
   "cell_type": "markdown",
   "metadata": {},
   "source": [
    "# Summary Statistics\n",
    "\n",
    "The summary statistics of the agggregated data is displayed below. It is interesting to note that there are some significant outliers. One such outlier is Epigallocatechin with a max of aroun 100mg."
   ]
  },
  {
   "cell_type": "code",
   "execution_count": 14,
   "metadata": {},
   "outputs": [
    {
     "data": {
      "text/html": [
       "<div>\n",
       "<style scoped>\n",
       "    .dataframe tbody tr th:only-of-type {\n",
       "        vertical-align: middle;\n",
       "    }\n",
       "\n",
       "    .dataframe tbody tr th {\n",
       "        vertical-align: top;\n",
       "    }\n",
       "\n",
       "    .dataframe thead th {\n",
       "        text-align: right;\n",
       "    }\n",
       "</style>\n",
       "<table border=\"1\" class=\"dataframe\">\n",
       "  <thead>\n",
       "    <tr style=\"text-align: right;\">\n",
       "      <th></th>\n",
       "      <th>Catechin</th>\n",
       "      <th>Epicatechin</th>\n",
       "      <th>Gallocatechin</th>\n",
       "      <th>Epigallocatechin</th>\n",
       "      <th>Catechin Gallate</th>\n",
       "      <th>Epicatechin Gallate</th>\n",
       "      <th>Gallocatechin Gallate</th>\n",
       "      <th>Epigallocatechin Gallate</th>\n",
       "      <th>Caffeine</th>\n",
       "      <th>Taste</th>\n",
       "      <th>Appearance</th>\n",
       "      <th>Aroma</th>\n",
       "      <th>Liqour color</th>\n",
       "      <th>Infused leaf</th>\n",
       "    </tr>\n",
       "  </thead>\n",
       "  <tbody>\n",
       "    <tr>\n",
       "      <th>count</th>\n",
       "      <td>88.000000</td>\n",
       "      <td>126.000000</td>\n",
       "      <td>38.000000</td>\n",
       "      <td>140.000000</td>\n",
       "      <td>34.000000</td>\n",
       "      <td>122.000000</td>\n",
       "      <td>96.000000</td>\n",
       "      <td>103.000000</td>\n",
       "      <td>77.000000</td>\n",
       "      <td>24.000000</td>\n",
       "      <td>24.000000</td>\n",
       "      <td>24.000000</td>\n",
       "      <td>24.000000</td>\n",
       "      <td>24.000000</td>\n",
       "    </tr>\n",
       "    <tr>\n",
       "      <th>mean</th>\n",
       "      <td>3.224205</td>\n",
       "      <td>9.201770</td>\n",
       "      <td>15.676895</td>\n",
       "      <td>15.351629</td>\n",
       "      <td>6.136618</td>\n",
       "      <td>8.033852</td>\n",
       "      <td>11.115458</td>\n",
       "      <td>25.658369</td>\n",
       "      <td>22.670130</td>\n",
       "      <td>24.275000</td>\n",
       "      <td>7.937500</td>\n",
       "      <td>24.545833</td>\n",
       "      <td>8.241667</td>\n",
       "      <td>16.433333</td>\n",
       "    </tr>\n",
       "    <tr>\n",
       "      <th>std</th>\n",
       "      <td>3.625484</td>\n",
       "      <td>13.214851</td>\n",
       "      <td>10.256015</td>\n",
       "      <td>19.894685</td>\n",
       "      <td>4.274245</td>\n",
       "      <td>10.327908</td>\n",
       "      <td>19.198973</td>\n",
       "      <td>32.623663</td>\n",
       "      <td>20.182393</td>\n",
       "      <td>1.506291</td>\n",
       "      <td>0.436201</td>\n",
       "      <td>1.601352</td>\n",
       "      <td>0.461488</td>\n",
       "      <td>0.856010</td>\n",
       "    </tr>\n",
       "    <tr>\n",
       "      <th>min</th>\n",
       "      <td>0.001000</td>\n",
       "      <td>0.000000</td>\n",
       "      <td>0.000000</td>\n",
       "      <td>0.010000</td>\n",
       "      <td>0.300000</td>\n",
       "      <td>0.070000</td>\n",
       "      <td>0.100000</td>\n",
       "      <td>0.300000</td>\n",
       "      <td>0.558000</td>\n",
       "      <td>22.200000</td>\n",
       "      <td>6.800000</td>\n",
       "      <td>22.200000</td>\n",
       "      <td>7.300000</td>\n",
       "      <td>14.800000</td>\n",
       "    </tr>\n",
       "    <tr>\n",
       "      <th>25%</th>\n",
       "      <td>0.020000</td>\n",
       "      <td>1.020000</td>\n",
       "      <td>3.458250</td>\n",
       "      <td>0.837750</td>\n",
       "      <td>4.445000</td>\n",
       "      <td>1.610000</td>\n",
       "      <td>0.260000</td>\n",
       "      <td>8.380000</td>\n",
       "      <td>1.970000</td>\n",
       "      <td>23.325000</td>\n",
       "      <td>7.800000</td>\n",
       "      <td>23.325000</td>\n",
       "      <td>7.950000</td>\n",
       "      <td>15.800000</td>\n",
       "    </tr>\n",
       "    <tr>\n",
       "      <th>50%</th>\n",
       "      <td>2.220000</td>\n",
       "      <td>5.325000</td>\n",
       "      <td>21.380000</td>\n",
       "      <td>10.420000</td>\n",
       "      <td>5.755000</td>\n",
       "      <td>5.090000</td>\n",
       "      <td>3.400000</td>\n",
       "      <td>21.110000</td>\n",
       "      <td>16.300000</td>\n",
       "      <td>23.850000</td>\n",
       "      <td>7.950000</td>\n",
       "      <td>24.400000</td>\n",
       "      <td>8.300000</td>\n",
       "      <td>16.400000</td>\n",
       "    </tr>\n",
       "    <tr>\n",
       "      <th>75%</th>\n",
       "      <td>5.777500</td>\n",
       "      <td>8.672500</td>\n",
       "      <td>23.017500</td>\n",
       "      <td>22.450000</td>\n",
       "      <td>7.195000</td>\n",
       "      <td>9.852500</td>\n",
       "      <td>23.290000</td>\n",
       "      <td>31.005000</td>\n",
       "      <td>41.080000</td>\n",
       "      <td>25.275000</td>\n",
       "      <td>8.125000</td>\n",
       "      <td>25.875000</td>\n",
       "      <td>8.525000</td>\n",
       "      <td>16.900000</td>\n",
       "    </tr>\n",
       "    <tr>\n",
       "      <th>max</th>\n",
       "      <td>16.540000</td>\n",
       "      <td>73.890000</td>\n",
       "      <td>32.020000</td>\n",
       "      <td>100.684000</td>\n",
       "      <td>22.000000</td>\n",
       "      <td>72.000000</td>\n",
       "      <td>150.900000</td>\n",
       "      <td>285.100000</td>\n",
       "      <td>58.830000</td>\n",
       "      <td>27.600000</td>\n",
       "      <td>8.800000</td>\n",
       "      <td>27.600000</td>\n",
       "      <td>8.900000</td>\n",
       "      <td>17.800000</td>\n",
       "    </tr>\n",
       "  </tbody>\n",
       "</table>\n",
       "</div>"
      ],
      "text/plain": [
       "        Catechin  Epicatechin  Gallocatechin  Epigallocatechin  \\\n",
       "count  88.000000   126.000000      38.000000        140.000000   \n",
       "mean    3.224205     9.201770      15.676895         15.351629   \n",
       "std     3.625484    13.214851      10.256015         19.894685   \n",
       "min     0.001000     0.000000       0.000000          0.010000   \n",
       "25%     0.020000     1.020000       3.458250          0.837750   \n",
       "50%     2.220000     5.325000      21.380000         10.420000   \n",
       "75%     5.777500     8.672500      23.017500         22.450000   \n",
       "max    16.540000    73.890000      32.020000        100.684000   \n",
       "\n",
       "       Catechin Gallate  Epicatechin Gallate  Gallocatechin Gallate  \\\n",
       "count         34.000000           122.000000              96.000000   \n",
       "mean           6.136618             8.033852              11.115458   \n",
       "std            4.274245            10.327908              19.198973   \n",
       "min            0.300000             0.070000               0.100000   \n",
       "25%            4.445000             1.610000               0.260000   \n",
       "50%            5.755000             5.090000               3.400000   \n",
       "75%            7.195000             9.852500              23.290000   \n",
       "max           22.000000            72.000000             150.900000   \n",
       "\n",
       "       Epigallocatechin Gallate   Caffeine      Taste  Appearance      Aroma  \\\n",
       "count                103.000000  77.000000  24.000000   24.000000  24.000000   \n",
       "mean                  25.658369  22.670130  24.275000    7.937500  24.545833   \n",
       "std                   32.623663  20.182393   1.506291    0.436201   1.601352   \n",
       "min                    0.300000   0.558000  22.200000    6.800000  22.200000   \n",
       "25%                    8.380000   1.970000  23.325000    7.800000  23.325000   \n",
       "50%                   21.110000  16.300000  23.850000    7.950000  24.400000   \n",
       "75%                   31.005000  41.080000  25.275000    8.125000  25.875000   \n",
       "max                  285.100000  58.830000  27.600000    8.800000  27.600000   \n",
       "\n",
       "       Liqour color  Infused leaf  \n",
       "count     24.000000     24.000000  \n",
       "mean       8.241667     16.433333  \n",
       "std        0.461488      0.856010  \n",
       "min        7.300000     14.800000  \n",
       "25%        7.950000     15.800000  \n",
       "50%        8.300000     16.400000  \n",
       "75%        8.525000     16.900000  \n",
       "max        8.900000     17.800000  "
      ]
     },
     "execution_count": 14,
     "metadata": {},
     "output_type": "execute_result"
    }
   ],
   "source": [
    "df.describe()"
   ]
  },
  {
   "cell_type": "markdown",
   "metadata": {},
   "source": [
    "# Training Device\n",
    "\n",
    "As I am developing on Linux and training on Windows, this code displays if CUDA functionality is being used or not."
   ]
  },
  {
   "cell_type": "code",
   "execution_count": 15,
   "metadata": {},
   "outputs": [
    {
     "name": "stdout",
     "output_type": "stream",
     "text": [
      "Using cuda device\n"
     ]
    }
   ],
   "source": [
    "# Get cpu, gpu or mps device for training.\n",
    "device = (\n",
    "    \"cuda\"\n",
    "    if torch.cuda.is_available()\n",
    "    else \"mps\"\n",
    "    if torch.backends.mps.is_available()\n",
    "    else \"cpu\"\n",
    ")\n",
    "print(f\"Using {device} device\")"
   ]
  },
  {
   "cell_type": "markdown",
   "metadata": {},
   "source": [
    "# Split data\n",
    "\n",
    "For this model we will not be using a validation set because of the limited nature of the data."
   ]
  },
  {
   "cell_type": "code",
   "execution_count": 16,
   "metadata": {},
   "outputs": [],
   "source": [
    "from sklearn.model_selection import train_test_split\n",
    "\n",
    "train_df, test_df = train_test_split(df, test_size=0.2)"
   ]
  },
  {
   "cell_type": "markdown",
   "metadata": {},
   "source": [
    "# Data Imputation and Scaling\n",
    "\n",
    "The data imputation for this aggregated dataset will be done in two parts:\n",
    "\n",
    "1. **Chemicals Imputation**:\n",
    "   - The chemicals will be imputed using sklearn's `SimpleImputer`.\n",
    "\n",
    "2. **Min-Max Scaler**:\n",
    "   - A min-max scaler will be applied so the GAN can learn features correctly.\n",
    "\n",
    "3. **Sensory Appeals Generation**:\n",
    "   - The sensory appeals will be generated by a custom `Generative Adversarial Network (GAN)`.\n"
   ]
  },
  {
   "cell_type": "markdown",
   "metadata": {},
   "source": [
    "### Missing Chemical Imputation with an Iterative Imputer\n",
    "Note this is causing some negative values that need to be fixed, possibly rows with complete missing data is causing this."
   ]
  },
  {
   "cell_type": "code",
   "execution_count": 17,
   "metadata": {},
   "outputs": [
    {
     "name": "stdout",
     "output_type": "stream",
     "text": [
      "[IterativeImputer] Completing matrix with shape (116, 9)\n",
      "[IterativeImputer] Ending imputation round 1/100, elapsed time 0.01\n",
      "[IterativeImputer] Change: 81.40064712552831, scaled tolerance: 0.100684 \n",
      "[IterativeImputer] Ending imputation round 2/100, elapsed time 0.02\n",
      "[IterativeImputer] Change: 28.491577138549104, scaled tolerance: 0.100684 \n",
      "[IterativeImputer] Ending imputation round 3/100, elapsed time 0.02\n",
      "[IterativeImputer] Change: 15.496270059340068, scaled tolerance: 0.100684 \n",
      "[IterativeImputer] Ending imputation round 4/100, elapsed time 0.03\n",
      "[IterativeImputer] Change: 13.127900795782958, scaled tolerance: 0.100684 \n",
      "[IterativeImputer] Ending imputation round 5/100, elapsed time 0.04\n",
      "[IterativeImputer] Change: 12.732544527051347, scaled tolerance: 0.100684 \n",
      "[IterativeImputer] Ending imputation round 6/100, elapsed time 0.04\n",
      "[IterativeImputer] Change: 12.632513428954812, scaled tolerance: 0.100684 \n",
      "[IterativeImputer] Ending imputation round 7/100, elapsed time 0.05\n",
      "[IterativeImputer] Change: 10.420386131262664, scaled tolerance: 0.100684 \n",
      "[IterativeImputer] Ending imputation round 8/100, elapsed time 0.06\n",
      "[IterativeImputer] Change: 12.198109918118476, scaled tolerance: 0.100684 \n",
      "[IterativeImputer] Ending imputation round 9/100, elapsed time 0.06\n",
      "[IterativeImputer] Change: 12.54633847200986, scaled tolerance: 0.100684 \n",
      "[IterativeImputer] Ending imputation round 10/100, elapsed time 0.07\n",
      "[IterativeImputer] Change: 13.68012351406614, scaled tolerance: 0.100684 \n",
      "[IterativeImputer] Ending imputation round 11/100, elapsed time 0.07\n",
      "[IterativeImputer] Change: 12.685908808783212, scaled tolerance: 0.100684 \n",
      "[IterativeImputer] Ending imputation round 12/100, elapsed time 0.08\n",
      "[IterativeImputer] Change: 9.897322443504997, scaled tolerance: 0.100684 \n",
      "[IterativeImputer] Ending imputation round 13/100, elapsed time 0.09\n",
      "[IterativeImputer] Change: 12.343074418893538, scaled tolerance: 0.100684 \n",
      "[IterativeImputer] Ending imputation round 14/100, elapsed time 0.09\n",
      "[IterativeImputer] Change: 10.79296430487873, scaled tolerance: 0.100684 \n",
      "[IterativeImputer] Ending imputation round 15/100, elapsed time 0.10\n",
      "[IterativeImputer] Change: 8.873189949062917, scaled tolerance: 0.100684 \n",
      "[IterativeImputer] Ending imputation round 16/100, elapsed time 0.11\n",
      "[IterativeImputer] Change: 11.076425202127155, scaled tolerance: 0.100684 \n",
      "[IterativeImputer] Ending imputation round 17/100, elapsed time 0.11\n",
      "[IterativeImputer] Change: 14.932282670348908, scaled tolerance: 0.100684 \n",
      "[IterativeImputer] Ending imputation round 18/100, elapsed time 0.12\n",
      "[IterativeImputer] Change: 10.216762606132882, scaled tolerance: 0.100684 \n",
      "[IterativeImputer] Ending imputation round 19/100, elapsed time 0.13\n",
      "[IterativeImputer] Change: 14.024676736910765, scaled tolerance: 0.100684 \n",
      "[IterativeImputer] Ending imputation round 20/100, elapsed time 0.13\n",
      "[IterativeImputer] Change: 9.299107209308339, scaled tolerance: 0.100684 \n",
      "[IterativeImputer] Ending imputation round 21/100, elapsed time 0.14\n",
      "[IterativeImputer] Change: 11.829456866367487, scaled tolerance: 0.100684 \n",
      "[IterativeImputer] Ending imputation round 22/100, elapsed time 0.15\n",
      "[IterativeImputer] Change: 12.488612096705276, scaled tolerance: 0.100684 \n",
      "[IterativeImputer] Ending imputation round 23/100, elapsed time 0.15\n",
      "[IterativeImputer] Change: 12.742471380858575, scaled tolerance: 0.100684 \n",
      "[IterativeImputer] Ending imputation round 24/100, elapsed time 0.16\n",
      "[IterativeImputer] Change: 17.116467302996604, scaled tolerance: 0.100684 \n",
      "[IterativeImputer] Ending imputation round 25/100, elapsed time 0.17\n",
      "[IterativeImputer] Change: 16.311433848163556, scaled tolerance: 0.100684 \n",
      "[IterativeImputer] Ending imputation round 26/100, elapsed time 0.17\n",
      "[IterativeImputer] Change: 15.536441144548114, scaled tolerance: 0.100684 \n",
      "[IterativeImputer] Ending imputation round 27/100, elapsed time 0.18\n",
      "[IterativeImputer] Change: 8.809399148462688, scaled tolerance: 0.100684 \n",
      "[IterativeImputer] Ending imputation round 28/100, elapsed time 0.19\n",
      "[IterativeImputer] Change: 16.577829400514776, scaled tolerance: 0.100684 \n",
      "[IterativeImputer] Ending imputation round 29/100, elapsed time 0.19\n",
      "[IterativeImputer] Change: 18.69378302558617, scaled tolerance: 0.100684 \n",
      "[IterativeImputer] Ending imputation round 30/100, elapsed time 0.20\n",
      "[IterativeImputer] Change: 16.51060611776935, scaled tolerance: 0.100684 \n",
      "[IterativeImputer] Ending imputation round 31/100, elapsed time 0.21\n",
      "[IterativeImputer] Change: 18.05935853189873, scaled tolerance: 0.100684 \n",
      "[IterativeImputer] Ending imputation round 32/100, elapsed time 0.21\n",
      "[IterativeImputer] Change: 13.989108545588223, scaled tolerance: 0.100684 \n",
      "[IterativeImputer] Ending imputation round 33/100, elapsed time 0.22\n",
      "[IterativeImputer] Change: 18.082792264389177, scaled tolerance: 0.100684 \n",
      "[IterativeImputer] Ending imputation round 34/100, elapsed time 0.23\n",
      "[IterativeImputer] Change: 19.286324003602232, scaled tolerance: 0.100684 \n",
      "[IterativeImputer] Ending imputation round 35/100, elapsed time 0.23\n",
      "[IterativeImputer] Change: 17.586894511713982, scaled tolerance: 0.100684 \n",
      "[IterativeImputer] Ending imputation round 36/100, elapsed time 0.24\n",
      "[IterativeImputer] Change: 17.302500048460807, scaled tolerance: 0.100684 \n",
      "[IterativeImputer] Ending imputation round 37/100, elapsed time 0.24\n",
      "[IterativeImputer] Change: 11.421065832612339, scaled tolerance: 0.100684 \n",
      "[IterativeImputer] Ending imputation round 38/100, elapsed time 0.25\n",
      "[IterativeImputer] Change: 21.82717582632454, scaled tolerance: 0.100684 \n",
      "[IterativeImputer] Ending imputation round 39/100, elapsed time 0.26\n",
      "[IterativeImputer] Change: 13.513260186017119, scaled tolerance: 0.100684 \n",
      "[IterativeImputer] Ending imputation round 40/100, elapsed time 0.26\n",
      "[IterativeImputer] Change: 16.87706874116882, scaled tolerance: 0.100684 \n",
      "[IterativeImputer] Ending imputation round 41/100, elapsed time 0.27\n",
      "[IterativeImputer] Change: 11.292645836279222, scaled tolerance: 0.100684 \n",
      "[IterativeImputer] Ending imputation round 42/100, elapsed time 0.28\n",
      "[IterativeImputer] Change: 21.751441546228854, scaled tolerance: 0.100684 \n",
      "[IterativeImputer] Ending imputation round 43/100, elapsed time 0.28\n",
      "[IterativeImputer] Change: 24.674141607110073, scaled tolerance: 0.100684 \n",
      "[IterativeImputer] Ending imputation round 44/100, elapsed time 0.29\n",
      "[IterativeImputer] Change: 12.755379904013566, scaled tolerance: 0.100684 \n",
      "[IterativeImputer] Ending imputation round 45/100, elapsed time 0.30\n",
      "[IterativeImputer] Change: 22.414670018439807, scaled tolerance: 0.100684 \n",
      "[IterativeImputer] Ending imputation round 46/100, elapsed time 0.30\n",
      "[IterativeImputer] Change: 20.764277476180474, scaled tolerance: 0.100684 \n",
      "[IterativeImputer] Ending imputation round 47/100, elapsed time 0.31\n",
      "[IterativeImputer] Change: 24.469389183281102, scaled tolerance: 0.100684 \n",
      "[IterativeImputer] Ending imputation round 48/100, elapsed time 0.32\n",
      "[IterativeImputer] Change: 23.43992795872842, scaled tolerance: 0.100684 \n",
      "[IterativeImputer] Ending imputation round 49/100, elapsed time 0.32\n",
      "[IterativeImputer] Change: 22.898888861744723, scaled tolerance: 0.100684 \n",
      "[IterativeImputer] Ending imputation round 50/100, elapsed time 0.33\n",
      "[IterativeImputer] Change: 21.63774970401592, scaled tolerance: 0.100684 \n",
      "[IterativeImputer] Ending imputation round 51/100, elapsed time 0.33\n",
      "[IterativeImputer] Change: 17.609805232408807, scaled tolerance: 0.100684 \n",
      "[IterativeImputer] Ending imputation round 52/100, elapsed time 0.34\n",
      "[IterativeImputer] Change: 28.74159798677647, scaled tolerance: 0.100684 \n",
      "[IterativeImputer] Ending imputation round 53/100, elapsed time 0.35\n",
      "[IterativeImputer] Change: 25.756303194672725, scaled tolerance: 0.100684 \n",
      "[IterativeImputer] Ending imputation round 54/100, elapsed time 0.35\n",
      "[IterativeImputer] Change: 26.68263470146158, scaled tolerance: 0.100684 \n",
      "[IterativeImputer] Ending imputation round 55/100, elapsed time 0.36\n",
      "[IterativeImputer] Change: 15.335957222344454, scaled tolerance: 0.100684 \n",
      "[IterativeImputer] Ending imputation round 56/100, elapsed time 0.37\n",
      "[IterativeImputer] Change: 22.184145245203208, scaled tolerance: 0.100684 \n",
      "[IterativeImputer] Ending imputation round 57/100, elapsed time 0.37\n",
      "[IterativeImputer] Change: 21.789536536862286, scaled tolerance: 0.100684 \n",
      "[IterativeImputer] Ending imputation round 58/100, elapsed time 0.38\n",
      "[IterativeImputer] Change: 26.68802352776263, scaled tolerance: 0.100684 \n",
      "[IterativeImputer] Ending imputation round 59/100, elapsed time 0.39\n",
      "[IterativeImputer] Change: 21.815107135061467, scaled tolerance: 0.100684 \n",
      "[IterativeImputer] Ending imputation round 60/100, elapsed time 0.39\n",
      "[IterativeImputer] Change: 31.899712207719652, scaled tolerance: 0.100684 \n",
      "[IterativeImputer] Ending imputation round 61/100, elapsed time 0.40\n",
      "[IterativeImputer] Change: 17.617668744704105, scaled tolerance: 0.100684 \n",
      "[IterativeImputer] Ending imputation round 62/100, elapsed time 0.41\n",
      "[IterativeImputer] Change: 24.592609304746865, scaled tolerance: 0.100684 \n",
      "[IterativeImputer] Ending imputation round 63/100, elapsed time 0.41\n",
      "[IterativeImputer] Change: 30.316581538338767, scaled tolerance: 0.100684 \n",
      "[IterativeImputer] Ending imputation round 64/100, elapsed time 0.42\n",
      "[IterativeImputer] Change: 24.773404484790916, scaled tolerance: 0.100684 \n",
      "[IterativeImputer] Ending imputation round 65/100, elapsed time 0.43\n",
      "[IterativeImputer] Change: 29.450253201362457, scaled tolerance: 0.100684 \n",
      "[IterativeImputer] Ending imputation round 66/100, elapsed time 0.43\n",
      "[IterativeImputer] Change: 25.304375151230083, scaled tolerance: 0.100684 \n",
      "[IterativeImputer] Ending imputation round 67/100, elapsed time 0.44\n",
      "[IterativeImputer] Change: 40.30902026777347, scaled tolerance: 0.100684 \n",
      "[IterativeImputer] Ending imputation round 68/100, elapsed time 0.45\n",
      "[IterativeImputer] Change: 35.992456947383275, scaled tolerance: 0.100684 \n",
      "[IterativeImputer] Ending imputation round 69/100, elapsed time 0.45\n",
      "[IterativeImputer] Change: 35.201448883833436, scaled tolerance: 0.100684 \n",
      "[IterativeImputer] Ending imputation round 70/100, elapsed time 0.46\n",
      "[IterativeImputer] Change: 32.160382700150066, scaled tolerance: 0.100684 \n",
      "[IterativeImputer] Ending imputation round 71/100, elapsed time 0.47\n",
      "[IterativeImputer] Change: 35.788425454312595, scaled tolerance: 0.100684 \n",
      "[IterativeImputer] Ending imputation round 72/100, elapsed time 0.47\n",
      "[IterativeImputer] Change: 34.02119368438416, scaled tolerance: 0.100684 \n",
      "[IterativeImputer] Ending imputation round 73/100, elapsed time 0.48\n",
      "[IterativeImputer] Change: 37.63267155803331, scaled tolerance: 0.100684 \n",
      "[IterativeImputer] Ending imputation round 74/100, elapsed time 0.48\n",
      "[IterativeImputer] Change: 32.307883868868714, scaled tolerance: 0.100684 \n",
      "[IterativeImputer] Ending imputation round 75/100, elapsed time 0.49\n",
      "[IterativeImputer] Change: 48.040104331372405, scaled tolerance: 0.100684 \n",
      "[IterativeImputer] Ending imputation round 76/100, elapsed time 0.50\n",
      "[IterativeImputer] Change: 31.4057251058191, scaled tolerance: 0.100684 \n",
      "[IterativeImputer] Ending imputation round 77/100, elapsed time 0.50\n",
      "[IterativeImputer] Change: 51.3916711055862, scaled tolerance: 0.100684 \n",
      "[IterativeImputer] Ending imputation round 78/100, elapsed time 0.51\n",
      "[IterativeImputer] Change: 29.683527961490057, scaled tolerance: 0.100684 \n",
      "[IterativeImputer] Ending imputation round 79/100, elapsed time 0.52\n",
      "[IterativeImputer] Change: 49.21676836948534, scaled tolerance: 0.100684 \n",
      "[IterativeImputer] Ending imputation round 80/100, elapsed time 0.52\n",
      "[IterativeImputer] Change: 35.1728998096646, scaled tolerance: 0.100684 \n",
      "[IterativeImputer] Ending imputation round 81/100, elapsed time 0.53\n",
      "[IterativeImputer] Change: 52.94391094519733, scaled tolerance: 0.100684 \n",
      "[IterativeImputer] Ending imputation round 82/100, elapsed time 0.54\n",
      "[IterativeImputer] Change: 52.299146573929214, scaled tolerance: 0.100684 \n",
      "[IterativeImputer] Ending imputation round 83/100, elapsed time 0.54\n",
      "[IterativeImputer] Change: 61.23954177616207, scaled tolerance: 0.100684 \n",
      "[IterativeImputer] Ending imputation round 84/100, elapsed time 0.55\n",
      "[IterativeImputer] Change: 48.33752050839785, scaled tolerance: 0.100684 \n",
      "[IterativeImputer] Ending imputation round 85/100, elapsed time 0.56\n",
      "[IterativeImputer] Change: 54.44721027938688, scaled tolerance: 0.100684 \n",
      "[IterativeImputer] Ending imputation round 86/100, elapsed time 0.56\n",
      "[IterativeImputer] Change: 44.540134081203846, scaled tolerance: 0.100684 \n",
      "[IterativeImputer] Ending imputation round 87/100, elapsed time 0.57\n",
      "[IterativeImputer] Change: 61.71982989244184, scaled tolerance: 0.100684 \n",
      "[IterativeImputer] Ending imputation round 88/100, elapsed time 0.57\n",
      "[IterativeImputer] Change: 69.07226672876027, scaled tolerance: 0.100684 \n",
      "[IterativeImputer] Ending imputation round 89/100, elapsed time 0.58\n",
      "[IterativeImputer] Change: 61.77286945242278, scaled tolerance: 0.100684 \n",
      "[IterativeImputer] Ending imputation round 90/100, elapsed time 0.59\n",
      "[IterativeImputer] Change: 64.9907810731454, scaled tolerance: 0.100684 \n",
      "[IterativeImputer] Ending imputation round 91/100, elapsed time 0.59\n",
      "[IterativeImputer] Change: 46.629765420282446, scaled tolerance: 0.100684 \n",
      "[IterativeImputer] Ending imputation round 92/100, elapsed time 0.60\n",
      "[IterativeImputer] Change: 45.96089360846815, scaled tolerance: 0.100684 \n",
      "[IterativeImputer] Ending imputation round 93/100, elapsed time 0.61\n",
      "[IterativeImputer] Change: 66.24950271496768, scaled tolerance: 0.100684 \n",
      "[IterativeImputer] Ending imputation round 94/100, elapsed time 0.61\n",
      "[IterativeImputer] Change: 71.37664747724747, scaled tolerance: 0.100684 \n",
      "[IterativeImputer] Ending imputation round 95/100, elapsed time 0.62\n",
      "[IterativeImputer] Change: 73.34817032157582, scaled tolerance: 0.100684 \n",
      "[IterativeImputer] Ending imputation round 96/100, elapsed time 0.63\n",
      "[IterativeImputer] Change: 34.14024431434202, scaled tolerance: 0.100684 \n",
      "[IterativeImputer] Ending imputation round 97/100, elapsed time 0.63\n",
      "[IterativeImputer] Change: 68.6882172371584, scaled tolerance: 0.100684 \n",
      "[IterativeImputer] Ending imputation round 98/100, elapsed time 0.64\n",
      "[IterativeImputer] Change: 49.587076693710266, scaled tolerance: 0.100684 \n",
      "[IterativeImputer] Ending imputation round 99/100, elapsed time 0.65\n",
      "[IterativeImputer] Change: 90.9544578204671, scaled tolerance: 0.100684 \n",
      "[IterativeImputer] Ending imputation round 100/100, elapsed time 0.65\n",
      "[IterativeImputer] Change: 57.827175822311716, scaled tolerance: 0.100684 \n",
      "[IterativeImputer] Completing matrix with shape (29, 9)\n",
      "[IterativeImputer] Ending imputation round 1/100, elapsed time 0.00\n",
      "[IterativeImputer] Ending imputation round 2/100, elapsed time 0.00\n",
      "[IterativeImputer] Ending imputation round 3/100, elapsed time 0.00\n",
      "[IterativeImputer] Ending imputation round 4/100, elapsed time 0.00\n",
      "[IterativeImputer] Ending imputation round 5/100, elapsed time 0.00\n",
      "[IterativeImputer] Ending imputation round 6/100, elapsed time 0.00\n",
      "[IterativeImputer] Ending imputation round 7/100, elapsed time 0.00\n",
      "[IterativeImputer] Ending imputation round 8/100, elapsed time 0.00\n",
      "[IterativeImputer] Ending imputation round 9/100, elapsed time 0.01\n",
      "[IterativeImputer] Ending imputation round 10/100, elapsed time 0.01\n",
      "[IterativeImputer] Ending imputation round 11/100, elapsed time 0.01\n",
      "[IterativeImputer] Ending imputation round 12/100, elapsed time 0.01\n",
      "[IterativeImputer] Ending imputation round 13/100, elapsed time 0.01\n",
      "[IterativeImputer] Ending imputation round 14/100, elapsed time 0.01\n",
      "[IterativeImputer] Ending imputation round 15/100, elapsed time 0.01\n",
      "[IterativeImputer] Ending imputation round 16/100, elapsed time 0.01\n",
      "[IterativeImputer] Ending imputation round 17/100, elapsed time 0.01\n",
      "[IterativeImputer] Ending imputation round 18/100, elapsed time 0.01\n",
      "[IterativeImputer] Ending imputation round 19/100, elapsed time 0.01\n",
      "[IterativeImputer] Ending imputation round 20/100, elapsed time 0.01\n",
      "[IterativeImputer] Ending imputation round 21/100, elapsed time 0.01\n",
      "[IterativeImputer] Ending imputation round 22/100, elapsed time 0.01\n",
      "[IterativeImputer] Ending imputation round 23/100, elapsed time 0.01\n",
      "[IterativeImputer] Ending imputation round 24/100, elapsed time 0.01\n",
      "[IterativeImputer] Ending imputation round 25/100, elapsed time 0.01\n",
      "[IterativeImputer] Ending imputation round 26/100, elapsed time 0.02\n",
      "[IterativeImputer] Ending imputation round 27/100, elapsed time 0.02\n",
      "[IterativeImputer] Ending imputation round 28/100, elapsed time 0.02\n",
      "[IterativeImputer] Ending imputation round 29/100, elapsed time 0.02\n",
      "[IterativeImputer] Ending imputation round 30/100, elapsed time 0.02\n",
      "[IterativeImputer] Ending imputation round 31/100, elapsed time 0.02\n",
      "[IterativeImputer] Ending imputation round 32/100, elapsed time 0.02\n",
      "[IterativeImputer] Ending imputation round 33/100, elapsed time 0.02\n",
      "[IterativeImputer] Ending imputation round 34/100, elapsed time 0.02\n",
      "[IterativeImputer] Ending imputation round 35/100, elapsed time 0.02\n",
      "[IterativeImputer] Ending imputation round 36/100, elapsed time 0.02\n",
      "[IterativeImputer] Ending imputation round 37/100, elapsed time 0.02\n",
      "[IterativeImputer] Ending imputation round 38/100, elapsed time 0.02\n",
      "[IterativeImputer] Ending imputation round 39/100, elapsed time 0.02\n",
      "[IterativeImputer] Ending imputation round 40/100, elapsed time 0.02\n",
      "[IterativeImputer] Ending imputation round 41/100, elapsed time 0.02\n",
      "[IterativeImputer] Ending imputation round 42/100, elapsed time 0.02\n",
      "[IterativeImputer] Ending imputation round 43/100, elapsed time 0.03\n",
      "[IterativeImputer] Ending imputation round 44/100, elapsed time 0.03\n",
      "[IterativeImputer] Ending imputation round 45/100, elapsed time 0.03\n",
      "[IterativeImputer] Ending imputation round 46/100, elapsed time 0.03\n",
      "[IterativeImputer] Ending imputation round 47/100, elapsed time 0.03\n",
      "[IterativeImputer] Ending imputation round 48/100, elapsed time 0.03\n",
      "[IterativeImputer] Ending imputation round 49/100, elapsed time 0.03\n",
      "[IterativeImputer] Ending imputation round 50/100, elapsed time 0.03\n",
      "[IterativeImputer] Ending imputation round 51/100, elapsed time 0.03\n",
      "[IterativeImputer] Ending imputation round 52/100, elapsed time 0.03\n",
      "[IterativeImputer] Ending imputation round 53/100, elapsed time 0.03\n",
      "[IterativeImputer] Ending imputation round 54/100, elapsed time 0.03\n",
      "[IterativeImputer] Ending imputation round 55/100, elapsed time 0.03\n",
      "[IterativeImputer] Ending imputation round 56/100, elapsed time 0.03\n",
      "[IterativeImputer] Ending imputation round 57/100, elapsed time 0.03\n",
      "[IterativeImputer] Ending imputation round 58/100, elapsed time 0.03\n",
      "[IterativeImputer] Ending imputation round 59/100, elapsed time 0.03\n",
      "[IterativeImputer] Ending imputation round 60/100, elapsed time 0.04\n",
      "[IterativeImputer] Ending imputation round 61/100, elapsed time 0.04\n",
      "[IterativeImputer] Ending imputation round 62/100, elapsed time 0.04\n",
      "[IterativeImputer] Ending imputation round 63/100, elapsed time 0.04\n",
      "[IterativeImputer] Ending imputation round 64/100, elapsed time 0.04\n",
      "[IterativeImputer] Ending imputation round 65/100, elapsed time 0.04\n",
      "[IterativeImputer] Ending imputation round 66/100, elapsed time 0.04\n",
      "[IterativeImputer] Ending imputation round 67/100, elapsed time 0.04\n",
      "[IterativeImputer] Ending imputation round 68/100, elapsed time 0.04\n",
      "[IterativeImputer] Ending imputation round 69/100, elapsed time 0.04\n",
      "[IterativeImputer] Ending imputation round 70/100, elapsed time 0.04\n",
      "[IterativeImputer] Ending imputation round 71/100, elapsed time 0.04\n",
      "[IterativeImputer] Ending imputation round 72/100, elapsed time 0.04\n",
      "[IterativeImputer] Ending imputation round 73/100, elapsed time 0.04\n",
      "[IterativeImputer] Ending imputation round 74/100, elapsed time 0.04\n",
      "[IterativeImputer] Ending imputation round 75/100, elapsed time 0.04\n",
      "[IterativeImputer] Ending imputation round 76/100, elapsed time 0.05\n",
      "[IterativeImputer] Ending imputation round 77/100, elapsed time 0.05\n",
      "[IterativeImputer] Ending imputation round 78/100, elapsed time 0.05\n",
      "[IterativeImputer] Ending imputation round 79/100, elapsed time 0.05\n",
      "[IterativeImputer] Ending imputation round 80/100, elapsed time 0.05\n",
      "[IterativeImputer] Ending imputation round 81/100, elapsed time 0.05\n",
      "[IterativeImputer] Ending imputation round 82/100, elapsed time 0.05\n",
      "[IterativeImputer] Ending imputation round 83/100, elapsed time 0.05\n",
      "[IterativeImputer] Ending imputation round 84/100, elapsed time 0.05\n",
      "[IterativeImputer] Ending imputation round 85/100, elapsed time 0.05\n",
      "[IterativeImputer] Ending imputation round 86/100, elapsed time 0.05\n",
      "[IterativeImputer] Ending imputation round 87/100, elapsed time 0.05\n",
      "[IterativeImputer] Ending imputation round 88/100, elapsed time 0.05\n",
      "[IterativeImputer] Ending imputation round 89/100, elapsed time 0.05\n",
      "[IterativeImputer] Ending imputation round 90/100, elapsed time 0.05\n",
      "[IterativeImputer] Ending imputation round 91/100, elapsed time 0.05\n",
      "[IterativeImputer] Ending imputation round 92/100, elapsed time 0.05\n",
      "[IterativeImputer] Ending imputation round 93/100, elapsed time 0.06\n",
      "[IterativeImputer] Ending imputation round 94/100, elapsed time 0.06\n",
      "[IterativeImputer] Ending imputation round 95/100, elapsed time 0.06\n",
      "[IterativeImputer] Ending imputation round 96/100, elapsed time 0.06\n",
      "[IterativeImputer] Ending imputation round 97/100, elapsed time 0.06\n",
      "[IterativeImputer] Ending imputation round 98/100, elapsed time 0.06\n",
      "[IterativeImputer] Ending imputation round 99/100, elapsed time 0.06\n",
      "[IterativeImputer] Ending imputation round 100/100, elapsed time 0.06\n"
     ]
    },
    {
     "name": "stderr",
     "output_type": "stream",
     "text": [
      "/home/tahlon/Documents/Projects/DTSC-691-Capstone-Project/.venv/lib/python3.11/site-packages/sklearn/impute/_iterative.py:801: ConvergenceWarning: [IterativeImputer] Early stopping criterion not reached.\n",
      "  warnings.warn(\n"
     ]
    },
    {
     "data": {
      "text/html": [
       "<div>\n",
       "<style scoped>\n",
       "    .dataframe tbody tr th:only-of-type {\n",
       "        vertical-align: middle;\n",
       "    }\n",
       "\n",
       "    .dataframe tbody tr th {\n",
       "        vertical-align: top;\n",
       "    }\n",
       "\n",
       "    .dataframe thead th {\n",
       "        text-align: right;\n",
       "    }\n",
       "</style>\n",
       "<table border=\"1\" class=\"dataframe\">\n",
       "  <thead>\n",
       "    <tr style=\"text-align: right;\">\n",
       "      <th></th>\n",
       "      <th>Catechin</th>\n",
       "      <th>Epicatechin</th>\n",
       "      <th>Gallocatechin</th>\n",
       "      <th>Epigallocatechin</th>\n",
       "      <th>Catechin Gallate</th>\n",
       "      <th>Epicatechin Gallate</th>\n",
       "      <th>Gallocatechin Gallate</th>\n",
       "      <th>Epigallocatechin Gallate</th>\n",
       "      <th>Caffeine</th>\n",
       "      <th>Taste</th>\n",
       "      <th>Appearance</th>\n",
       "      <th>Aroma</th>\n",
       "      <th>Liqour color</th>\n",
       "      <th>Infused leaf</th>\n",
       "    </tr>\n",
       "  </thead>\n",
       "  <tbody>\n",
       "    <tr>\n",
       "      <th>71</th>\n",
       "      <td>2.580000</td>\n",
       "      <td>9.500000</td>\n",
       "      <td>3.460000</td>\n",
       "      <td>24.900000</td>\n",
       "      <td>4.450000</td>\n",
       "      <td>13.900000</td>\n",
       "      <td>2.040958</td>\n",
       "      <td>43.300000</td>\n",
       "      <td>1.970000</td>\n",
       "      <td>NaN</td>\n",
       "      <td>NaN</td>\n",
       "      <td>NaN</td>\n",
       "      <td>NaN</td>\n",
       "      <td>NaN</td>\n",
       "    </tr>\n",
       "    <tr>\n",
       "      <th>142</th>\n",
       "      <td>2.570000</td>\n",
       "      <td>29.700000</td>\n",
       "      <td>5.580000</td>\n",
       "      <td>32.600000</td>\n",
       "      <td>4.450000</td>\n",
       "      <td>17.995345</td>\n",
       "      <td>0.260000</td>\n",
       "      <td>50.490500</td>\n",
       "      <td>25.523248</td>\n",
       "      <td>NaN</td>\n",
       "      <td>NaN</td>\n",
       "      <td>NaN</td>\n",
       "      <td>NaN</td>\n",
       "      <td>NaN</td>\n",
       "    </tr>\n",
       "    <tr>\n",
       "      <th>28</th>\n",
       "      <td>2.627925</td>\n",
       "      <td>6.443000</td>\n",
       "      <td>2.135000</td>\n",
       "      <td>29.070000</td>\n",
       "      <td>4.450000</td>\n",
       "      <td>16.774000</td>\n",
       "      <td>0.260000</td>\n",
       "      <td>33.102000</td>\n",
       "      <td>34.706000</td>\n",
       "      <td>NaN</td>\n",
       "      <td>NaN</td>\n",
       "      <td>NaN</td>\n",
       "      <td>NaN</td>\n",
       "      <td>NaN</td>\n",
       "    </tr>\n",
       "    <tr>\n",
       "      <th>19</th>\n",
       "      <td>16.540000</td>\n",
       "      <td>12.900000</td>\n",
       "      <td>30.550000</td>\n",
       "      <td>14.290000</td>\n",
       "      <td>11.710000</td>\n",
       "      <td>15.970000</td>\n",
       "      <td>21.430000</td>\n",
       "      <td>22.440000</td>\n",
       "      <td>54.110000</td>\n",
       "      <td>23.7</td>\n",
       "      <td>7.9</td>\n",
       "      <td>24.9</td>\n",
       "      <td>8.3</td>\n",
       "      <td>15.8</td>\n",
       "    </tr>\n",
       "    <tr>\n",
       "      <th>44</th>\n",
       "      <td>0.020000</td>\n",
       "      <td>0.570000</td>\n",
       "      <td>3.460000</td>\n",
       "      <td>0.720000</td>\n",
       "      <td>4.450000</td>\n",
       "      <td>1.230000</td>\n",
       "      <td>0.220000</td>\n",
       "      <td>13.610000</td>\n",
       "      <td>6.990000</td>\n",
       "      <td>NaN</td>\n",
       "      <td>NaN</td>\n",
       "      <td>NaN</td>\n",
       "      <td>NaN</td>\n",
       "      <td>NaN</td>\n",
       "    </tr>\n",
       "    <tr>\n",
       "      <th>119</th>\n",
       "      <td>0.020000</td>\n",
       "      <td>16.200000</td>\n",
       "      <td>3.460000</td>\n",
       "      <td>4.400000</td>\n",
       "      <td>4.608164</td>\n",
       "      <td>26.200000</td>\n",
       "      <td>4.400000</td>\n",
       "      <td>50.399199</td>\n",
       "      <td>18.277114</td>\n",
       "      <td>NaN</td>\n",
       "      <td>NaN</td>\n",
       "      <td>NaN</td>\n",
       "      <td>NaN</td>\n",
       "      <td>NaN</td>\n",
       "    </tr>\n",
       "    <tr>\n",
       "      <th>128</th>\n",
       "      <td>4.057653</td>\n",
       "      <td>1.020000</td>\n",
       "      <td>3.460000</td>\n",
       "      <td>24.486356</td>\n",
       "      <td>4.450000</td>\n",
       "      <td>11.369755</td>\n",
       "      <td>8.000000</td>\n",
       "      <td>37.156434</td>\n",
       "      <td>15.608702</td>\n",
       "      <td>NaN</td>\n",
       "      <td>NaN</td>\n",
       "      <td>NaN</td>\n",
       "      <td>NaN</td>\n",
       "      <td>NaN</td>\n",
       "    </tr>\n",
       "    <tr>\n",
       "      <th>110</th>\n",
       "      <td>0.020000</td>\n",
       "      <td>48.750000</td>\n",
       "      <td>20.502896</td>\n",
       "      <td>0.010000</td>\n",
       "      <td>4.450000</td>\n",
       "      <td>1.610000</td>\n",
       "      <td>0.240000</td>\n",
       "      <td>9.300359</td>\n",
       "      <td>34.864724</td>\n",
       "      <td>NaN</td>\n",
       "      <td>NaN</td>\n",
       "      <td>NaN</td>\n",
       "      <td>NaN</td>\n",
       "      <td>NaN</td>\n",
       "    </tr>\n",
       "    <tr>\n",
       "      <th>86</th>\n",
       "      <td>13.400000</td>\n",
       "      <td>19.700000</td>\n",
       "      <td>37.636695</td>\n",
       "      <td>21.700000</td>\n",
       "      <td>22.000000</td>\n",
       "      <td>72.000000</td>\n",
       "      <td>150.900000</td>\n",
       "      <td>285.100000</td>\n",
       "      <td>16.300000</td>\n",
       "      <td>NaN</td>\n",
       "      <td>NaN</td>\n",
       "      <td>NaN</td>\n",
       "      <td>NaN</td>\n",
       "      <td>NaN</td>\n",
       "    </tr>\n",
       "    <tr>\n",
       "      <th>18</th>\n",
       "      <td>11.770000</td>\n",
       "      <td>8.480000</td>\n",
       "      <td>32.020000</td>\n",
       "      <td>13.450000</td>\n",
       "      <td>15.150000</td>\n",
       "      <td>18.720000</td>\n",
       "      <td>31.710000</td>\n",
       "      <td>34.360000</td>\n",
       "      <td>56.710000</td>\n",
       "      <td>27.0</td>\n",
       "      <td>8.0</td>\n",
       "      <td>26.7</td>\n",
       "      <td>8.9</td>\n",
       "      <td>17.6</td>\n",
       "    </tr>\n",
       "    <tr>\n",
       "      <th>12</th>\n",
       "      <td>6.050000</td>\n",
       "      <td>5.800000</td>\n",
       "      <td>19.260000</td>\n",
       "      <td>10.440000</td>\n",
       "      <td>6.210000</td>\n",
       "      <td>7.430000</td>\n",
       "      <td>32.120000</td>\n",
       "      <td>31.440000</td>\n",
       "      <td>52.860000</td>\n",
       "      <td>25.8</td>\n",
       "      <td>8.1</td>\n",
       "      <td>25.8</td>\n",
       "      <td>8.5</td>\n",
       "      <td>17.6</td>\n",
       "    </tr>\n",
       "    <tr>\n",
       "      <th>57</th>\n",
       "      <td>1.900000</td>\n",
       "      <td>5.080000</td>\n",
       "      <td>4.808952</td>\n",
       "      <td>0.877000</td>\n",
       "      <td>4.450000</td>\n",
       "      <td>6.630000</td>\n",
       "      <td>0.260000</td>\n",
       "      <td>4.050000</td>\n",
       "      <td>1.440000</td>\n",
       "      <td>NaN</td>\n",
       "      <td>NaN</td>\n",
       "      <td>NaN</td>\n",
       "      <td>NaN</td>\n",
       "      <td>NaN</td>\n",
       "    </tr>\n",
       "    <tr>\n",
       "      <th>130</th>\n",
       "      <td>4.012957</td>\n",
       "      <td>9.043165</td>\n",
       "      <td>3.460000</td>\n",
       "      <td>35.460000</td>\n",
       "      <td>4.450000</td>\n",
       "      <td>10.873278</td>\n",
       "      <td>0.260000</td>\n",
       "      <td>35.006132</td>\n",
       "      <td>20.281384</td>\n",
       "      <td>NaN</td>\n",
       "      <td>NaN</td>\n",
       "      <td>NaN</td>\n",
       "      <td>NaN</td>\n",
       "      <td>NaN</td>\n",
       "    </tr>\n",
       "    <tr>\n",
       "      <th>80</th>\n",
       "      <td>3.600340</td>\n",
       "      <td>7.000000</td>\n",
       "      <td>3.460000</td>\n",
       "      <td>38.700000</td>\n",
       "      <td>0.300000</td>\n",
       "      <td>9.500000</td>\n",
       "      <td>3.100000</td>\n",
       "      <td>49.800000</td>\n",
       "      <td>21.800000</td>\n",
       "      <td>NaN</td>\n",
       "      <td>NaN</td>\n",
       "      <td>NaN</td>\n",
       "      <td>NaN</td>\n",
       "      <td>NaN</td>\n",
       "    </tr>\n",
       "    <tr>\n",
       "      <th>75</th>\n",
       "      <td>0.830000</td>\n",
       "      <td>0.577000</td>\n",
       "      <td>3.705640</td>\n",
       "      <td>0.196000</td>\n",
       "      <td>4.450000</td>\n",
       "      <td>0.216000</td>\n",
       "      <td>0.260000</td>\n",
       "      <td>1.010000</td>\n",
       "      <td>0.631000</td>\n",
       "      <td>NaN</td>\n",
       "      <td>NaN</td>\n",
       "      <td>NaN</td>\n",
       "      <td>NaN</td>\n",
       "      <td>NaN</td>\n",
       "    </tr>\n",
       "    <tr>\n",
       "      <th>38</th>\n",
       "      <td>3.757190</td>\n",
       "      <td>8.590000</td>\n",
       "      <td>7.218351</td>\n",
       "      <td>18.620000</td>\n",
       "      <td>4.450000</td>\n",
       "      <td>12.580000</td>\n",
       "      <td>0.260000</td>\n",
       "      <td>16.850000</td>\n",
       "      <td>26.209682</td>\n",
       "      <td>NaN</td>\n",
       "      <td>NaN</td>\n",
       "      <td>NaN</td>\n",
       "      <td>NaN</td>\n",
       "      <td>NaN</td>\n",
       "    </tr>\n",
       "    <tr>\n",
       "      <th>114</th>\n",
       "      <td>0.607802</td>\n",
       "      <td>0.000000</td>\n",
       "      <td>3.460000</td>\n",
       "      <td>0.050000</td>\n",
       "      <td>4.450000</td>\n",
       "      <td>1.880000</td>\n",
       "      <td>0.250000</td>\n",
       "      <td>8.380000</td>\n",
       "      <td>3.803948</td>\n",
       "      <td>NaN</td>\n",
       "      <td>NaN</td>\n",
       "      <td>NaN</td>\n",
       "      <td>NaN</td>\n",
       "      <td>NaN</td>\n",
       "    </tr>\n",
       "    <tr>\n",
       "      <th>135</th>\n",
       "      <td>5.031167</td>\n",
       "      <td>9.844747</td>\n",
       "      <td>3.460000</td>\n",
       "      <td>44.400000</td>\n",
       "      <td>4.450000</td>\n",
       "      <td>12.415623</td>\n",
       "      <td>0.657705</td>\n",
       "      <td>41.029916</td>\n",
       "      <td>23.811185</td>\n",
       "      <td>NaN</td>\n",
       "      <td>NaN</td>\n",
       "      <td>NaN</td>\n",
       "      <td>NaN</td>\n",
       "      <td>NaN</td>\n",
       "    </tr>\n",
       "    <tr>\n",
       "      <th>102</th>\n",
       "      <td>0.003000</td>\n",
       "      <td>0.040000</td>\n",
       "      <td>4.568521</td>\n",
       "      <td>0.030000</td>\n",
       "      <td>4.450000</td>\n",
       "      <td>0.210000</td>\n",
       "      <td>0.210000</td>\n",
       "      <td>1.000000</td>\n",
       "      <td>8.781925</td>\n",
       "      <td>NaN</td>\n",
       "      <td>NaN</td>\n",
       "      <td>NaN</td>\n",
       "      <td>NaN</td>\n",
       "      <td>NaN</td>\n",
       "    </tr>\n",
       "    <tr>\n",
       "      <th>103</th>\n",
       "      <td>0.005000</td>\n",
       "      <td>0.070000</td>\n",
       "      <td>4.574485</td>\n",
       "      <td>0.060000</td>\n",
       "      <td>4.450000</td>\n",
       "      <td>0.330000</td>\n",
       "      <td>0.330000</td>\n",
       "      <td>1.360000</td>\n",
       "      <td>8.838172</td>\n",
       "      <td>NaN</td>\n",
       "      <td>NaN</td>\n",
       "      <td>NaN</td>\n",
       "      <td>NaN</td>\n",
       "      <td>NaN</td>\n",
       "    </tr>\n",
       "    <tr>\n",
       "      <th>96</th>\n",
       "      <td>0.002000</td>\n",
       "      <td>0.030000</td>\n",
       "      <td>4.498160</td>\n",
       "      <td>0.040000</td>\n",
       "      <td>4.450000</td>\n",
       "      <td>0.270000</td>\n",
       "      <td>0.270000</td>\n",
       "      <td>1.350000</td>\n",
       "      <td>8.589224</td>\n",
       "      <td>NaN</td>\n",
       "      <td>NaN</td>\n",
       "      <td>NaN</td>\n",
       "      <td>NaN</td>\n",
       "      <td>NaN</td>\n",
       "    </tr>\n",
       "    <tr>\n",
       "      <th>138</th>\n",
       "      <td>3.605828</td>\n",
       "      <td>8.513619</td>\n",
       "      <td>3.460000</td>\n",
       "      <td>31.600000</td>\n",
       "      <td>4.450000</td>\n",
       "      <td>10.241734</td>\n",
       "      <td>0.260000</td>\n",
       "      <td>32.561214</td>\n",
       "      <td>18.739951</td>\n",
       "      <td>NaN</td>\n",
       "      <td>NaN</td>\n",
       "      <td>NaN</td>\n",
       "      <td>NaN</td>\n",
       "      <td>NaN</td>\n",
       "    </tr>\n",
       "    <tr>\n",
       "      <th>11</th>\n",
       "      <td>5.970000</td>\n",
       "      <td>4.780000</td>\n",
       "      <td>21.390000</td>\n",
       "      <td>12.520000</td>\n",
       "      <td>5.370000</td>\n",
       "      <td>6.380000</td>\n",
       "      <td>25.630000</td>\n",
       "      <td>26.050000</td>\n",
       "      <td>43.710000</td>\n",
       "      <td>24.3</td>\n",
       "      <td>8.1</td>\n",
       "      <td>26.1</td>\n",
       "      <td>8.9</td>\n",
       "      <td>16.6</td>\n",
       "    </tr>\n",
       "    <tr>\n",
       "      <th>68</th>\n",
       "      <td>0.734000</td>\n",
       "      <td>1.310000</td>\n",
       "      <td>3.460000</td>\n",
       "      <td>5.230000</td>\n",
       "      <td>4.450000</td>\n",
       "      <td>0.387000</td>\n",
       "      <td>0.260000</td>\n",
       "      <td>3.560000</td>\n",
       "      <td>0.558000</td>\n",
       "      <td>NaN</td>\n",
       "      <td>NaN</td>\n",
       "      <td>NaN</td>\n",
       "      <td>NaN</td>\n",
       "      <td>NaN</td>\n",
       "    </tr>\n",
       "    <tr>\n",
       "      <th>32</th>\n",
       "      <td>2.375793</td>\n",
       "      <td>5.380000</td>\n",
       "      <td>4.002000</td>\n",
       "      <td>24.494000</td>\n",
       "      <td>0.645000</td>\n",
       "      <td>22.364000</td>\n",
       "      <td>5.844000</td>\n",
       "      <td>51.734000</td>\n",
       "      <td>38.508000</td>\n",
       "      <td>NaN</td>\n",
       "      <td>NaN</td>\n",
       "      <td>NaN</td>\n",
       "      <td>NaN</td>\n",
       "      <td>NaN</td>\n",
       "    </tr>\n",
       "    <tr>\n",
       "      <th>47</th>\n",
       "      <td>0.020000</td>\n",
       "      <td>1.010000</td>\n",
       "      <td>3.460000</td>\n",
       "      <td>0.910000</td>\n",
       "      <td>4.450000</td>\n",
       "      <td>2.320000</td>\n",
       "      <td>0.220000</td>\n",
       "      <td>16.750000</td>\n",
       "      <td>8.370000</td>\n",
       "      <td>NaN</td>\n",
       "      <td>NaN</td>\n",
       "      <td>NaN</td>\n",
       "      <td>NaN</td>\n",
       "      <td>NaN</td>\n",
       "    </tr>\n",
       "    <tr>\n",
       "      <th>53</th>\n",
       "      <td>0.020000</td>\n",
       "      <td>0.920000</td>\n",
       "      <td>3.460000</td>\n",
       "      <td>0.950000</td>\n",
       "      <td>4.450000</td>\n",
       "      <td>2.040000</td>\n",
       "      <td>0.330000</td>\n",
       "      <td>14.880000</td>\n",
       "      <td>6.900000</td>\n",
       "      <td>NaN</td>\n",
       "      <td>NaN</td>\n",
       "      <td>NaN</td>\n",
       "      <td>NaN</td>\n",
       "      <td>NaN</td>\n",
       "    </tr>\n",
       "    <tr>\n",
       "      <th>78</th>\n",
       "      <td>4.400000</td>\n",
       "      <td>13.300000</td>\n",
       "      <td>3.460000</td>\n",
       "      <td>79.700000</td>\n",
       "      <td>10.000000</td>\n",
       "      <td>4.000000</td>\n",
       "      <td>5.400000</td>\n",
       "      <td>99.300000</td>\n",
       "      <td>33.600000</td>\n",
       "      <td>NaN</td>\n",
       "      <td>NaN</td>\n",
       "      <td>NaN</td>\n",
       "      <td>NaN</td>\n",
       "      <td>NaN</td>\n",
       "    </tr>\n",
       "    <tr>\n",
       "      <th>113</th>\n",
       "      <td>0.523766</td>\n",
       "      <td>0.000000</td>\n",
       "      <td>3.460000</td>\n",
       "      <td>0.020000</td>\n",
       "      <td>4.450000</td>\n",
       "      <td>1.370000</td>\n",
       "      <td>0.180000</td>\n",
       "      <td>8.380000</td>\n",
       "      <td>3.328504</td>\n",
       "      <td>NaN</td>\n",
       "      <td>NaN</td>\n",
       "      <td>NaN</td>\n",
       "      <td>NaN</td>\n",
       "      <td>NaN</td>\n",
       "    </tr>\n",
       "  </tbody>\n",
       "</table>\n",
       "</div>"
      ],
      "text/plain": [
       "      Catechin  Epicatechin  Gallocatechin  Epigallocatechin  \\\n",
       "71    2.580000     9.500000       3.460000         24.900000   \n",
       "142   2.570000    29.700000       5.580000         32.600000   \n",
       "28    2.627925     6.443000       2.135000         29.070000   \n",
       "19   16.540000    12.900000      30.550000         14.290000   \n",
       "44    0.020000     0.570000       3.460000          0.720000   \n",
       "119   0.020000    16.200000       3.460000          4.400000   \n",
       "128   4.057653     1.020000       3.460000         24.486356   \n",
       "110   0.020000    48.750000      20.502896          0.010000   \n",
       "86   13.400000    19.700000      37.636695         21.700000   \n",
       "18   11.770000     8.480000      32.020000         13.450000   \n",
       "12    6.050000     5.800000      19.260000         10.440000   \n",
       "57    1.900000     5.080000       4.808952          0.877000   \n",
       "130   4.012957     9.043165       3.460000         35.460000   \n",
       "80    3.600340     7.000000       3.460000         38.700000   \n",
       "75    0.830000     0.577000       3.705640          0.196000   \n",
       "38    3.757190     8.590000       7.218351         18.620000   \n",
       "114   0.607802     0.000000       3.460000          0.050000   \n",
       "135   5.031167     9.844747       3.460000         44.400000   \n",
       "102   0.003000     0.040000       4.568521          0.030000   \n",
       "103   0.005000     0.070000       4.574485          0.060000   \n",
       "96    0.002000     0.030000       4.498160          0.040000   \n",
       "138   3.605828     8.513619       3.460000         31.600000   \n",
       "11    5.970000     4.780000      21.390000         12.520000   \n",
       "68    0.734000     1.310000       3.460000          5.230000   \n",
       "32    2.375793     5.380000       4.002000         24.494000   \n",
       "47    0.020000     1.010000       3.460000          0.910000   \n",
       "53    0.020000     0.920000       3.460000          0.950000   \n",
       "78    4.400000    13.300000       3.460000         79.700000   \n",
       "113   0.523766     0.000000       3.460000          0.020000   \n",
       "\n",
       "     Catechin Gallate  Epicatechin Gallate  Gallocatechin Gallate  \\\n",
       "71           4.450000            13.900000               2.040958   \n",
       "142          4.450000            17.995345               0.260000   \n",
       "28           4.450000            16.774000               0.260000   \n",
       "19          11.710000            15.970000              21.430000   \n",
       "44           4.450000             1.230000               0.220000   \n",
       "119          4.608164            26.200000               4.400000   \n",
       "128          4.450000            11.369755               8.000000   \n",
       "110          4.450000             1.610000               0.240000   \n",
       "86          22.000000            72.000000             150.900000   \n",
       "18          15.150000            18.720000              31.710000   \n",
       "12           6.210000             7.430000              32.120000   \n",
       "57           4.450000             6.630000               0.260000   \n",
       "130          4.450000            10.873278               0.260000   \n",
       "80           0.300000             9.500000               3.100000   \n",
       "75           4.450000             0.216000               0.260000   \n",
       "38           4.450000            12.580000               0.260000   \n",
       "114          4.450000             1.880000               0.250000   \n",
       "135          4.450000            12.415623               0.657705   \n",
       "102          4.450000             0.210000               0.210000   \n",
       "103          4.450000             0.330000               0.330000   \n",
       "96           4.450000             0.270000               0.270000   \n",
       "138          4.450000            10.241734               0.260000   \n",
       "11           5.370000             6.380000              25.630000   \n",
       "68           4.450000             0.387000               0.260000   \n",
       "32           0.645000            22.364000               5.844000   \n",
       "47           4.450000             2.320000               0.220000   \n",
       "53           4.450000             2.040000               0.330000   \n",
       "78          10.000000             4.000000               5.400000   \n",
       "113          4.450000             1.370000               0.180000   \n",
       "\n",
       "     Epigallocatechin Gallate   Caffeine  Taste  Appearance  Aroma  \\\n",
       "71                  43.300000   1.970000    NaN         NaN    NaN   \n",
       "142                 50.490500  25.523248    NaN         NaN    NaN   \n",
       "28                  33.102000  34.706000    NaN         NaN    NaN   \n",
       "19                  22.440000  54.110000   23.7         7.9   24.9   \n",
       "44                  13.610000   6.990000    NaN         NaN    NaN   \n",
       "119                 50.399199  18.277114    NaN         NaN    NaN   \n",
       "128                 37.156434  15.608702    NaN         NaN    NaN   \n",
       "110                  9.300359  34.864724    NaN         NaN    NaN   \n",
       "86                 285.100000  16.300000    NaN         NaN    NaN   \n",
       "18                  34.360000  56.710000   27.0         8.0   26.7   \n",
       "12                  31.440000  52.860000   25.8         8.1   25.8   \n",
       "57                   4.050000   1.440000    NaN         NaN    NaN   \n",
       "130                 35.006132  20.281384    NaN         NaN    NaN   \n",
       "80                  49.800000  21.800000    NaN         NaN    NaN   \n",
       "75                   1.010000   0.631000    NaN         NaN    NaN   \n",
       "38                  16.850000  26.209682    NaN         NaN    NaN   \n",
       "114                  8.380000   3.803948    NaN         NaN    NaN   \n",
       "135                 41.029916  23.811185    NaN         NaN    NaN   \n",
       "102                  1.000000   8.781925    NaN         NaN    NaN   \n",
       "103                  1.360000   8.838172    NaN         NaN    NaN   \n",
       "96                   1.350000   8.589224    NaN         NaN    NaN   \n",
       "138                 32.561214  18.739951    NaN         NaN    NaN   \n",
       "11                  26.050000  43.710000   24.3         8.1   26.1   \n",
       "68                   3.560000   0.558000    NaN         NaN    NaN   \n",
       "32                  51.734000  38.508000    NaN         NaN    NaN   \n",
       "47                  16.750000   8.370000    NaN         NaN    NaN   \n",
       "53                  14.880000   6.900000    NaN         NaN    NaN   \n",
       "78                  99.300000  33.600000    NaN         NaN    NaN   \n",
       "113                  8.380000   3.328504    NaN         NaN    NaN   \n",
       "\n",
       "     Liqour color  Infused leaf  \n",
       "71            NaN           NaN  \n",
       "142           NaN           NaN  \n",
       "28            NaN           NaN  \n",
       "19            8.3          15.8  \n",
       "44            NaN           NaN  \n",
       "119           NaN           NaN  \n",
       "128           NaN           NaN  \n",
       "110           NaN           NaN  \n",
       "86            NaN           NaN  \n",
       "18            8.9          17.6  \n",
       "12            8.5          17.6  \n",
       "57            NaN           NaN  \n",
       "130           NaN           NaN  \n",
       "80            NaN           NaN  \n",
       "75            NaN           NaN  \n",
       "38            NaN           NaN  \n",
       "114           NaN           NaN  \n",
       "135           NaN           NaN  \n",
       "102           NaN           NaN  \n",
       "103           NaN           NaN  \n",
       "96            NaN           NaN  \n",
       "138           NaN           NaN  \n",
       "11            8.9          16.6  \n",
       "68            NaN           NaN  \n",
       "32            NaN           NaN  \n",
       "47            NaN           NaN  \n",
       "53            NaN           NaN  \n",
       "78            NaN           NaN  \n",
       "113           NaN           NaN  "
      ]
     },
     "execution_count": 17,
     "metadata": {},
     "output_type": "execute_result"
    }
   ],
   "source": [
    "from sklearn.experimental import enable_iterative_imputer\n",
    "from sklearn.impute import IterativeImputer\n",
    "\n",
    "imputer = IterativeImputer(max_iter=100, verbose=2, random_state=42, imputation_order='random', min_value=[0.02, 1.02, 3.46, 0.84, 4.45, 1.61, 0.26, 8.38, 1.97]) # 25th percentile rounded, may change\n",
    "\n",
    "train_df[chemicals] = imputer.fit_transform(train_df[chemicals])\n",
    "test_df[chemicals] = imputer.transform(test_df[chemicals])\n",
    "\n",
    "test_df"
   ]
  },
  {
   "cell_type": "markdown",
   "metadata": {},
   "source": [
    "# Generation of Additional Data"
   ]
  },
  {
   "cell_type": "code",
   "execution_count": 18,
   "metadata": {},
   "outputs": [],
   "source": [
    "from sklearn.neighbors import KNeighborsRegressor\n",
    "\n",
    "\n"
   ]
  },
  {
   "cell_type": "markdown",
   "metadata": {},
   "source": [
    "# Feature Scaling\n",
    "The data is purely numerical, therefore the data will be only normalized. "
   ]
  },
  {
   "cell_type": "code",
   "execution_count": 19,
   "metadata": {},
   "outputs": [],
   "source": [
    "# Normalization: Min-Max Scaler\n",
    "from sklearn.preprocessing import MinMaxScaler\n",
    "\n",
    "scaler = MinMaxScaler() # Note: I am still not sure if I want to scale the labels.\n",
    "\n",
    "scaled_train_df = scaler.fit_transform(train_df)\n",
    "scaled_test_df = scaler.transform(test_df)\n",
    "\n",
    "scaled_train_df = pd.DataFrame(scaled_train_df, columns=standardized_columns)\n",
    "scaled_test_df = pd.DataFrame(scaled_test_df, columns=standardized_columns)"
   ]
  },
  {
   "cell_type": "code",
   "execution_count": 20,
   "metadata": {},
   "outputs": [
    {
     "data": {
      "text/html": [
       "<div>\n",
       "<style scoped>\n",
       "    .dataframe tbody tr th:only-of-type {\n",
       "        vertical-align: middle;\n",
       "    }\n",
       "\n",
       "    .dataframe tbody tr th {\n",
       "        vertical-align: top;\n",
       "    }\n",
       "\n",
       "    .dataframe thead th {\n",
       "        text-align: right;\n",
       "    }\n",
       "</style>\n",
       "<table border=\"1\" class=\"dataframe\">\n",
       "  <thead>\n",
       "    <tr style=\"text-align: right;\">\n",
       "      <th></th>\n",
       "      <th>Catechin</th>\n",
       "      <th>Epicatechin</th>\n",
       "      <th>Gallocatechin</th>\n",
       "      <th>Epigallocatechin</th>\n",
       "      <th>Catechin Gallate</th>\n",
       "      <th>Epicatechin Gallate</th>\n",
       "      <th>Gallocatechin Gallate</th>\n",
       "      <th>Epigallocatechin Gallate</th>\n",
       "      <th>Caffeine</th>\n",
       "      <th>Taste</th>\n",
       "      <th>Appearance</th>\n",
       "      <th>Aroma</th>\n",
       "      <th>Liqour color</th>\n",
       "      <th>Infused leaf</th>\n",
       "    </tr>\n",
       "  </thead>\n",
       "  <tbody>\n",
       "    <tr>\n",
       "      <th>0</th>\n",
       "      <td>0.311760</td>\n",
       "      <td>0.007305</td>\n",
       "      <td>0.043969</td>\n",
       "      <td>0.118998</td>\n",
       "      <td>0.035822</td>\n",
       "      <td>0.032244</td>\n",
       "      <td>0.519734</td>\n",
       "      <td>0.295110</td>\n",
       "      <td>0.049794</td>\n",
       "      <td>0.000000</td>\n",
       "      <td>0.50</td>\n",
       "      <td>0.055556</td>\n",
       "      <td>0.4375</td>\n",
       "      <td>0.533333</td>\n",
       "    </tr>\n",
       "    <tr>\n",
       "      <th>1</th>\n",
       "      <td>0.393607</td>\n",
       "      <td>0.007228</td>\n",
       "      <td>0.058951</td>\n",
       "      <td>0.132507</td>\n",
       "      <td>0.036648</td>\n",
       "      <td>0.025892</td>\n",
       "      <td>0.527894</td>\n",
       "      <td>0.247405</td>\n",
       "      <td>0.057685</td>\n",
       "      <td>0.444444</td>\n",
       "      <td>0.70</td>\n",
       "      <td>0.777778</td>\n",
       "      <td>0.7500</td>\n",
       "      <td>0.600000</td>\n",
       "    </tr>\n",
       "    <tr>\n",
       "      <th>2</th>\n",
       "      <td>0.295179</td>\n",
       "      <td>0.011229</td>\n",
       "      <td>0.006878</td>\n",
       "      <td>0.417715</td>\n",
       "      <td>0.030415</td>\n",
       "      <td>0.081041</td>\n",
       "      <td>0.019677</td>\n",
       "      <td>0.426707</td>\n",
       "      <td>0.038671</td>\n",
       "      <td>NaN</td>\n",
       "      <td>NaN</td>\n",
       "      <td>NaN</td>\n",
       "      <td>NaN</td>\n",
       "      <td>NaN</td>\n",
       "    </tr>\n",
       "    <tr>\n",
       "      <th>3</th>\n",
       "      <td>0.001285</td>\n",
       "      <td>0.041301</td>\n",
       "      <td>0.026861</td>\n",
       "      <td>0.036653</td>\n",
       "      <td>0.048218</td>\n",
       "      <td>0.126725</td>\n",
       "      <td>0.068311</td>\n",
       "      <td>0.470779</td>\n",
       "      <td>0.036714</td>\n",
       "      <td>NaN</td>\n",
       "      <td>NaN</td>\n",
       "      <td>NaN</td>\n",
       "      <td>NaN</td>\n",
       "      <td>NaN</td>\n",
       "    </tr>\n",
       "    <tr>\n",
       "      <th>4</th>\n",
       "      <td>0.223299</td>\n",
       "      <td>0.002617</td>\n",
       "      <td>0.008456</td>\n",
       "      <td>0.203382</td>\n",
       "      <td>0.030415</td>\n",
       "      <td>0.041094</td>\n",
       "      <td>0.092979</td>\n",
       "      <td>0.296046</td>\n",
       "      <td>0.014359</td>\n",
       "      <td>NaN</td>\n",
       "      <td>NaN</td>\n",
       "      <td>NaN</td>\n",
       "      <td>NaN</td>\n",
       "      <td>NaN</td>\n",
       "    </tr>\n",
       "    <tr>\n",
       "      <th>...</th>\n",
       "      <td>...</td>\n",
       "      <td>...</td>\n",
       "      <td>...</td>\n",
       "      <td>...</td>\n",
       "      <td>...</td>\n",
       "      <td>...</td>\n",
       "      <td>...</td>\n",
       "      <td>...</td>\n",
       "      <td>...</td>\n",
       "      <td>...</td>\n",
       "      <td>...</td>\n",
       "      <td>...</td>\n",
       "      <td>...</td>\n",
       "      <td>...</td>\n",
       "    </tr>\n",
       "    <tr>\n",
       "      <th>111</th>\n",
       "      <td>0.154155</td>\n",
       "      <td>0.003046</td>\n",
       "      <td>0.008456</td>\n",
       "      <td>0.074597</td>\n",
       "      <td>0.030415</td>\n",
       "      <td>0.014468</td>\n",
       "      <td>0.012100</td>\n",
       "      <td>0.135729</td>\n",
       "      <td>0.001121</td>\n",
       "      <td>NaN</td>\n",
       "      <td>NaN</td>\n",
       "      <td>NaN</td>\n",
       "      <td>NaN</td>\n",
       "      <td>NaN</td>\n",
       "    </tr>\n",
       "    <tr>\n",
       "      <th>112</th>\n",
       "      <td>0.001285</td>\n",
       "      <td>0.011809</td>\n",
       "      <td>0.013656</td>\n",
       "      <td>0.000099</td>\n",
       "      <td>0.030415</td>\n",
       "      <td>0.004808</td>\n",
       "      <td>0.002846</td>\n",
       "      <td>0.080639</td>\n",
       "      <td>0.007825</td>\n",
       "      <td>NaN</td>\n",
       "      <td>NaN</td>\n",
       "      <td>NaN</td>\n",
       "      <td>NaN</td>\n",
       "      <td>NaN</td>\n",
       "    </tr>\n",
       "    <tr>\n",
       "      <th>113</th>\n",
       "      <td>0.410517</td>\n",
       "      <td>0.008299</td>\n",
       "      <td>0.054356</td>\n",
       "      <td>0.123071</td>\n",
       "      <td>0.045209</td>\n",
       "      <td>0.033258</td>\n",
       "      <td>0.537381</td>\n",
       "      <td>0.298004</td>\n",
       "      <td>0.050088</td>\n",
       "      <td>1.000000</td>\n",
       "      <td>0.85</td>\n",
       "      <td>1.000000</td>\n",
       "      <td>1.0000</td>\n",
       "      <td>0.866667</td>\n",
       "    </tr>\n",
       "    <tr>\n",
       "      <th>114</th>\n",
       "      <td>0.000068</td>\n",
       "      <td>0.000039</td>\n",
       "      <td>0.011081</td>\n",
       "      <td>0.000099</td>\n",
       "      <td>0.030415</td>\n",
       "      <td>0.000838</td>\n",
       "      <td>0.003036</td>\n",
       "      <td>0.009182</td>\n",
       "      <td>0.008695</td>\n",
       "      <td>NaN</td>\n",
       "      <td>NaN</td>\n",
       "      <td>NaN</td>\n",
       "      <td>NaN</td>\n",
       "      <td>NaN</td>\n",
       "    </tr>\n",
       "    <tr>\n",
       "      <th>115</th>\n",
       "      <td>0.000135</td>\n",
       "      <td>0.000142</td>\n",
       "      <td>0.011160</td>\n",
       "      <td>0.000397</td>\n",
       "      <td>0.030415</td>\n",
       "      <td>0.000926</td>\n",
       "      <td>0.003416</td>\n",
       "      <td>0.009780</td>\n",
       "      <td>0.008786</td>\n",
       "      <td>NaN</td>\n",
       "      <td>NaN</td>\n",
       "      <td>NaN</td>\n",
       "      <td>NaN</td>\n",
       "      <td>NaN</td>\n",
       "    </tr>\n",
       "  </tbody>\n",
       "</table>\n",
       "<p>116 rows × 14 columns</p>\n",
       "</div>"
      ],
      "text/plain": [
       "     Catechin  Epicatechin  Gallocatechin  Epigallocatechin  Catechin Gallate  \\\n",
       "0    0.311760     0.007305       0.043969          0.118998          0.035822   \n",
       "1    0.393607     0.007228       0.058951          0.132507          0.036648   \n",
       "2    0.295179     0.011229       0.006878          0.417715          0.030415   \n",
       "3    0.001285     0.041301       0.026861          0.036653          0.048218   \n",
       "4    0.223299     0.002617       0.008456          0.203382          0.030415   \n",
       "..        ...          ...            ...               ...               ...   \n",
       "111  0.154155     0.003046       0.008456          0.074597          0.030415   \n",
       "112  0.001285     0.011809       0.013656          0.000099          0.030415   \n",
       "113  0.410517     0.008299       0.054356          0.123071          0.045209   \n",
       "114  0.000068     0.000039       0.011081          0.000099          0.030415   \n",
       "115  0.000135     0.000142       0.011160          0.000397          0.030415   \n",
       "\n",
       "     Epicatechin Gallate  Gallocatechin Gallate  Epigallocatechin Gallate  \\\n",
       "0               0.032244               0.519734                  0.295110   \n",
       "1               0.025892               0.527894                  0.247405   \n",
       "2               0.081041               0.019677                  0.426707   \n",
       "3               0.126725               0.068311                  0.470779   \n",
       "4               0.041094               0.092979                  0.296046   \n",
       "..                   ...                    ...                       ...   \n",
       "111             0.014468               0.012100                  0.135729   \n",
       "112             0.004808               0.002846                  0.080639   \n",
       "113             0.033258               0.537381                  0.298004   \n",
       "114             0.000838               0.003036                  0.009182   \n",
       "115             0.000926               0.003416                  0.009780   \n",
       "\n",
       "     Caffeine     Taste  Appearance     Aroma  Liqour color  Infused leaf  \n",
       "0    0.049794  0.000000        0.50  0.055556        0.4375      0.533333  \n",
       "1    0.057685  0.444444        0.70  0.777778        0.7500      0.600000  \n",
       "2    0.038671       NaN         NaN       NaN           NaN           NaN  \n",
       "3    0.036714       NaN         NaN       NaN           NaN           NaN  \n",
       "4    0.014359       NaN         NaN       NaN           NaN           NaN  \n",
       "..        ...       ...         ...       ...           ...           ...  \n",
       "111  0.001121       NaN         NaN       NaN           NaN           NaN  \n",
       "112  0.007825       NaN         NaN       NaN           NaN           NaN  \n",
       "113  0.050088  1.000000        0.85  1.000000        1.0000      0.866667  \n",
       "114  0.008695       NaN         NaN       NaN           NaN           NaN  \n",
       "115  0.008786       NaN         NaN       NaN           NaN           NaN  \n",
       "\n",
       "[116 rows x 14 columns]"
      ]
     },
     "execution_count": 20,
     "metadata": {},
     "output_type": "execute_result"
    }
   ],
   "source": [
    "scaled_train_df"
   ]
  },
  {
   "cell_type": "markdown",
   "metadata": {},
   "source": [
    "# Generative Adversarial Network\n",
    "\n",
    "The purpose of the GAN is to impute missing sensory values. A GAN is a combination of two neural networks: a generator and a discriminator. The generator will generate numbers that it thinks are the appropiate sensory evaluations based on the givens catechins and caffeine input. The discriminator will then decide if that is a realistic output or not. In the end, all missing data on sensory evaluations will be naturally imputted. Much of this was interpreted from https://pytorch.org/tutorials/beginner/dcgan_faces_tutorial.html although specifically using GAN not DCGAN."
   ]
  },
  {
   "cell_type": "code",
   "execution_count": 21,
   "metadata": {},
   "outputs": [],
   "source": [
    "# Create a training dataset for the GAN (rows that include all sensory scores)\n",
    "GAN_train_df = scaled_train_df[(scaled_train_df[sensory_evaluations] > 0).all(axis=1)].dropna(axis=0) # Subset of data containing complete sensory evaluations, right now the GAN does not perform well because of lack of data\n",
    "GAN_test_df = scaled_test_df[(scaled_test_df[sensory_evaluations] > 0).all(axis=1)].dropna(axis=0) "
   ]
  },
  {
   "cell_type": "code",
   "execution_count": 22,
   "metadata": {},
   "outputs": [],
   "source": [
    "class Generator(nn.Module):\n",
    "    def __init__(self):\n",
    "        super(Generator, self).__init__()\n",
    "        self.main = nn.Sequential(\n",
    "            # Input Layer\n",
    "            nn.Linear(9, 128),\n",
    "            nn.LeakyReLU(0.2, inplace=True),\n",
    "\n",
    "            nn.Linear(128, 256),\n",
    "            nn.BatchNorm1d(256),\n",
    "            nn.LeakyReLU(0.2, inplace=True),\n",
    "\n",
    "            nn.Linear(256, 128),\n",
    "            nn.BatchNorm1d(128),\n",
    "            nn.LeakyReLU(0.2, inplace=True),\n",
    "\n",
    "            nn.Linear(128, 5),\n",
    "            nn.Sigmoid() # This is used because output values are in the range [0, 1) (after scaling of course).\n",
    "        )\n",
    "\n",
    "\n",
    "    def forward(self, input):\n",
    "        output = self.main(input)\n",
    "        return output"
   ]
  },
  {
   "cell_type": "code",
   "execution_count": 23,
   "metadata": {},
   "outputs": [],
   "source": [
    "class Discriminator(nn.Module):\n",
    "    def __init__(self):\n",
    "        super(Discriminator, self).__init__()\n",
    "        self.main = nn.Sequential(\n",
    "            # Input layer\n",
    "            nn.Linear(14, 16),\n",
    "            nn.LeakyReLU(0.2, inplace=True),\n",
    "            nn.Dropout(0.3),  # Dropout to prevent overfitting\n",
    "\n",
    "            # Hidden layer\n",
    "            nn.Linear(16, 32),\n",
    "            nn.LeakyReLU(0.2, inplace=True),\n",
    "            nn.Dropout(0.3),\n",
    "\n",
    "            # Output layer - single neuron for binary classification (real or fake)\n",
    "            nn.Linear(32, 1),\n",
    "            nn.Sigmoid()  # Sigmoid to output a probability\n",
    "        )\n",
    "\n",
    "    def forward(self, input):\n",
    "        output = self.main(input)\n",
    "        return output.view(-1, 1).squeeze(1) # Outputs 1D tensor of probabilities \n"
   ]
  },
  {
   "cell_type": "markdown",
   "metadata": {},
   "source": [
    "You must create a custom torch dataset for it to go into the torch dataloader."
   ]
  },
  {
   "cell_type": "code",
   "execution_count": 24,
   "metadata": {},
   "outputs": [],
   "source": [
    "# Custom GAN Dataset\n",
    "from torch.utils.data import Dataset\n",
    "\n",
    "class GANDataset(Dataset):\n",
    "    def __init__(self, dataframe):\n",
    "        self.data_frame = dataframe\n",
    "\n",
    "    def __len__(self):\n",
    "        return len(self.data_frame)\n",
    "\n",
    "    def __getitem__(self, idx):\n",
    "        if torch.is_tensor(idx):\n",
    "            idx = idx.tolist()\n",
    "        \n",
    "        sample = self.data_frame.iloc[idx]\n",
    "        sample = torch.tensor(sample.values, dtype=torch.float32)\n",
    "        return sample\n",
    "\n",
    "GAN_dataset = GANDataset(GAN_train_df)"
   ]
  },
  {
   "cell_type": "code",
   "execution_count": 25,
   "metadata": {},
   "outputs": [],
   "source": [
    "# GAN Dataloader \n",
    "from torch.utils.data import DataLoader\n",
    "dataloader = DataLoader(GAN_dataset, batch_size=32, shuffle=True)"
   ]
  },
  {
   "cell_type": "code",
   "execution_count": 26,
   "metadata": {},
   "outputs": [],
   "source": [
    "# Model Creation\n",
    "generator = Generator().to(device)\n",
    "discriminator = Discriminator().to(device)"
   ]
  },
  {
   "cell_type": "markdown",
   "metadata": {},
   "source": [
    "Optimally, I would like to make all of this a reusable pytorch class. There is no hyperparameter searching like grid-search cv in pytorch so I had to do it manually."
   ]
  },
  {
   "cell_type": "code",
   "execution_count": 27,
   "metadata": {},
   "outputs": [
    {
     "name": "stdout",
     "output_type": "stream",
     "text": [
      "[0/200][0/1] Loss_D: 1.3900 Loss_G: 0.7009 D(x): 0.4907 D(G(z)): 0.4940 / 0.4953\n",
      "[1/200][0/1] Loss_D: 1.3909 Loss_G: 0.7254 D(x): 0.4847 D(G(z)): 0.4894 / 0.4805\n",
      "[2/200][0/1] Loss_D: 1.3903 Loss_G: 0.7155 D(x): 0.4894 D(G(z)): 0.4930 / 0.4864\n",
      "[3/200][0/1] Loss_D: 1.3836 Loss_G: 0.7116 D(x): 0.4892 D(G(z)): 0.4896 / 0.4888\n",
      "[4/200][0/1] Loss_D: 1.3930 Loss_G: 0.7175 D(x): 0.4830 D(G(z)): 0.4891 / 0.4852\n",
      "[5/200][0/1] Loss_D: 1.3785 Loss_G: 0.7226 D(x): 0.4884 D(G(z)): 0.4863 / 0.4822\n",
      "[6/200][0/1] Loss_D: 1.3902 Loss_G: 0.7124 D(x): 0.4783 D(G(z)): 0.4837 / 0.4883\n",
      "[7/200][0/1] Loss_D: 1.3914 Loss_G: 0.7161 D(x): 0.4806 D(G(z)): 0.4861 / 0.4860\n",
      "[8/200][0/1] Loss_D: 1.3878 Loss_G: 0.7186 D(x): 0.4829 D(G(z)): 0.4864 / 0.4846\n",
      "[9/200][0/1] Loss_D: 1.3664 Loss_G: 0.7234 D(x): 0.4878 D(G(z)): 0.4795 / 0.4818\n",
      "[10/200][0/1] Loss_D: 1.3795 Loss_G: 0.7248 D(x): 0.4834 D(G(z)): 0.4826 / 0.4809\n",
      "[11/200][0/1] Loss_D: 1.3832 Loss_G: 0.7261 D(x): 0.4803 D(G(z)): 0.4818 / 0.4801\n",
      "[12/200][0/1] Loss_D: 1.3821 Loss_G: 0.7331 D(x): 0.4822 D(G(z)): 0.4829 / 0.4760\n",
      "[13/200][0/1] Loss_D: 1.3787 Loss_G: 0.7253 D(x): 0.4760 D(G(z)): 0.4757 / 0.4805\n",
      "[14/200][0/1] Loss_D: 1.3720 Loss_G: 0.7368 D(x): 0.4795 D(G(z)): 0.4752 / 0.4738\n",
      "[15/200][0/1] Loss_D: 1.3809 Loss_G: 0.7306 D(x): 0.4751 D(G(z)): 0.4759 / 0.4775\n",
      "[16/200][0/1] Loss_D: 1.3766 Loss_G: 0.7292 D(x): 0.4776 D(G(z)): 0.4760 / 0.4782\n",
      "[17/200][0/1] Loss_D: 1.3831 Loss_G: 0.7320 D(x): 0.4773 D(G(z)): 0.4791 / 0.4766\n",
      "[18/200][0/1] Loss_D: 1.3724 Loss_G: 0.7261 D(x): 0.4792 D(G(z)): 0.4751 / 0.4801\n",
      "[19/200][0/1] Loss_D: 1.3915 Loss_G: 0.7280 D(x): 0.4688 D(G(z)): 0.4758 / 0.4790\n",
      "[20/200][0/1] Loss_D: 1.3806 Loss_G: 0.7362 D(x): 0.4730 D(G(z)): 0.4738 / 0.4741\n",
      "[21/200][0/1] Loss_D: 1.3689 Loss_G: 0.7375 D(x): 0.4760 D(G(z)): 0.4705 / 0.4734\n",
      "[22/200][0/1] Loss_D: 1.3836 Loss_G: 0.7432 D(x): 0.4743 D(G(z)): 0.4766 / 0.4700\n",
      "[23/200][0/1] Loss_D: 1.3841 Loss_G: 0.7362 D(x): 0.4690 D(G(z)): 0.4720 / 0.4741\n",
      "[24/200][0/1] Loss_D: 1.3690 Loss_G: 0.7415 D(x): 0.4711 D(G(z)): 0.4661 / 0.4712\n",
      "[25/200][0/1] Loss_D: 1.3759 Loss_G: 0.7492 D(x): 0.4673 D(G(z)): 0.4663 / 0.4666\n",
      "[26/200][0/1] Loss_D: 1.3788 Loss_G: 0.7395 D(x): 0.4698 D(G(z)): 0.4700 / 0.4721\n",
      "[27/200][0/1] Loss_D: 1.3811 Loss_G: 0.7485 D(x): 0.4702 D(G(z)): 0.4716 / 0.4670\n",
      "[28/200][0/1] Loss_D: 1.3742 Loss_G: 0.7604 D(x): 0.4675 D(G(z)): 0.4654 / 0.4602\n",
      "[29/200][0/1] Loss_D: 1.3598 Loss_G: 0.7465 D(x): 0.4746 D(G(z)): 0.4642 / 0.4681\n",
      "[30/200][0/1] Loss_D: 1.3850 Loss_G: 0.7499 D(x): 0.4639 D(G(z)): 0.4678 / 0.4662\n",
      "[31/200][0/1] Loss_D: 1.3710 Loss_G: 0.7470 D(x): 0.4709 D(G(z)): 0.4669 / 0.4681\n",
      "[32/200][0/1] Loss_D: 1.3783 Loss_G: 0.7544 D(x): 0.4672 D(G(z)): 0.4674 / 0.4637\n",
      "[33/200][0/1] Loss_D: 1.3774 Loss_G: 0.7711 D(x): 0.4653 D(G(z)): 0.4651 / 0.4543\n",
      "[34/200][0/1] Loss_D: 1.3853 Loss_G: 0.7535 D(x): 0.4613 D(G(z)): 0.4654 / 0.4642\n",
      "[35/200][0/1] Loss_D: 1.3706 Loss_G: 0.7547 D(x): 0.4653 D(G(z)): 0.4615 / 0.4635\n",
      "[36/200][0/1] Loss_D: 1.3712 Loss_G: 0.7561 D(x): 0.4628 D(G(z)): 0.4594 / 0.4627\n",
      "[37/200][0/1] Loss_D: 1.3596 Loss_G: 0.7565 D(x): 0.4669 D(G(z)): 0.4571 / 0.4624\n",
      "[38/200][0/1] Loss_D: 1.3841 Loss_G: 0.7654 D(x): 0.4634 D(G(z)): 0.4669 / 0.4574\n",
      "[39/200][0/1] Loss_D: 1.3690 Loss_G: 0.7610 D(x): 0.4685 D(G(z)): 0.4637 / 0.4598\n",
      "[40/200][0/1] Loss_D: 1.3758 Loss_G: 0.7549 D(x): 0.4614 D(G(z)): 0.4605 / 0.4634\n",
      "[41/200][0/1] Loss_D: 1.3684 Loss_G: 0.7646 D(x): 0.4629 D(G(z)): 0.4580 / 0.4578\n",
      "[42/200][0/1] Loss_D: 1.3736 Loss_G: 0.7492 D(x): 0.4674 D(G(z)): 0.4650 / 0.4666\n",
      "[43/200][0/1] Loss_D: 1.3725 Loss_G: 0.7591 D(x): 0.4601 D(G(z)): 0.4575 / 0.4609\n",
      "[44/200][0/1] Loss_D: 1.3723 Loss_G: 0.7732 D(x): 0.4619 D(G(z)): 0.4592 / 0.4531\n",
      "[45/200][0/1] Loss_D: 1.3733 Loss_G: 0.7578 D(x): 0.4604 D(G(z)): 0.4583 / 0.4617\n",
      "[46/200][0/1] Loss_D: 1.3713 Loss_G: 0.7605 D(x): 0.4624 D(G(z)): 0.4590 / 0.4601\n",
      "[47/200][0/1] Loss_D: 1.3756 Loss_G: 0.7578 D(x): 0.4613 D(G(z)): 0.4603 / 0.4617\n",
      "[48/200][0/1] Loss_D: 1.3626 Loss_G: 0.7620 D(x): 0.4679 D(G(z)): 0.4595 / 0.4595\n",
      "[49/200][0/1] Loss_D: 1.3813 Loss_G: 0.7563 D(x): 0.4589 D(G(z)): 0.4611 / 0.4626\n",
      "[50/200][0/1] Loss_D: 1.3784 Loss_G: 0.7609 D(x): 0.4607 D(G(z)): 0.4613 / 0.4599\n",
      "[51/200][0/1] Loss_D: 1.3880 Loss_G: 0.7707 D(x): 0.4543 D(G(z)): 0.4602 / 0.4545\n",
      "[52/200][0/1] Loss_D: 1.3749 Loss_G: 0.7549 D(x): 0.4585 D(G(z)): 0.4573 / 0.4634\n",
      "[53/200][0/1] Loss_D: 1.3805 Loss_G: 0.7690 D(x): 0.4588 D(G(z)): 0.4607 / 0.4554\n",
      "[54/200][0/1] Loss_D: 1.3722 Loss_G: 0.7602 D(x): 0.4622 D(G(z)): 0.4593 / 0.4603\n",
      "[55/200][0/1] Loss_D: 1.3687 Loss_G: 0.7687 D(x): 0.4612 D(G(z)): 0.4564 / 0.4557\n",
      "[56/200][0/1] Loss_D: 1.3755 Loss_G: 0.7649 D(x): 0.4591 D(G(z)): 0.4582 / 0.4578\n",
      "[57/200][0/1] Loss_D: 1.3874 Loss_G: 0.7511 D(x): 0.4603 D(G(z)): 0.4656 / 0.4654\n",
      "[58/200][0/1] Loss_D: 1.3730 Loss_G: 0.7685 D(x): 0.4569 D(G(z)): 0.4547 / 0.4556\n",
      "[59/200][0/1] Loss_D: 1.3823 Loss_G: 0.7611 D(x): 0.4582 D(G(z)): 0.4609 / 0.4598\n",
      "[60/200][0/1] Loss_D: 1.3938 Loss_G: 0.7685 D(x): 0.4524 D(G(z)): 0.4616 / 0.4557\n",
      "[61/200][0/1] Loss_D: 1.3880 Loss_G: 0.7619 D(x): 0.4520 D(G(z)): 0.4580 / 0.4594\n",
      "[62/200][0/1] Loss_D: 1.3721 Loss_G: 0.7675 D(x): 0.4565 D(G(z)): 0.4538 / 0.4562\n",
      "[63/200][0/1] Loss_D: 1.3862 Loss_G: 0.7659 D(x): 0.4553 D(G(z)): 0.4603 / 0.4573\n",
      "[64/200][0/1] Loss_D: 1.3692 Loss_G: 0.7620 D(x): 0.4595 D(G(z)): 0.4552 / 0.4593\n",
      "[65/200][0/1] Loss_D: 1.3758 Loss_G: 0.7577 D(x): 0.4598 D(G(z)): 0.4588 / 0.4617\n",
      "[66/200][0/1] Loss_D: 1.3803 Loss_G: 0.7670 D(x): 0.4557 D(G(z)): 0.4575 / 0.4565\n",
      "[67/200][0/1] Loss_D: 1.3875 Loss_G: 0.7654 D(x): 0.4502 D(G(z)): 0.4560 / 0.4574\n",
      "[68/200][0/1] Loss_D: 1.3713 Loss_G: 0.7725 D(x): 0.4606 D(G(z)): 0.4574 / 0.4535\n",
      "[69/200][0/1] Loss_D: 1.3691 Loss_G: 0.7594 D(x): 0.4655 D(G(z)): 0.4608 / 0.4609\n",
      "[70/200][0/1] Loss_D: 1.3661 Loss_G: 0.7733 D(x): 0.4561 D(G(z)): 0.4501 / 0.4531\n",
      "[71/200][0/1] Loss_D: 1.3869 Loss_G: 0.7549 D(x): 0.4540 D(G(z)): 0.4594 / 0.4634\n",
      "[72/200][0/1] Loss_D: 1.3642 Loss_G: 0.7570 D(x): 0.4614 D(G(z)): 0.4543 / 0.4623\n",
      "[73/200][0/1] Loss_D: 1.3896 Loss_G: 0.7696 D(x): 0.4512 D(G(z)): 0.4581 / 0.4551\n",
      "[74/200][0/1] Loss_D: 1.3813 Loss_G: 0.7601 D(x): 0.4533 D(G(z)): 0.4559 / 0.4603\n",
      "[75/200][0/1] Loss_D: 1.3615 Loss_G: 0.7750 D(x): 0.4641 D(G(z)): 0.4554 / 0.4521\n",
      "[76/200][0/1] Loss_D: 1.3808 Loss_G: 0.7786 D(x): 0.4559 D(G(z)): 0.4579 / 0.4502\n",
      "[77/200][0/1] Loss_D: 1.3716 Loss_G: 0.7662 D(x): 0.4558 D(G(z)): 0.4529 / 0.4569\n",
      "[78/200][0/1] Loss_D: 1.3805 Loss_G: 0.7788 D(x): 0.4498 D(G(z)): 0.4519 / 0.4500\n",
      "[79/200][0/1] Loss_D: 1.3666 Loss_G: 0.7754 D(x): 0.4539 D(G(z)): 0.4482 / 0.4518\n",
      "[80/200][0/1] Loss_D: 1.3756 Loss_G: 0.7718 D(x): 0.4521 D(G(z)): 0.4514 / 0.4539\n",
      "[81/200][0/1] Loss_D: 1.3655 Loss_G: 0.7789 D(x): 0.4565 D(G(z)): 0.4503 / 0.4499\n",
      "[82/200][0/1] Loss_D: 1.3863 Loss_G: 0.7660 D(x): 0.4497 D(G(z)): 0.4548 / 0.4571\n",
      "[83/200][0/1] Loss_D: 1.3647 Loss_G: 0.7774 D(x): 0.4521 D(G(z)): 0.4454 / 0.4508\n",
      "[84/200][0/1] Loss_D: 1.3799 Loss_G: 0.7784 D(x): 0.4509 D(G(z)): 0.4524 / 0.4503\n",
      "[85/200][0/1] Loss_D: 1.3909 Loss_G: 0.7732 D(x): 0.4464 D(G(z)): 0.4539 / 0.4531\n",
      "[86/200][0/1] Loss_D: 1.3754 Loss_G: 0.7808 D(x): 0.4513 D(G(z)): 0.4505 / 0.4489\n",
      "[87/200][0/1] Loss_D: 1.3676 Loss_G: 0.7701 D(x): 0.4566 D(G(z)): 0.4514 / 0.4548\n",
      "[88/200][0/1] Loss_D: 1.3827 Loss_G: 0.7722 D(x): 0.4495 D(G(z)): 0.4527 / 0.4536\n",
      "[89/200][0/1] Loss_D: 1.3786 Loss_G: 0.7724 D(x): 0.4488 D(G(z)): 0.4498 / 0.4536\n",
      "[90/200][0/1] Loss_D: 1.3730 Loss_G: 0.7696 D(x): 0.4523 D(G(z)): 0.4501 / 0.4551\n",
      "[91/200][0/1] Loss_D: 1.3845 Loss_G: 0.7675 D(x): 0.4506 D(G(z)): 0.4548 / 0.4563\n",
      "[92/200][0/1] Loss_D: 1.3716 Loss_G: 0.7657 D(x): 0.4554 D(G(z)): 0.4524 / 0.4573\n",
      "[93/200][0/1] Loss_D: 1.3819 Loss_G: 0.7680 D(x): 0.4508 D(G(z)): 0.4536 / 0.4562\n",
      "[94/200][0/1] Loss_D: 1.3783 Loss_G: 0.7732 D(x): 0.4559 D(G(z)): 0.4564 / 0.4531\n",
      "[95/200][0/1] Loss_D: 1.3877 Loss_G: 0.7754 D(x): 0.4502 D(G(z)): 0.4561 / 0.4519\n",
      "[96/200][0/1] Loss_D: 1.3797 Loss_G: 0.7733 D(x): 0.4483 D(G(z)): 0.4499 / 0.4530\n",
      "[97/200][0/1] Loss_D: 1.3924 Loss_G: 0.7725 D(x): 0.4504 D(G(z)): 0.4590 / 0.4535\n",
      "[98/200][0/1] Loss_D: 1.3865 Loss_G: 0.7658 D(x): 0.4520 D(G(z)): 0.4571 / 0.4572\n",
      "[99/200][0/1] Loss_D: 1.3783 Loss_G: 0.7741 D(x): 0.4524 D(G(z)): 0.4530 / 0.4526\n",
      "[100/200][0/1] Loss_D: 1.3763 Loss_G: 0.7727 D(x): 0.4556 D(G(z)): 0.4553 / 0.4534\n",
      "[101/200][0/1] Loss_D: 1.3728 Loss_G: 0.7747 D(x): 0.4583 D(G(z)): 0.4561 / 0.4523\n",
      "[102/200][0/1] Loss_D: 1.3937 Loss_G: 0.7653 D(x): 0.4476 D(G(z)): 0.4569 / 0.4575\n",
      "[103/200][0/1] Loss_D: 1.3664 Loss_G: 0.7716 D(x): 0.4542 D(G(z)): 0.4484 / 0.4539\n",
      "[104/200][0/1] Loss_D: 1.3692 Loss_G: 0.7720 D(x): 0.4532 D(G(z)): 0.4489 / 0.4537\n",
      "[105/200][0/1] Loss_D: 1.3824 Loss_G: 0.7747 D(x): 0.4512 D(G(z)): 0.4542 / 0.4522\n",
      "[106/200][0/1] Loss_D: 1.3864 Loss_G: 0.7691 D(x): 0.4548 D(G(z)): 0.4597 / 0.4554\n",
      "[107/200][0/1] Loss_D: 1.3678 Loss_G: 0.7749 D(x): 0.4564 D(G(z)): 0.4514 / 0.4522\n",
      "[108/200][0/1] Loss_D: 1.3733 Loss_G: 0.7720 D(x): 0.4545 D(G(z)): 0.4525 / 0.4538\n",
      "[109/200][0/1] Loss_D: 1.3791 Loss_G: 0.7599 D(x): 0.4492 D(G(z)): 0.4504 / 0.4606\n",
      "[110/200][0/1] Loss_D: 1.3811 Loss_G: 0.7657 D(x): 0.4525 D(G(z)): 0.4549 / 0.4572\n",
      "[111/200][0/1] Loss_D: 1.3793 Loss_G: 0.7628 D(x): 0.4525 D(G(z)): 0.4538 / 0.4588\n",
      "[112/200][0/1] Loss_D: 1.3639 Loss_G: 0.7752 D(x): 0.4603 D(G(z)): 0.4530 / 0.4521\n",
      "[113/200][0/1] Loss_D: 1.3862 Loss_G: 0.7704 D(x): 0.4518 D(G(z)): 0.4568 / 0.4546\n",
      "[114/200][0/1] Loss_D: 1.3650 Loss_G: 0.7732 D(x): 0.4545 D(G(z)): 0.4479 / 0.4531\n",
      "[115/200][0/1] Loss_D: 1.3789 Loss_G: 0.7747 D(x): 0.4528 D(G(z)): 0.4540 / 0.4522\n",
      "[116/200][0/1] Loss_D: 1.3886 Loss_G: 0.7705 D(x): 0.4523 D(G(z)): 0.4586 / 0.4547\n",
      "[117/200][0/1] Loss_D: 1.3797 Loss_G: 0.7733 D(x): 0.4525 D(G(z)): 0.4541 / 0.4530\n",
      "[118/200][0/1] Loss_D: 1.4009 Loss_G: 0.7771 D(x): 0.4466 D(G(z)): 0.4597 / 0.4509\n",
      "[119/200][0/1] Loss_D: 1.3842 Loss_G: 0.7766 D(x): 0.4522 D(G(z)): 0.4561 / 0.4511\n",
      "[120/200][0/1] Loss_D: 1.3699 Loss_G: 0.7789 D(x): 0.4561 D(G(z)): 0.4522 / 0.4498\n",
      "[121/200][0/1] Loss_D: 1.3773 Loss_G: 0.7755 D(x): 0.4516 D(G(z)): 0.4518 / 0.4519\n",
      "[122/200][0/1] Loss_D: 1.3694 Loss_G: 0.7649 D(x): 0.4539 D(G(z)): 0.4499 / 0.4577\n",
      "[123/200][0/1] Loss_D: 1.3781 Loss_G: 0.7809 D(x): 0.4540 D(G(z)): 0.4546 / 0.4491\n",
      "[124/200][0/1] Loss_D: 1.3700 Loss_G: 0.7808 D(x): 0.4536 D(G(z)): 0.4498 / 0.4489\n",
      "[125/200][0/1] Loss_D: 1.3808 Loss_G: 0.7797 D(x): 0.4503 D(G(z)): 0.4525 / 0.4495\n",
      "[126/200][0/1] Loss_D: 1.3797 Loss_G: 0.7764 D(x): 0.4507 D(G(z)): 0.4522 / 0.4513\n",
      "[127/200][0/1] Loss_D: 1.3913 Loss_G: 0.7602 D(x): 0.4517 D(G(z)): 0.4596 / 0.4604\n",
      "[128/200][0/1] Loss_D: 1.3893 Loss_G: 0.7771 D(x): 0.4448 D(G(z)): 0.4517 / 0.4510\n",
      "[129/200][0/1] Loss_D: 1.3761 Loss_G: 0.7736 D(x): 0.4450 D(G(z)): 0.4446 / 0.4528\n",
      "[130/200][0/1] Loss_D: 1.3700 Loss_G: 0.7724 D(x): 0.4492 D(G(z)): 0.4456 / 0.4536\n",
      "[131/200][0/1] Loss_D: 1.3666 Loss_G: 0.7777 D(x): 0.4516 D(G(z)): 0.4459 / 0.4505\n",
      "[132/200][0/1] Loss_D: 1.3778 Loss_G: 0.7835 D(x): 0.4528 D(G(z)): 0.4532 / 0.4474\n",
      "[133/200][0/1] Loss_D: 1.3784 Loss_G: 0.7743 D(x): 0.4538 D(G(z)): 0.4547 / 0.4526\n",
      "[134/200][0/1] Loss_D: 1.3764 Loss_G: 0.7838 D(x): 0.4490 D(G(z)): 0.4488 / 0.4474\n",
      "[135/200][0/1] Loss_D: 1.3628 Loss_G: 0.7795 D(x): 0.4549 D(G(z)): 0.4471 / 0.4496\n",
      "[136/200][0/1] Loss_D: 1.3778 Loss_G: 0.7779 D(x): 0.4506 D(G(z)): 0.4510 / 0.4505\n",
      "[137/200][0/1] Loss_D: 1.3520 Loss_G: 0.7780 D(x): 0.4571 D(G(z)): 0.4433 / 0.4506\n",
      "[138/200][0/1] Loss_D: 1.3755 Loss_G: 0.7782 D(x): 0.4453 D(G(z)): 0.4446 / 0.4504\n",
      "[139/200][0/1] Loss_D: 1.3725 Loss_G: 0.7854 D(x): 0.4504 D(G(z)): 0.4480 / 0.4464\n",
      "[140/200][0/1] Loss_D: 1.3750 Loss_G: 0.7748 D(x): 0.4534 D(G(z)): 0.4524 / 0.4522\n",
      "[141/200][0/1] Loss_D: 1.3797 Loss_G: 0.7832 D(x): 0.4504 D(G(z)): 0.4520 / 0.4478\n",
      "[142/200][0/1] Loss_D: 1.3721 Loss_G: 0.7729 D(x): 0.4496 D(G(z)): 0.4468 / 0.4533\n",
      "[143/200][0/1] Loss_D: 1.3742 Loss_G: 0.7786 D(x): 0.4508 D(G(z)): 0.4494 / 0.4502\n",
      "[144/200][0/1] Loss_D: 1.3749 Loss_G: 0.7863 D(x): 0.4516 D(G(z)): 0.4506 / 0.4459\n",
      "[145/200][0/1] Loss_D: 1.3744 Loss_G: 0.7801 D(x): 0.4533 D(G(z)): 0.4520 / 0.4494\n",
      "[146/200][0/1] Loss_D: 1.3724 Loss_G: 0.7795 D(x): 0.4500 D(G(z)): 0.4475 / 0.4496\n",
      "[147/200][0/1] Loss_D: 1.3860 Loss_G: 0.7962 D(x): 0.4395 D(G(z)): 0.4445 / 0.4405\n",
      "[148/200][0/1] Loss_D: 1.3672 Loss_G: 0.7823 D(x): 0.4520 D(G(z)): 0.4466 / 0.4481\n",
      "[149/200][0/1] Loss_D: 1.3802 Loss_G: 0.7767 D(x): 0.4482 D(G(z)): 0.4499 / 0.4512\n",
      "[150/200][0/1] Loss_D: 1.3704 Loss_G: 0.7849 D(x): 0.4488 D(G(z)): 0.4451 / 0.4468\n",
      "[151/200][0/1] Loss_D: 1.3682 Loss_G: 0.7948 D(x): 0.4457 D(G(z)): 0.4408 / 0.4413\n",
      "[152/200][0/1] Loss_D: 1.3919 Loss_G: 0.7742 D(x): 0.4434 D(G(z)): 0.4515 / 0.4524\n",
      "[153/200][0/1] Loss_D: 1.3735 Loss_G: 0.7862 D(x): 0.4482 D(G(z)): 0.4464 / 0.4460\n",
      "[154/200][0/1] Loss_D: 1.3677 Loss_G: 0.7872 D(x): 0.4484 D(G(z)): 0.4434 / 0.4454\n",
      "[155/200][0/1] Loss_D: 1.3874 Loss_G: 0.7787 D(x): 0.4448 D(G(z)): 0.4507 / 0.4501\n",
      "[156/200][0/1] Loss_D: 1.3847 Loss_G: 0.7810 D(x): 0.4464 D(G(z)): 0.4507 / 0.4489\n",
      "[157/200][0/1] Loss_D: 1.3925 Loss_G: 0.7857 D(x): 0.4430 D(G(z)): 0.4515 / 0.4462\n",
      "[158/200][0/1] Loss_D: 1.3735 Loss_G: 0.7792 D(x): 0.4505 D(G(z)): 0.4486 / 0.4499\n",
      "[159/200][0/1] Loss_D: 1.3708 Loss_G: 0.7784 D(x): 0.4505 D(G(z)): 0.4472 / 0.4502\n",
      "[160/200][0/1] Loss_D: 1.3842 Loss_G: 0.7747 D(x): 0.4493 D(G(z)): 0.4533 / 0.4522\n",
      "[161/200][0/1] Loss_D: 1.3999 Loss_G: 0.7849 D(x): 0.4449 D(G(z)): 0.4575 / 0.4466\n",
      "[162/200][0/1] Loss_D: 1.3866 Loss_G: 0.7867 D(x): 0.4474 D(G(z)): 0.4527 / 0.4456\n",
      "[163/200][0/1] Loss_D: 1.3693 Loss_G: 0.7613 D(x): 0.4499 D(G(z)): 0.4457 / 0.4598\n",
      "[164/200][0/1] Loss_D: 1.3842 Loss_G: 0.7763 D(x): 0.4508 D(G(z)): 0.4548 / 0.4514\n",
      "[165/200][0/1] Loss_D: 1.3822 Loss_G: 0.7774 D(x): 0.4513 D(G(z)): 0.4543 / 0.4508\n",
      "[166/200][0/1] Loss_D: 1.3799 Loss_G: 0.7670 D(x): 0.4515 D(G(z)): 0.4532 / 0.4565\n",
      "[167/200][0/1] Loss_D: 1.3711 Loss_G: 0.7711 D(x): 0.4520 D(G(z)): 0.4489 / 0.4542\n",
      "[168/200][0/1] Loss_D: 1.3738 Loss_G: 0.7716 D(x): 0.4535 D(G(z)): 0.4519 / 0.4540\n",
      "[169/200][0/1] Loss_D: 1.3731 Loss_G: 0.7701 D(x): 0.4536 D(G(z)): 0.4516 / 0.4547\n",
      "[170/200][0/1] Loss_D: 1.3773 Loss_G: 0.7720 D(x): 0.4503 D(G(z)): 0.4506 / 0.4538\n",
      "[171/200][0/1] Loss_D: 1.3698 Loss_G: 0.7727 D(x): 0.4570 D(G(z)): 0.4531 / 0.4533\n",
      "[172/200][0/1] Loss_D: 1.3793 Loss_G: 0.7697 D(x): 0.4567 D(G(z)): 0.4580 / 0.4549\n",
      "[173/200][0/1] Loss_D: 1.3752 Loss_G: 0.7786 D(x): 0.4556 D(G(z)): 0.4547 / 0.4501\n",
      "[174/200][0/1] Loss_D: 1.3709 Loss_G: 0.7702 D(x): 0.4575 D(G(z)): 0.4542 / 0.4548\n",
      "[175/200][0/1] Loss_D: 1.3857 Loss_G: 0.7772 D(x): 0.4521 D(G(z)): 0.4569 / 0.4509\n",
      "[176/200][0/1] Loss_D: 1.3600 Loss_G: 0.7787 D(x): 0.4583 D(G(z)): 0.4489 / 0.4502\n",
      "[177/200][0/1] Loss_D: 1.3888 Loss_G: 0.7712 D(x): 0.4491 D(G(z)): 0.4557 / 0.4543\n",
      "[178/200][0/1] Loss_D: 1.3801 Loss_G: 0.7747 D(x): 0.4488 D(G(z)): 0.4506 / 0.4523\n",
      "[179/200][0/1] Loss_D: 1.3927 Loss_G: 0.7764 D(x): 0.4459 D(G(z)): 0.4546 / 0.4514\n",
      "[180/200][0/1] Loss_D: 1.3788 Loss_G: 0.7687 D(x): 0.4506 D(G(z)): 0.4518 / 0.4556\n",
      "[181/200][0/1] Loss_D: 1.3836 Loss_G: 0.7693 D(x): 0.4498 D(G(z)): 0.4534 / 0.4553\n",
      "[182/200][0/1] Loss_D: 1.3795 Loss_G: 0.7781 D(x): 0.4531 D(G(z)): 0.4545 / 0.4505\n",
      "[183/200][0/1] Loss_D: 1.3792 Loss_G: 0.7698 D(x): 0.4560 D(G(z)): 0.4571 / 0.4551\n",
      "[184/200][0/1] Loss_D: 1.3736 Loss_G: 0.7735 D(x): 0.4557 D(G(z)): 0.4539 / 0.4529\n",
      "[185/200][0/1] Loss_D: 1.3771 Loss_G: 0.7763 D(x): 0.4558 D(G(z)): 0.4558 / 0.4513\n",
      "[186/200][0/1] Loss_D: 1.3945 Loss_G: 0.7744 D(x): 0.4521 D(G(z)): 0.4616 / 0.4524\n",
      "[187/200][0/1] Loss_D: 1.3773 Loss_G: 0.7710 D(x): 0.4500 D(G(z)): 0.4502 / 0.4543\n",
      "[188/200][0/1] Loss_D: 1.3758 Loss_G: 0.7784 D(x): 0.4542 D(G(z)): 0.4538 / 0.4501\n",
      "[189/200][0/1] Loss_D: 1.3769 Loss_G: 0.7653 D(x): 0.4554 D(G(z)): 0.4555 / 0.4575\n",
      "[190/200][0/1] Loss_D: 1.3838 Loss_G: 0.7652 D(x): 0.4505 D(G(z)): 0.4545 / 0.4575\n",
      "[191/200][0/1] Loss_D: 1.3903 Loss_G: 0.7687 D(x): 0.4474 D(G(z)): 0.4549 / 0.4555\n",
      "[192/200][0/1] Loss_D: 1.3800 Loss_G: 0.7736 D(x): 0.4540 D(G(z)): 0.4558 / 0.4528\n",
      "[193/200][0/1] Loss_D: 1.3690 Loss_G: 0.7722 D(x): 0.4595 D(G(z)): 0.4551 / 0.4536\n",
      "[194/200][0/1] Loss_D: 1.3825 Loss_G: 0.7777 D(x): 0.4487 D(G(z)): 0.4519 / 0.4506\n",
      "[195/200][0/1] Loss_D: 1.3829 Loss_G: 0.7708 D(x): 0.4543 D(G(z)): 0.4575 / 0.4544\n",
      "[196/200][0/1] Loss_D: 1.3656 Loss_G: 0.7753 D(x): 0.4587 D(G(z)): 0.4524 / 0.4518\n",
      "[197/200][0/1] Loss_D: 1.3859 Loss_G: 0.7731 D(x): 0.4524 D(G(z)): 0.4574 / 0.4530\n",
      "[198/200][0/1] Loss_D: 1.3841 Loss_G: 0.7807 D(x): 0.4492 D(G(z)): 0.4533 / 0.4489\n",
      "[199/200][0/1] Loss_D: 1.3795 Loss_G: 0.7759 D(x): 0.4535 D(G(z)): 0.4550 / 0.4516\n"
     ]
    }
   ],
   "source": [
    "# Setup Adam optimizers for both G and D\n",
    "import torch.optim as optim\n",
    "optimizerD = optim.Adam(discriminator.parameters(), lr=0.001, betas=(0.5, 0.999))  \n",
    "optimizerG = optim.Adam(generator.parameters(), lr=0.0008, betas=(0.5, 0.999))\n",
    "\n",
    "# Initialize the BCELoss function\n",
    "criterion = nn.BCELoss()\n",
    "\n",
    "generator_losses = []\n",
    "discriminator_losses = []\n",
    "epochs = 200\n",
    "\n",
    "def train_GAN():\n",
    "    for epoch in range(epochs):\n",
    "        for i, data in enumerate(dataloader, 0):\n",
    "            \n",
    "            # Seperate data and convert to current device\n",
    "            chemical_data = data[:, :9] # Features seperated\n",
    "            sensory_data = data[:, 9:] # Labels seperated\n",
    "\n",
    "            chemical_data = chemical_data.to(device)\n",
    "            sensory_data = sensory_data.to(device)\n",
    "\n",
    "            # Find current batch size\n",
    "            current_batch_size = chemical_data.size(0)\n",
    "\n",
    "            # Create labels for real and generated data\n",
    "            real_label = torch.full((current_batch_size,), .9, dtype=torch.float, device=device) # Creates a tensor of labels indiciated data is real w/ label smoothing\n",
    "            fake_label = torch.full((current_batch_size,), 0. , dtype=torch.float, device=device) # Creates a tensor of labels indidicated data is generated\n",
    "\n",
    "            # Update Discriminator - Clear accumulated gradients from previous pass\n",
    "            discriminator.zero_grad()\n",
    "\n",
    "            # Train discriminator with real data w/ some notes for myself\n",
    "            real_data = torch.cat((chemical_data, sensory_data), 1) # Same as pd.concat(axis=1)\n",
    "            output = discriminator(real_data).view(-1) # Same as numpy.reshape(-1,1), used to calculate loss\n",
    "            errD_real = criterion(output, real_label)\n",
    "            errD_real.backward() # Perform backpropogation based on errD_real\n",
    "            D_x = output.mean().item() # Outputs average discriminator prediction\n",
    "\n",
    "            # Train discriminator with fake data\n",
    "            fake_sensory_data = generator(chemical_data) \n",
    "            fake_data = torch.cat((chemical_data, fake_sensory_data), 1) # Create a dataset of real chemical data but generated sensory data\n",
    "            output = discriminator(fake_data.detach()).view(-1) # detach is used to ensure gradients aren't computed for the generator during the discriminators backwards pass\n",
    "            errD_fake = criterion(output, fake_label)\n",
    "            errD_fake.backward()\n",
    "            D_G_z1 = output.mean().item() # Outputs average discriminator prediction for fake data\n",
    "\n",
    "            # Update Discriminator weights\n",
    "            errD = errD_real + errD_fake\n",
    "            optimizerD.step()\n",
    "\n",
    "            # Update Generator\n",
    "            generator.zero_grad()\n",
    "            output = discriminator(fake_data).view(-1)\n",
    "            errG = criterion(output, real_label)\n",
    "            errG.backward()\n",
    "            D_G_z2 = output.mean().item()\n",
    "\n",
    "            # Update Generate weights\n",
    "            optimizerG.step()\n",
    "\n",
    "            # Print training log\n",
    "            if i % 50 == 0: # Prints every 50 batches, might change\n",
    "                print(f'[{epoch}/{epochs}][{i}/{len(dataloader)}] '\n",
    "                    f'Loss_D: {errD.item():.4f} Loss_G: {errG.item():.4f} '\n",
    "                    f'D(x): {D_x:.4f} D(G(z)): {D_G_z1:.4f} / {D_G_z2:.4f}')\n",
    "                \n",
    "            # Save losses\n",
    "            generator_losses.append(errG.item())\n",
    "            discriminator_losses.append(errD.item())\n",
    "\n",
    "train_GAN()"
   ]
  },
  {
   "cell_type": "code",
   "execution_count": 28,
   "metadata": {},
   "outputs": [
    {
     "data": {
      "image/png": "[encoded data removed]",
      "text/plain": [
       "<Figure size 1200x700 with 1 Axes>"
      ]
     },
     "metadata": {},
     "output_type": "display_data"
    }
   ],
   "source": [
    "def plot_GAN_loss():\n",
    "    plt.figure(figsize=(12,7))\n",
    "    plt.title('Generator and Discriminator Loss During Training')\n",
    "    plt.plot(generator_losses, label='G')\n",
    "    plt.plot(discriminator_losses, label='D')\n",
    "    plt.legend()\n",
    "    plt.xlabel('Iterations')\n",
    "    plt.ylabel('Loss')\n",
    "    plt.show()\n",
    "\n",
    "plot_GAN_loss()"
   ]
  },
  {
   "cell_type": "markdown",
   "metadata": {},
   "source": [
    "# Define rows that need to be imputed\n",
    "These are the rows currently missing sensory data"
   ]
  },
  {
   "cell_type": "code",
   "execution_count": 29,
   "metadata": {},
   "outputs": [],
   "source": [
    "train_data_to_impute = torch.tensor(scaled_train_df[(scaled_train_df[sensory_evaluations].isna()).all(axis=1)][chemicals].values, dtype=torch.float32).to(device)\n",
    "test_data_to_impute = torch.tensor(scaled_test_df[(scaled_test_df[sensory_evaluations].isna()).all(axis=1)][chemicals].values, dtype=torch.float32).to(device)"
   ]
  },
  {
   "cell_type": "markdown",
   "metadata": {},
   "source": [
    "# Impute missing sensory data with the GAN"
   ]
  },
  {
   "cell_type": "code",
   "execution_count": 30,
   "metadata": {},
   "outputs": [],
   "source": [
    "generator.eval() # Put generator in eval mode\n",
    "\n",
    "with torch.no_grad():\n",
    "    imputed_sensory_data_train = pd.DataFrame(generator(train_data_to_impute).cpu().numpy(), columns=sensory_evaluations)\n",
    "    imputed_sensory_data_test = pd.DataFrame(generator(test_data_to_impute).cpu().numpy(), columns=sensory_evaluations)"
   ]
  },
  {
   "cell_type": "code",
   "execution_count": 31,
   "metadata": {},
   "outputs": [
    {
     "data": {
      "text/html": [
       "<div>\n",
       "<style scoped>\n",
       "    .dataframe tbody tr th:only-of-type {\n",
       "        vertical-align: middle;\n",
       "    }\n",
       "\n",
       "    .dataframe tbody tr th {\n",
       "        vertical-align: top;\n",
       "    }\n",
       "\n",
       "    .dataframe thead th {\n",
       "        text-align: right;\n",
       "    }\n",
       "</style>\n",
       "<table border=\"1\" class=\"dataframe\">\n",
       "  <thead>\n",
       "    <tr style=\"text-align: right;\">\n",
       "      <th></th>\n",
       "      <th>Catechin</th>\n",
       "      <th>Epicatechin</th>\n",
       "      <th>Gallocatechin</th>\n",
       "      <th>Epigallocatechin</th>\n",
       "      <th>Catechin Gallate</th>\n",
       "      <th>Epicatechin Gallate</th>\n",
       "      <th>Gallocatechin Gallate</th>\n",
       "      <th>Epigallocatechin Gallate</th>\n",
       "      <th>Caffeine</th>\n",
       "    </tr>\n",
       "  </thead>\n",
       "  <tbody>\n",
       "    <tr>\n",
       "      <th>0</th>\n",
       "      <td>0.174448</td>\n",
       "      <td>0.012261</td>\n",
       "      <td>0.008456</td>\n",
       "      <td>0.247234</td>\n",
       "      <td>0.030415</td>\n",
       "      <td>0.061003</td>\n",
       "      <td>0.036830</td>\n",
       "      <td>0.429142</td>\n",
       "      <td>0.001382</td>\n",
       "    </tr>\n",
       "    <tr>\n",
       "      <th>1</th>\n",
       "      <td>0.173771</td>\n",
       "      <td>0.038332</td>\n",
       "      <td>0.013638</td>\n",
       "      <td>0.323718</td>\n",
       "      <td>0.030415</td>\n",
       "      <td>0.079067</td>\n",
       "      <td>0.003036</td>\n",
       "      <td>0.500903</td>\n",
       "      <td>0.027017</td>\n",
       "    </tr>\n",
       "    <tr>\n",
       "      <th>2</th>\n",
       "      <td>0.177689</td>\n",
       "      <td>0.008316</td>\n",
       "      <td>0.005218</td>\n",
       "      <td>0.288654</td>\n",
       "      <td>0.030415</td>\n",
       "      <td>0.073680</td>\n",
       "      <td>0.003036</td>\n",
       "      <td>0.327365</td>\n",
       "      <td>0.037012</td>\n",
       "    </tr>\n",
       "    <tr>\n",
       "      <th>3</th>\n",
       "      <td>0.001285</td>\n",
       "      <td>0.000736</td>\n",
       "      <td>0.008456</td>\n",
       "      <td>0.007052</td>\n",
       "      <td>0.030415</td>\n",
       "      <td>0.005117</td>\n",
       "      <td>0.002277</td>\n",
       "      <td>0.132834</td>\n",
       "      <td>0.006846</td>\n",
       "    </tr>\n",
       "    <tr>\n",
       "      <th>4</th>\n",
       "      <td>0.001285</td>\n",
       "      <td>0.020908</td>\n",
       "      <td>0.008456</td>\n",
       "      <td>0.043606</td>\n",
       "      <td>0.031603</td>\n",
       "      <td>0.115257</td>\n",
       "      <td>0.081594</td>\n",
       "      <td>0.499992</td>\n",
       "      <td>0.019131</td>\n",
       "    </tr>\n",
       "    <tr>\n",
       "      <th>5</th>\n",
       "      <td>0.274399</td>\n",
       "      <td>0.001316</td>\n",
       "      <td>0.008456</td>\n",
       "      <td>0.243125</td>\n",
       "      <td>0.030415</td>\n",
       "      <td>0.049842</td>\n",
       "      <td>0.149905</td>\n",
       "      <td>0.367829</td>\n",
       "      <td>0.016227</td>\n",
       "    </tr>\n",
       "    <tr>\n",
       "      <th>6</th>\n",
       "      <td>0.001285</td>\n",
       "      <td>0.062919</td>\n",
       "      <td>0.050110</td>\n",
       "      <td>0.000000</td>\n",
       "      <td>0.030415</td>\n",
       "      <td>0.006793</td>\n",
       "      <td>0.002657</td>\n",
       "      <td>0.089824</td>\n",
       "      <td>0.037185</td>\n",
       "    </tr>\n",
       "    <tr>\n",
       "      <th>7</th>\n",
       "      <td>0.906330</td>\n",
       "      <td>0.025426</td>\n",
       "      <td>0.091987</td>\n",
       "      <td>0.215448</td>\n",
       "      <td>0.162212</td>\n",
       "      <td>0.317276</td>\n",
       "      <td>2.861480</td>\n",
       "      <td>2.842315</td>\n",
       "      <td>0.016979</td>\n",
       "    </tr>\n",
       "    <tr>\n",
       "      <th>8</th>\n",
       "      <td>0.128451</td>\n",
       "      <td>0.006556</td>\n",
       "      <td>0.011753</td>\n",
       "      <td>0.008612</td>\n",
       "      <td>0.030415</td>\n",
       "      <td>0.028935</td>\n",
       "      <td>0.003036</td>\n",
       "      <td>0.037425</td>\n",
       "      <td>0.000805</td>\n",
       "    </tr>\n",
       "    <tr>\n",
       "      <th>9</th>\n",
       "      <td>0.271375</td>\n",
       "      <td>0.011672</td>\n",
       "      <td>0.008456</td>\n",
       "      <td>0.352127</td>\n",
       "      <td>0.030415</td>\n",
       "      <td>0.047652</td>\n",
       "      <td>0.003036</td>\n",
       "      <td>0.346369</td>\n",
       "      <td>0.021312</td>\n",
       "    </tr>\n",
       "    <tr>\n",
       "      <th>10</th>\n",
       "      <td>0.243465</td>\n",
       "      <td>0.009035</td>\n",
       "      <td>0.008456</td>\n",
       "      <td>0.384310</td>\n",
       "      <td>-0.000751</td>\n",
       "      <td>0.041595</td>\n",
       "      <td>0.056926</td>\n",
       "      <td>0.494012</td>\n",
       "      <td>0.022965</td>\n",
       "    </tr>\n",
       "    <tr>\n",
       "      <th>11</th>\n",
       "      <td>0.056075</td>\n",
       "      <td>0.000745</td>\n",
       "      <td>0.009057</td>\n",
       "      <td>0.001848</td>\n",
       "      <td>0.030415</td>\n",
       "      <td>0.000644</td>\n",
       "      <td>0.003036</td>\n",
       "      <td>0.007086</td>\n",
       "      <td>-0.000075</td>\n",
       "    </tr>\n",
       "    <tr>\n",
       "      <th>12</th>\n",
       "      <td>0.254075</td>\n",
       "      <td>0.011087</td>\n",
       "      <td>0.017642</td>\n",
       "      <td>0.184854</td>\n",
       "      <td>0.030415</td>\n",
       "      <td>0.055180</td>\n",
       "      <td>0.003036</td>\n",
       "      <td>0.165170</td>\n",
       "      <td>0.027765</td>\n",
       "    </tr>\n",
       "    <tr>\n",
       "      <th>13</th>\n",
       "      <td>0.041045</td>\n",
       "      <td>0.000000</td>\n",
       "      <td>0.008456</td>\n",
       "      <td>0.000397</td>\n",
       "      <td>0.030415</td>\n",
       "      <td>0.007984</td>\n",
       "      <td>0.002846</td>\n",
       "      <td>0.080639</td>\n",
       "      <td>0.003378</td>\n",
       "    </tr>\n",
       "    <tr>\n",
       "      <th>14</th>\n",
       "      <td>0.340249</td>\n",
       "      <td>0.012706</td>\n",
       "      <td>0.008456</td>\n",
       "      <td>0.440928</td>\n",
       "      <td>0.030415</td>\n",
       "      <td>0.054455</td>\n",
       "      <td>0.010583</td>\n",
       "      <td>0.406486</td>\n",
       "      <td>0.025154</td>\n",
       "    </tr>\n",
       "    <tr>\n",
       "      <th>15</th>\n",
       "      <td>0.000135</td>\n",
       "      <td>0.000052</td>\n",
       "      <td>0.011166</td>\n",
       "      <td>0.000199</td>\n",
       "      <td>0.030415</td>\n",
       "      <td>0.000618</td>\n",
       "      <td>0.002087</td>\n",
       "      <td>0.006986</td>\n",
       "      <td>0.008796</td>\n",
       "    </tr>\n",
       "    <tr>\n",
       "      <th>16</th>\n",
       "      <td>0.000271</td>\n",
       "      <td>0.000090</td>\n",
       "      <td>0.011180</td>\n",
       "      <td>0.000497</td>\n",
       "      <td>0.030415</td>\n",
       "      <td>0.001147</td>\n",
       "      <td>0.004364</td>\n",
       "      <td>0.010579</td>\n",
       "      <td>0.008858</td>\n",
       "    </tr>\n",
       "    <tr>\n",
       "      <th>17</th>\n",
       "      <td>0.000068</td>\n",
       "      <td>0.000039</td>\n",
       "      <td>0.010994</td>\n",
       "      <td>0.000298</td>\n",
       "      <td>0.030415</td>\n",
       "      <td>0.000882</td>\n",
       "      <td>0.003226</td>\n",
       "      <td>0.010479</td>\n",
       "      <td>0.008587</td>\n",
       "    </tr>\n",
       "    <tr>\n",
       "      <th>18</th>\n",
       "      <td>0.243836</td>\n",
       "      <td>0.010988</td>\n",
       "      <td>0.008456</td>\n",
       "      <td>0.313785</td>\n",
       "      <td>0.030415</td>\n",
       "      <td>0.044866</td>\n",
       "      <td>0.003036</td>\n",
       "      <td>0.321968</td>\n",
       "      <td>0.019635</td>\n",
       "    </tr>\n",
       "    <tr>\n",
       "      <th>19</th>\n",
       "      <td>0.049581</td>\n",
       "      <td>0.001691</td>\n",
       "      <td>0.008456</td>\n",
       "      <td>0.051851</td>\n",
       "      <td>0.030415</td>\n",
       "      <td>0.001398</td>\n",
       "      <td>0.003036</td>\n",
       "      <td>0.032535</td>\n",
       "      <td>-0.000155</td>\n",
       "    </tr>\n",
       "    <tr>\n",
       "      <th>20</th>\n",
       "      <td>0.160635</td>\n",
       "      <td>0.006944</td>\n",
       "      <td>0.009781</td>\n",
       "      <td>0.243201</td>\n",
       "      <td>0.001840</td>\n",
       "      <td>0.098337</td>\n",
       "      <td>0.108994</td>\n",
       "      <td>0.513313</td>\n",
       "      <td>0.041150</td>\n",
       "    </tr>\n",
       "    <tr>\n",
       "      <th>21</th>\n",
       "      <td>0.001285</td>\n",
       "      <td>0.001304</td>\n",
       "      <td>0.008456</td>\n",
       "      <td>0.008940</td>\n",
       "      <td>0.030415</td>\n",
       "      <td>0.009925</td>\n",
       "      <td>0.002277</td>\n",
       "      <td>0.164172</td>\n",
       "      <td>0.008348</td>\n",
       "    </tr>\n",
       "    <tr>\n",
       "      <th>22</th>\n",
       "      <td>0.001285</td>\n",
       "      <td>0.001187</td>\n",
       "      <td>0.008456</td>\n",
       "      <td>0.009337</td>\n",
       "      <td>0.030415</td>\n",
       "      <td>0.008689</td>\n",
       "      <td>0.004364</td>\n",
       "      <td>0.145509</td>\n",
       "      <td>0.006748</td>\n",
       "    </tr>\n",
       "    <tr>\n",
       "      <th>23</th>\n",
       "      <td>0.297555</td>\n",
       "      <td>0.017166</td>\n",
       "      <td>0.008456</td>\n",
       "      <td>0.791565</td>\n",
       "      <td>0.072094</td>\n",
       "      <td>0.017335</td>\n",
       "      <td>0.100569</td>\n",
       "      <td>0.988024</td>\n",
       "      <td>0.035808</td>\n",
       "    </tr>\n",
       "    <tr>\n",
       "      <th>24</th>\n",
       "      <td>0.035361</td>\n",
       "      <td>0.000000</td>\n",
       "      <td>0.008456</td>\n",
       "      <td>0.000099</td>\n",
       "      <td>0.030415</td>\n",
       "      <td>0.005734</td>\n",
       "      <td>0.001518</td>\n",
       "      <td>0.080639</td>\n",
       "      <td>0.002861</td>\n",
       "    </tr>\n",
       "  </tbody>\n",
       "</table>\n",
       "</div>"
      ],
      "text/plain": [
       "    Catechin  Epicatechin  Gallocatechin  Epigallocatechin  Catechin Gallate  \\\n",
       "0   0.174448     0.012261       0.008456          0.247234          0.030415   \n",
       "1   0.173771     0.038332       0.013638          0.323718          0.030415   \n",
       "2   0.177689     0.008316       0.005218          0.288654          0.030415   \n",
       "3   0.001285     0.000736       0.008456          0.007052          0.030415   \n",
       "4   0.001285     0.020908       0.008456          0.043606          0.031603   \n",
       "5   0.274399     0.001316       0.008456          0.243125          0.030415   \n",
       "6   0.001285     0.062919       0.050110          0.000000          0.030415   \n",
       "7   0.906330     0.025426       0.091987          0.215448          0.162212   \n",
       "8   0.128451     0.006556       0.011753          0.008612          0.030415   \n",
       "9   0.271375     0.011672       0.008456          0.352127          0.030415   \n",
       "10  0.243465     0.009035       0.008456          0.384310         -0.000751   \n",
       "11  0.056075     0.000745       0.009057          0.001848          0.030415   \n",
       "12  0.254075     0.011087       0.017642          0.184854          0.030415   \n",
       "13  0.041045     0.000000       0.008456          0.000397          0.030415   \n",
       "14  0.340249     0.012706       0.008456          0.440928          0.030415   \n",
       "15  0.000135     0.000052       0.011166          0.000199          0.030415   \n",
       "16  0.000271     0.000090       0.011180          0.000497          0.030415   \n",
       "17  0.000068     0.000039       0.010994          0.000298          0.030415   \n",
       "18  0.243836     0.010988       0.008456          0.313785          0.030415   \n",
       "19  0.049581     0.001691       0.008456          0.051851          0.030415   \n",
       "20  0.160635     0.006944       0.009781          0.243201          0.001840   \n",
       "21  0.001285     0.001304       0.008456          0.008940          0.030415   \n",
       "22  0.001285     0.001187       0.008456          0.009337          0.030415   \n",
       "23  0.297555     0.017166       0.008456          0.791565          0.072094   \n",
       "24  0.035361     0.000000       0.008456          0.000099          0.030415   \n",
       "\n",
       "    Epicatechin Gallate  Gallocatechin Gallate  Epigallocatechin Gallate  \\\n",
       "0              0.061003               0.036830                  0.429142   \n",
       "1              0.079067               0.003036                  0.500903   \n",
       "2              0.073680               0.003036                  0.327365   \n",
       "3              0.005117               0.002277                  0.132834   \n",
       "4              0.115257               0.081594                  0.499992   \n",
       "5              0.049842               0.149905                  0.367829   \n",
       "6              0.006793               0.002657                  0.089824   \n",
       "7              0.317276               2.861480                  2.842315   \n",
       "8              0.028935               0.003036                  0.037425   \n",
       "9              0.047652               0.003036                  0.346369   \n",
       "10             0.041595               0.056926                  0.494012   \n",
       "11             0.000644               0.003036                  0.007086   \n",
       "12             0.055180               0.003036                  0.165170   \n",
       "13             0.007984               0.002846                  0.080639   \n",
       "14             0.054455               0.010583                  0.406486   \n",
       "15             0.000618               0.002087                  0.006986   \n",
       "16             0.001147               0.004364                  0.010579   \n",
       "17             0.000882               0.003226                  0.010479   \n",
       "18             0.044866               0.003036                  0.321968   \n",
       "19             0.001398               0.003036                  0.032535   \n",
       "20             0.098337               0.108994                  0.513313   \n",
       "21             0.009925               0.002277                  0.164172   \n",
       "22             0.008689               0.004364                  0.145509   \n",
       "23             0.017335               0.100569                  0.988024   \n",
       "24             0.005734               0.001518                  0.080639   \n",
       "\n",
       "    Caffeine  \n",
       "0   0.001382  \n",
       "1   0.027017  \n",
       "2   0.037012  \n",
       "3   0.006846  \n",
       "4   0.019131  \n",
       "5   0.016227  \n",
       "6   0.037185  \n",
       "7   0.016979  \n",
       "8   0.000805  \n",
       "9   0.021312  \n",
       "10  0.022965  \n",
       "11 -0.000075  \n",
       "12  0.027765  \n",
       "13  0.003378  \n",
       "14  0.025154  \n",
       "15  0.008796  \n",
       "16  0.008858  \n",
       "17  0.008587  \n",
       "18  0.019635  \n",
       "19 -0.000155  \n",
       "20  0.041150  \n",
       "21  0.008348  \n",
       "22  0.006748  \n",
       "23  0.035808  \n",
       "24  0.002861  "
      ]
     },
     "execution_count": 31,
     "metadata": {},
     "output_type": "execute_result"
    }
   ],
   "source": [
    "pd.DataFrame(test_data_to_impute.cpu(), columns=chemicals)"
   ]
  },
  {
   "cell_type": "markdown",
   "metadata": {},
   "source": [
    "# Concatenate imputed values to host dataframe"
   ]
  },
  {
   "cell_type": "code",
   "execution_count": 32,
   "metadata": {},
   "outputs": [],
   "source": [
    "imputed_train_df = pd.concat([pd.DataFrame(train_data_to_impute.cpu()), pd.DataFrame(imputed_sensory_data_train)], axis=1).set_axis(standardized_columns, axis='columns')\n",
    "imputed_test_df = pd.concat([pd.DataFrame(test_data_to_impute.cpu()), pd.DataFrame(imputed_sensory_data_test)], axis=1).set_axis(standardized_columns, axis='columns')\n",
    "\n",
    "train_df = pd.concat([GAN_train_df, imputed_train_df], axis=0)\n",
    "test_df = pd.concat([GAN_test_df, imputed_test_df], axis=0)"
   ]
  },
  {
   "cell_type": "markdown",
   "metadata": {},
   "source": [
    "# Feature Engineering\n",
    "\n",
    "A derived feature called overall score will be produced from all sensory scores so the models only have to predict a single response."
   ]
  },
  {
   "cell_type": "code",
   "execution_count": 33,
   "metadata": {},
   "outputs": [],
   "source": [
    "# Derived Feature: Overall Sensory Score\n",
    "def compute_sensory_score(df):\n",
    "    df['Overall Sensory Score'] = df['Taste'] + df['Appearance'] + df['Aroma'] + df['Liqour color'] + df['Infused leaf']\n",
    "    df = df.drop(columns=['Taste','Appearance','Aroma','Liqour color','Infused leaf'])\n",
    "    return df\n",
    "\n",
    "train_df = compute_sensory_score(train_df)\n",
    "test_df = compute_sensory_score(test_df)\n"
   ]
  },
  {
   "cell_type": "markdown",
   "metadata": {},
   "source": [
    "# PCA (Principal Component Analysis)\n",
    "\n",
    "Because the high-dimensional nature of the data, PCA will be used to reduce the number of features."
   ]
  },
  {
   "cell_type": "code",
   "execution_count": 34,
   "metadata": {},
   "outputs": [],
   "source": [
    "from sklearn.decomposition import KernelPCA\n",
    "\n",
    "kpca = KernelPCA(n_components=9, random_state=42)\n",
    "\n",
    "train_X = kpca.fit_transform(train_df.drop(columns=['Overall Sensory Score']))\n",
    "test_X = kpca.transform(test_df.drop(columns=['Overall Sensory Score']))\n",
    "\n",
    "train_y = train_df[['Overall Sensory Score']]\n",
    "test_y = test_df[['Overall Sensory Score']]\n",
    "\n",
    "# https://stackoverflow.com/questions/29611842/scikit-learn-kernel-pca-explained-variancepca.explained_variance_\n",
    "explained_variance = np.var(train_X, axis=0)\n",
    "explained_variance_ratio = explained_variance / np.sum(explained_variance)\n",
    "exp_var_cumul = np.cumsum(explained_variance_ratio)"
   ]
  },
  {
   "cell_type": "code",
   "execution_count": 35,
   "metadata": {},
   "outputs": [],
   "source": [
    "# Prepare data for Torch-based models\n",
    "train_X_tensor = torch.tensor(train_X, dtype=torch.float64).float()\n",
    "train_y_tensor = torch.tensor(train_y.values, dtype=torch.float64).float()\n",
    "test_X_tensor = torch.tensor(test_X, dtype=torch.float64).float()"
   ]
  },
  {
   "cell_type": "code",
   "execution_count": 36,
   "metadata": {},
   "outputs": [
    {
     "data": {
      "application/vnd.plotly.v1+json": {
       "config": {
        "plotlyServerURL": "https://plot.ly"
       },
       "data": [
        {
         "fillpattern": {
          "shape": ""
         },
         "hovertemplate": "# Components=%{x}<br>Explained Variance=%{y}<extra></extra>",
         "legendgroup": "",
         "line": {
          "color": "#636efa"
         },
         "marker": {
          "symbol": "circle"
         },
         "mode": "lines",
         "name": "",
         "orientation": "v",
         "showlegend": false,
         "stackgroup": "1",
         "type": "scatter",
         "x": [
          1,
          2,
          3,
          4,
          5,
          6,
          7,
          8,
          9
         ],
         "xaxis": "x",
         "y": [
          0.47558221794934674,
          0.7496587678023627,
          0.9093790927094796,
          0.989286441665404,
          0.9983754419889582,
          0.9994659836315336,
          0.9997926773489938,
          0.9999581019403457,
          1
         ],
         "yaxis": "y"
        }
       ],
       "layout": {
        "legend": {
         "tracegroupgap": 0
        },
        "margin": {
         "t": 60
        },
        "template": {
         "data": {
          "bar": [
           {
            "error_x": {
             "color": "#2a3f5f"
            },
            "error_y": {
             "color": "#2a3f5f"
            },
            "marker": {
             "line": {
              "color": "#E5ECF6",
              "width": 0.5
             },
             "pattern": {
              "fillmode": "overlay",
              "size": 10,
              "solidity": 0.2
             }
            },
            "type": "bar"
           }
          ],
          "barpolar": [
           {
            "marker": {
             "line": {
              "color": "#E5ECF6",
              "width": 0.5
             },
             "pattern": {
              "fillmode": "overlay",
              "size": 10,
              "solidity": 0.2
             }
            },
            "type": "barpolar"
           }
          ],
          "carpet": [
           {
            "aaxis": {
             "endlinecolor": "#2a3f5f",
             "gridcolor": "white",
             "linecolor": "white",
             "minorgridcolor": "white",
             "startlinecolor": "#2a3f5f"
            },
            "baxis": {
             "endlinecolor": "#2a3f5f",
             "gridcolor": "white",
             "linecolor": "white",
             "minorgridcolor": "white",
             "startlinecolor": "#2a3f5f"
            },
            "type": "carpet"
           }
          ],
          "choropleth": [
           {
            "colorbar": {
             "outlinewidth": 0,
             "ticks": ""
            },
            "type": "choropleth"
           }
          ],
          "contour": [
           {
            "colorbar": {
             "outlinewidth": 0,
             "ticks": ""
            },
            "colorscale": [
             [
              0,
              "#0d0887"
             ],
             [
              0.1111111111111111,
              "#46039f"
             ],
             [
              0.2222222222222222,
              "#7201a8"
             ],
             [
              0.3333333333333333,
              "#9c179e"
             ],
             [
              0.4444444444444444,
              "#bd3786"
             ],
             [
              0.5555555555555556,
              "#d8576b"
             ],
             [
              0.6666666666666666,
              "#ed7953"
             ],
             [
              0.7777777777777778,
              "#fb9f3a"
             ],
             [
              0.8888888888888888,
              "#fdca26"
             ],
             [
              1,
              "#f0f921"
             ]
            ],
            "type": "contour"
           }
          ],
          "contourcarpet": [
           {
            "colorbar": {
             "outlinewidth": 0,
             "ticks": ""
            },
            "type": "contourcarpet"
           }
          ],
          "heatmap": [
           {
            "colorbar": {
             "outlinewidth": 0,
             "ticks": ""
            },
            "colorscale": [
             [
              0,
              "#0d0887"
             ],
             [
              0.1111111111111111,
              "#46039f"
             ],
             [
              0.2222222222222222,
              "#7201a8"
             ],
             [
              0.3333333333333333,
              "#9c179e"
             ],
             [
              0.4444444444444444,
              "#bd3786"
             ],
             [
              0.5555555555555556,
              "#d8576b"
             ],
             [
              0.6666666666666666,
              "#ed7953"
             ],
             [
              0.7777777777777778,
              "#fb9f3a"
             ],
             [
              0.8888888888888888,
              "#fdca26"
             ],
             [
              1,
              "#f0f921"
             ]
            ],
            "type": "heatmap"
           }
          ],
          "heatmapgl": [
           {
            "colorbar": {
             "outlinewidth": 0,
             "ticks": ""
            },
            "colorscale": [
             [
              0,
              "#0d0887"
             ],
             [
              0.1111111111111111,
              "#46039f"
             ],
             [
              0.2222222222222222,
              "#7201a8"
             ],
             [
              0.3333333333333333,
              "#9c179e"
             ],
             [
              0.4444444444444444,
              "#bd3786"
             ],
             [
              0.5555555555555556,
              "#d8576b"
             ],
             [
              0.6666666666666666,
              "#ed7953"
             ],
             [
              0.7777777777777778,
              "#fb9f3a"
             ],
             [
              0.8888888888888888,
              "#fdca26"
             ],
             [
              1,
              "#f0f921"
             ]
            ],
            "type": "heatmapgl"
           }
          ],
          "histogram": [
           {
            "marker": {
             "pattern": {
              "fillmode": "overlay",
              "size": 10,
              "solidity": 0.2
             }
            },
            "type": "histogram"
           }
          ],
          "histogram2d": [
           {
            "colorbar": {
             "outlinewidth": 0,
             "ticks": ""
            },
            "colorscale": [
             [
              0,
              "#0d0887"
             ],
             [
              0.1111111111111111,
              "#46039f"
             ],
             [
              0.2222222222222222,
              "#7201a8"
             ],
             [
              0.3333333333333333,
              "#9c179e"
             ],
             [
              0.4444444444444444,
              "#bd3786"
             ],
             [
              0.5555555555555556,
              "#d8576b"
             ],
             [
              0.6666666666666666,
              "#ed7953"
             ],
             [
              0.7777777777777778,
              "#fb9f3a"
             ],
             [
              0.8888888888888888,
              "#fdca26"
             ],
             [
              1,
              "#f0f921"
             ]
            ],
            "type": "histogram2d"
           }
          ],
          "histogram2dcontour": [
           {
            "colorbar": {
             "outlinewidth": 0,
             "ticks": ""
            },
            "colorscale": [
             [
              0,
              "#0d0887"
             ],
             [
              0.1111111111111111,
              "#46039f"
             ],
             [
              0.2222222222222222,
              "#7201a8"
             ],
             [
              0.3333333333333333,
              "#9c179e"
             ],
             [
              0.4444444444444444,
              "#bd3786"
             ],
             [
              0.5555555555555556,
              "#d8576b"
             ],
             [
              0.6666666666666666,
              "#ed7953"
             ],
             [
              0.7777777777777778,
              "#fb9f3a"
             ],
             [
              0.8888888888888888,
              "#fdca26"
             ],
             [
              1,
              "#f0f921"
             ]
            ],
            "type": "histogram2dcontour"
           }
          ],
          "mesh3d": [
           {
            "colorbar": {
             "outlinewidth": 0,
             "ticks": ""
            },
            "type": "mesh3d"
           }
          ],
          "parcoords": [
           {
            "line": {
             "colorbar": {
              "outlinewidth": 0,
              "ticks": ""
             }
            },
            "type": "parcoords"
           }
          ],
          "pie": [
           {
            "automargin": true,
            "type": "pie"
           }
          ],
          "scatter": [
           {
            "fillpattern": {
             "fillmode": "overlay",
             "size": 10,
             "solidity": 0.2
            },
            "type": "scatter"
           }
          ],
          "scatter3d": [
           {
            "line": {
             "colorbar": {
              "outlinewidth": 0,
              "ticks": ""
             }
            },
            "marker": {
             "colorbar": {
              "outlinewidth": 0,
              "ticks": ""
             }
            },
            "type": "scatter3d"
           }
          ],
          "scattercarpet": [
           {
            "marker": {
             "colorbar": {
              "outlinewidth": 0,
              "ticks": ""
             }
            },
            "type": "scattercarpet"
           }
          ],
          "scattergeo": [
           {
            "marker": {
             "colorbar": {
              "outlinewidth": 0,
              "ticks": ""
             }
            },
            "type": "scattergeo"
           }
          ],
          "scattergl": [
           {
            "marker": {
             "colorbar": {
              "outlinewidth": 0,
              "ticks": ""
             }
            },
            "type": "scattergl"
           }
          ],
          "scattermapbox": [
           {
            "marker": {
             "colorbar": {
              "outlinewidth": 0,
              "ticks": ""
             }
            },
            "type": "scattermapbox"
           }
          ],
          "scatterpolar": [
           {
            "marker": {
             "colorbar": {
              "outlinewidth": 0,
              "ticks": ""
             }
            },
            "type": "scatterpolar"
           }
          ],
          "scatterpolargl": [
           {
            "marker": {
             "colorbar": {
              "outlinewidth": 0,
              "ticks": ""
             }
            },
            "type": "scatterpolargl"
           }
          ],
          "scatterternary": [
           {
            "marker": {
             "colorbar": {
              "outlinewidth": 0,
              "ticks": ""
             }
            },
            "type": "scatterternary"
           }
          ],
          "surface": [
           {
            "colorbar": {
             "outlinewidth": 0,
             "ticks": ""
            },
            "colorscale": [
             [
              0,
              "#0d0887"
             ],
             [
              0.1111111111111111,
              "#46039f"
             ],
             [
              0.2222222222222222,
              "#7201a8"
             ],
             [
              0.3333333333333333,
              "#9c179e"
             ],
             [
              0.4444444444444444,
              "#bd3786"
             ],
             [
              0.5555555555555556,
              "#d8576b"
             ],
             [
              0.6666666666666666,
              "#ed7953"
             ],
             [
              0.7777777777777778,
              "#fb9f3a"
             ],
             [
              0.8888888888888888,
              "#fdca26"
             ],
             [
              1,
              "#f0f921"
             ]
            ],
            "type": "surface"
           }
          ],
          "table": [
           {
            "cells": {
             "fill": {
              "color": "#EBF0F8"
             },
             "line": {
              "color": "white"
             }
            },
            "header": {
             "fill": {
              "color": "#C8D4E3"
             },
             "line": {
              "color": "white"
             }
            },
            "type": "table"
           }
          ]
         },
         "layout": {
          "annotationdefaults": {
           "arrowcolor": "#2a3f5f",
           "arrowhead": 0,
           "arrowwidth": 1
          },
          "autotypenumbers": "strict",
          "coloraxis": {
           "colorbar": {
            "outlinewidth": 0,
            "ticks": ""
           }
          },
          "colorscale": {
           "diverging": [
            [
             0,
             "#8e0152"
            ],
            [
             0.1,
             "#c51b7d"
            ],
            [
             0.2,
             "#de77ae"
            ],
            [
             0.3,
             "#f1b6da"
            ],
            [
             0.4,
             "#fde0ef"
            ],
            [
             0.5,
             "#f7f7f7"
            ],
            [
             0.6,
             "#e6f5d0"
            ],
            [
             0.7,
             "#b8e186"
            ],
            [
             0.8,
             "#7fbc41"
            ],
            [
             0.9,
             "#4d9221"
            ],
            [
             1,
             "#276419"
            ]
           ],
           "sequential": [
            [
             0,
             "#0d0887"
            ],
            [
             0.1111111111111111,
             "#46039f"
            ],
            [
             0.2222222222222222,
             "#7201a8"
            ],
            [
             0.3333333333333333,
             "#9c179e"
            ],
            [
             0.4444444444444444,
             "#bd3786"
            ],
            [
             0.5555555555555556,
             "#d8576b"
            ],
            [
             0.6666666666666666,
             "#ed7953"
            ],
            [
             0.7777777777777778,
             "#fb9f3a"
            ],
            [
             0.8888888888888888,
             "#fdca26"
            ],
            [
             1,
             "#f0f921"
            ]
           ],
           "sequentialminus": [
            [
             0,
             "#0d0887"
            ],
            [
             0.1111111111111111,
             "#46039f"
            ],
            [
             0.2222222222222222,
             "#7201a8"
            ],
            [
             0.3333333333333333,
             "#9c179e"
            ],
            [
             0.4444444444444444,
             "#bd3786"
            ],
            [
             0.5555555555555556,
             "#d8576b"
            ],
            [
             0.6666666666666666,
             "#ed7953"
            ],
            [
             0.7777777777777778,
             "#fb9f3a"
            ],
            [
             0.8888888888888888,
             "#fdca26"
            ],
            [
             1,
             "#f0f921"
            ]
           ]
          },
          "colorway": [
           "#636efa",
           "#EF553B",
           "#00cc96",
           "#ab63fa",
           "#FFA15A",
           "#19d3f3",
           "#FF6692",
           "#B6E880",
           "#FF97FF",
           "#FECB52"
          ],
          "font": {
           "color": "#2a3f5f"
          },
          "geo": {
           "bgcolor": "white",
           "lakecolor": "white",
           "landcolor": "#E5ECF6",
           "showlakes": true,
           "showland": true,
           "subunitcolor": "white"
          },
          "hoverlabel": {
           "align": "left"
          },
          "hovermode": "closest",
          "mapbox": {
           "style": "light"
          },
          "paper_bgcolor": "white",
          "plot_bgcolor": "#E5ECF6",
          "polar": {
           "angularaxis": {
            "gridcolor": "white",
            "linecolor": "white",
            "ticks": ""
           },
           "bgcolor": "#E5ECF6",
           "radialaxis": {
            "gridcolor": "white",
            "linecolor": "white",
            "ticks": ""
           }
          },
          "scene": {
           "xaxis": {
            "backgroundcolor": "#E5ECF6",
            "gridcolor": "white",
            "gridwidth": 2,
            "linecolor": "white",
            "showbackground": true,
            "ticks": "",
            "zerolinecolor": "white"
           },
           "yaxis": {
            "backgroundcolor": "#E5ECF6",
            "gridcolor": "white",
            "gridwidth": 2,
            "linecolor": "white",
            "showbackground": true,
            "ticks": "",
            "zerolinecolor": "white"
           },
           "zaxis": {
            "backgroundcolor": "#E5ECF6",
            "gridcolor": "white",
            "gridwidth": 2,
            "linecolor": "white",
            "showbackground": true,
            "ticks": "",
            "zerolinecolor": "white"
           }
          },
          "shapedefaults": {
           "line": {
            "color": "#2a3f5f"
           }
          },
          "ternary": {
           "aaxis": {
            "gridcolor": "white",
            "linecolor": "white",
            "ticks": ""
           },
           "baxis": {
            "gridcolor": "white",
            "linecolor": "white",
            "ticks": ""
           },
           "bgcolor": "#E5ECF6",
           "caxis": {
            "gridcolor": "white",
            "linecolor": "white",
            "ticks": ""
           }
          },
          "title": {
           "x": 0.05
          },
          "xaxis": {
           "automargin": true,
           "gridcolor": "white",
           "linecolor": "white",
           "ticks": "",
           "title": {
            "standoff": 15
           },
           "zerolinecolor": "white",
           "zerolinewidth": 2
          },
          "yaxis": {
           "automargin": true,
           "gridcolor": "white",
           "linecolor": "white",
           "ticks": "",
           "title": {
            "standoff": 15
           },
           "zerolinecolor": "white",
           "zerolinewidth": 2
          }
         }
        },
        "xaxis": {
         "anchor": "y",
         "domain": [
          0,
          1
         ],
         "title": {
          "text": "# Components"
         }
        },
        "yaxis": {
         "anchor": "x",
         "domain": [
          0,
          1
         ],
         "title": {
          "text": "Explained Variance"
         }
        }
       }
      }
     },
     "metadata": {},
     "output_type": "display_data"
    }
   ],
   "source": [
    "import plotly.express as px\n",
    "\n",
    "px.area(\n",
    "    x=range(1, exp_var_cumul.shape[0] + 1),\n",
    "    y=exp_var_cumul,\n",
    "    labels={\"x\": \"# Components\", \"y\": \"Explained Variance\"}\n",
    ")"
   ]
  },
  {
   "cell_type": "markdown",
   "metadata": {},
   "source": [
    "The explained variance ratio achieved with just 2 components is sufficiently high, making it suitable for visualization in a 3D space. Therefore, I will proceed by focusing on these 2 components for my model training."
   ]
  },
  {
   "cell_type": "code",
   "execution_count": 37,
   "metadata": {},
   "outputs": [],
   "source": [
    "# Extract first two components\n",
    "train_X = train_X[:, :2]\n",
    "test_X = test_X[:, :2]\n",
    "\n",
    "# Prepare data for Torch-based models\n",
    "train_X_tensor = torch.tensor(train_X, dtype=torch.float64).float()\n",
    "train_y_tensor = torch.tensor(train_y.values, dtype=torch.float64).float()\n",
    "test_X_tensor = torch.tensor(test_X, dtype=torch.float64).float()"
   ]
  },
  {
   "cell_type": "markdown",
   "metadata": {},
   "source": [
    "# Random Forest\n",
    "\n",
    "Pytorch does not have a built in Random Forest class, instead we will use scikit learn's implementation. "
   ]
  },
  {
   "cell_type": "code",
   "execution_count": 38,
   "metadata": {},
   "outputs": [],
   "source": [
    "# Model Creation\n",
    "from sklearn.ensemble import RandomForestRegressor\n",
    "\n",
    "GridSearchCV_random_forest = RandomForestRegressor()"
   ]
  },
  {
   "cell_type": "code",
   "execution_count": 39,
   "metadata": {},
   "outputs": [
    {
     "name": "stderr",
     "output_type": "stream",
     "text": [
      "/home/tahlon/Documents/Projects/DTSC-691-Capstone-Project/.venv/lib/python3.11/site-packages/sklearn/model_selection/_validation.py:547: FitFailedWarning:\n",
      "\n",
      "\n",
      "300 fits failed out of a total of 1800.\n",
      "The score on these train-test partitions for these parameters will be set to nan.\n",
      "If these failures are not expected, you can try to debug them by setting error_score='raise'.\n",
      "\n",
      "Below are more details about the failures:\n",
      "--------------------------------------------------------------------------------\n",
      "300 fits failed with the following error:\n",
      "Traceback (most recent call last):\n",
      "  File \"/home/tahlon/Documents/Projects/DTSC-691-Capstone-Project/.venv/lib/python3.11/site-packages/sklearn/model_selection/_validation.py\", line 895, in _fit_and_score\n",
      "    estimator.fit(X_train, y_train, **fit_params)\n",
      "  File \"/home/tahlon/Documents/Projects/DTSC-691-Capstone-Project/.venv/lib/python3.11/site-packages/sklearn/base.py\", line 1467, in wrapper\n",
      "    estimator._validate_params()\n",
      "  File \"/home/tahlon/Documents/Projects/DTSC-691-Capstone-Project/.venv/lib/python3.11/site-packages/sklearn/base.py\", line 666, in _validate_params\n",
      "    validate_parameter_constraints(\n",
      "  File \"/home/tahlon/Documents/Projects/DTSC-691-Capstone-Project/.venv/lib/python3.11/site-packages/sklearn/utils/_param_validation.py\", line 95, in validate_parameter_constraints\n",
      "    raise InvalidParameterError(\n",
      "sklearn.utils._param_validation.InvalidParameterError: The 'min_samples_split' parameter of RandomForestRegressor must be an int in the range [2, inf) or a float in the range (0.0, 1.0]. Got 1 instead.\n",
      "\n",
      "\n",
      "/home/tahlon/Documents/Projects/DTSC-691-Capstone-Project/.venv/lib/python3.11/site-packages/sklearn/model_selection/_search.py:1051: UserWarning:\n",
      "\n",
      "One or more of the test scores are non-finite: [       nan        nan        nan        nan        nan        nan\n",
      "        nan        nan        nan        nan 0.26280852 0.25078064\n",
      " 0.23200203 0.24208629 0.24683605 0.23925301 0.23858303 0.23968607\n",
      " 0.24280897 0.24165709 0.26280852 0.25078064 0.23200203 0.24208629\n",
      " 0.24683605 0.23925301 0.23858303 0.23968607 0.24280897 0.24165709\n",
      " 0.26280852 0.25078064 0.23200203 0.24208629 0.24683605 0.23925301\n",
      " 0.23858303 0.23968607 0.24280897 0.24165709 0.26280852 0.25078064\n",
      " 0.23200203 0.24208629 0.24683605 0.23925301 0.23858303 0.23968607\n",
      " 0.24280897 0.24165709 0.26280852 0.25078064 0.23200203 0.24208629\n",
      " 0.24683605 0.23925301 0.23858303 0.23968607 0.24280897 0.24165709\n",
      "        nan        nan        nan        nan        nan        nan\n",
      "        nan        nan        nan        nan 0.23953331 0.22954\n",
      " 0.21313028 0.22745075 0.2240443  0.22333418 0.22443148 0.22681246\n",
      " 0.22801321 0.22587138 0.23885553 0.22912211 0.21239289 0.22672487\n",
      " 0.22344075 0.2226206  0.22383681 0.22622477 0.22741995 0.2253153\n",
      " 0.23651328 0.22733851 0.21139619 0.22573426 0.22249686 0.22169209\n",
      " 0.22268347 0.22476671 0.2257554  0.22351443 0.23014132 0.22112158\n",
      " 0.20429973 0.21981963 0.21642029 0.21635299 0.2177727  0.21992514\n",
      " 0.22178134 0.21985348 0.23005027 0.22028089 0.20322831 0.21909622\n",
      " 0.21607693 0.21585948 0.21666128 0.21854443 0.22002625 0.21803926\n",
      "        nan        nan        nan        nan        nan        nan\n",
      "        nan        nan        nan        nan 0.25874971 0.25514936\n",
      " 0.23476254 0.24332572 0.23771372 0.23458878 0.23518812 0.23814745\n",
      " 0.24058596 0.23879804 0.26377098 0.26045321 0.23735017 0.24530215\n",
      " 0.2402595  0.23726721 0.23805439 0.24087372 0.24318419 0.24170978\n",
      " 0.26253595 0.25920048 0.23419109 0.24373665 0.23849743 0.23612188\n",
      " 0.23703884 0.23922483 0.24159009 0.24004139 0.25437017 0.25045171\n",
      " 0.22406371 0.23627931 0.2309044  0.22820642 0.22884273 0.23054652\n",
      " 0.23426986 0.23301823 0.26213628 0.25291861 0.2211765  0.23341023\n",
      " 0.22952255 0.22646811 0.22559363 0.22655238 0.22929582 0.22757878\n",
      "        nan        nan        nan        nan        nan        nan\n",
      "        nan        nan        nan        nan 0.20953383 0.2015635\n",
      " 0.18224001 0.19555664 0.19340057 0.19402757 0.19639504 0.19804316\n",
      " 0.19981756 0.19807281 0.21287814 0.20905852 0.1885714  0.20080494\n",
      " 0.19736579 0.19797124 0.20118051 0.20324549 0.20521918 0.20481738\n",
      " 0.21816098 0.21281739 0.18869475 0.20454156 0.20110597 0.20144753\n",
      " 0.20416021 0.20560061 0.20904677 0.20743931 0.21840058 0.21098704\n",
      " 0.18288289 0.1967862  0.19311341 0.19363692 0.19647894 0.19823923\n",
      " 0.20341958 0.20273401 0.21977574 0.21132432 0.17838186 0.19330697\n",
      " 0.19163525 0.19321358 0.1945121  0.19483267 0.19828412 0.19677468\n",
      "        nan        nan        nan        nan        nan        nan\n",
      "        nan        nan        nan        nan 0.14227744 0.14449636\n",
      " 0.12510299 0.13789995 0.13289877 0.1369098  0.14452058 0.14876521\n",
      " 0.14874262 0.14885438 0.15919605 0.16074042 0.14597721 0.15593685\n",
      " 0.14981143 0.15186849 0.15605237 0.15787536 0.15815397 0.15763959\n",
      " 0.16136307 0.16051781 0.14087615 0.15496302 0.15286333 0.15535294\n",
      " 0.1603882  0.1608985  0.16178468 0.16116408 0.16618786 0.16431342\n",
      " 0.13915931 0.1520575  0.15001508 0.15085626 0.15501354 0.15573014\n",
      " 0.15905757 0.15899327 0.17044874 0.16711623 0.13650143 0.1488632\n",
      " 0.14843412 0.14988543 0.15201284 0.15249468 0.1545689  0.15332326\n",
      "        nan        nan        nan        nan        nan        nan\n",
      "        nan        nan        nan        nan 0.1287268  0.13885825\n",
      " 0.12491455 0.13593964 0.13066924 0.13450723 0.14419463 0.1467439\n",
      " 0.14590804 0.14638889 0.14700309 0.15380582 0.14025215 0.1483478\n",
      " 0.14090574 0.14574309 0.15070343 0.153718   0.15483638 0.15476112\n",
      " 0.16180118 0.16219314 0.1426614  0.15265358 0.14825074 0.14917677\n",
      " 0.15535038 0.15733046 0.15928024 0.15819337 0.16194158 0.1584316\n",
      " 0.13432717 0.14811999 0.14359174 0.14608598 0.15132564 0.15208511\n",
      " 0.15558188 0.15522005 0.16330747 0.15746777 0.12923887 0.14299397\n",
      " 0.14144895 0.14423588 0.14682581 0.14772496 0.14979055 0.14871088]\n",
      "\n"
     ]
    },
    {
     "data": {
      "text/html": [
       "<style>#sk-container-id-1 {\n",
       "  /* Definition of color scheme common for light and dark mode */\n",
       "  --sklearn-color-text: black;\n",
       "  --sklearn-color-line: gray;\n",
       "  /* Definition of color scheme for unfitted estimators */\n",
       "  --sklearn-color-unfitted-level-0: #fff5e6;\n",
       "  --sklearn-color-unfitted-level-1: #f6e4d2;\n",
       "  --sklearn-color-unfitted-level-2: #ffe0b3;\n",
       "  --sklearn-color-unfitted-level-3: chocolate;\n",
       "  /* Definition of color scheme for fitted estimators */\n",
       "  --sklearn-color-fitted-level-0: #f0f8ff;\n",
       "  --sklearn-color-fitted-level-1: #d4ebff;\n",
       "  --sklearn-color-fitted-level-2: #b3dbfd;\n",
       "  --sklearn-color-fitted-level-3: cornflowerblue;\n",
       "\n",
       "  /* Specific color for light theme */\n",
       "  --sklearn-color-text-on-default-background: var(--sg-text-color, var(--theme-code-foreground, var(--jp-content-font-color1, black)));\n",
       "  --sklearn-color-background: var(--sg-background-color, var(--theme-background, var(--jp-layout-color0, white)));\n",
       "  --sklearn-color-border-box: var(--sg-text-color, var(--theme-code-foreground, var(--jp-content-font-color1, black)));\n",
       "  --sklearn-color-icon: #696969;\n",
       "\n",
       "  @media (prefers-color-scheme: dark) {\n",
       "    /* Redefinition of color scheme for dark theme */\n",
       "    --sklearn-color-text-on-default-background: var(--sg-text-color, var(--theme-code-foreground, var(--jp-content-font-color1, white)));\n",
       "    --sklearn-color-background: var(--sg-background-color, var(--theme-background, var(--jp-layout-color0, #111)));\n",
       "    --sklearn-color-border-box: var(--sg-text-color, var(--theme-code-foreground, var(--jp-content-font-color1, white)));\n",
       "    --sklearn-color-icon: #878787;\n",
       "  }\n",
       "}\n",
       "\n",
       "#sk-container-id-1 {\n",
       "  color: var(--sklearn-color-text);\n",
       "}\n",
       "\n",
       "#sk-container-id-1 pre {\n",
       "  padding: 0;\n",
       "}\n",
       "\n",
       "#sk-container-id-1 input.sk-hidden--visually {\n",
       "  border: 0;\n",
       "  clip: rect(1px 1px 1px 1px);\n",
       "  clip: rect(1px, 1px, 1px, 1px);\n",
       "  height: 1px;\n",
       "  margin: -1px;\n",
       "  overflow: hidden;\n",
       "  padding: 0;\n",
       "  position: absolute;\n",
       "  width: 1px;\n",
       "}\n",
       "\n",
       "#sk-container-id-1 div.sk-dashed-wrapped {\n",
       "  border: 1px dashed var(--sklearn-color-line);\n",
       "  margin: 0 0.4em 0.5em 0.4em;\n",
       "  box-sizing: border-box;\n",
       "  padding-bottom: 0.4em;\n",
       "  background-color: var(--sklearn-color-background);\n",
       "}\n",
       "\n",
       "#sk-container-id-1 div.sk-container {\n",
       "  /* jupyter's `normalize.less` sets `[hidden] { display: none; }`\n",
       "     but bootstrap.min.css set `[hidden] { display: none !important; }`\n",
       "     so we also need the `!important` here to be able to override the\n",
       "     default hidden behavior on the sphinx rendered scikit-learn.org.\n",
       "     See: https://github.com/scikit-learn/scikit-learn/issues/21755 */\n",
       "  display: inline-block !important;\n",
       "  position: relative;\n",
       "}\n",
       "\n",
       "#sk-container-id-1 div.sk-text-repr-fallback {\n",
       "  display: none;\n",
       "}\n",
       "\n",
       "div.sk-parallel-item,\n",
       "div.sk-serial,\n",
       "div.sk-item {\n",
       "  /* draw centered vertical line to link estimators */\n",
       "  background-image: linear-gradient(var(--sklearn-color-text-on-default-background), var(--sklearn-color-text-on-default-background));\n",
       "  background-size: 2px 100%;\n",
       "  background-repeat: no-repeat;\n",
       "  background-position: center center;\n",
       "}\n",
       "\n",
       "/* Parallel-specific style estimator block */\n",
       "\n",
       "#sk-container-id-1 div.sk-parallel-item::after {\n",
       "  content: \"\";\n",
       "  width: 100%;\n",
       "  border-bottom: 2px solid var(--sklearn-color-text-on-default-background);\n",
       "  flex-grow: 1;\n",
       "}\n",
       "\n",
       "#sk-container-id-1 div.sk-parallel {\n",
       "  display: flex;\n",
       "  align-items: stretch;\n",
       "  justify-content: center;\n",
       "  background-color: var(--sklearn-color-background);\n",
       "  position: relative;\n",
       "}\n",
       "\n",
       "#sk-container-id-1 div.sk-parallel-item {\n",
       "  display: flex;\n",
       "  flex-direction: column;\n",
       "}\n",
       "\n",
       "#sk-container-id-1 div.sk-parallel-item:first-child::after {\n",
       "  align-self: flex-end;\n",
       "  width: 50%;\n",
       "}\n",
       "\n",
       "#sk-container-id-1 div.sk-parallel-item:last-child::after {\n",
       "  align-self: flex-start;\n",
       "  width: 50%;\n",
       "}\n",
       "\n",
       "#sk-container-id-1 div.sk-parallel-item:only-child::after {\n",
       "  width: 0;\n",
       "}\n",
       "\n",
       "/* Serial-specific style estimator block */\n",
       "\n",
       "#sk-container-id-1 div.sk-serial {\n",
       "  display: flex;\n",
       "  flex-direction: column;\n",
       "  align-items: center;\n",
       "  background-color: var(--sklearn-color-background);\n",
       "  padding-right: 1em;\n",
       "  padding-left: 1em;\n",
       "}\n",
       "\n",
       "\n",
       "/* Toggleable style: style used for estimator/Pipeline/ColumnTransformer box that is\n",
       "clickable and can be expanded/collapsed.\n",
       "- Pipeline and ColumnTransformer use this feature and define the default style\n",
       "- Estimators will overwrite some part of the style using the `sk-estimator` class\n",
       "*/\n",
       "\n",
       "/* Pipeline and ColumnTransformer style (default) */\n",
       "\n",
       "#sk-container-id-1 div.sk-toggleable {\n",
       "  /* Default theme specific background. It is overwritten whether we have a\n",
       "  specific estimator or a Pipeline/ColumnTransformer */\n",
       "  background-color: var(--sklearn-color-background);\n",
       "}\n",
       "\n",
       "/* Toggleable label */\n",
       "#sk-container-id-1 label.sk-toggleable__label {\n",
       "  cursor: pointer;\n",
       "  display: block;\n",
       "  width: 100%;\n",
       "  margin-bottom: 0;\n",
       "  padding: 0.5em;\n",
       "  box-sizing: border-box;\n",
       "  text-align: center;\n",
       "}\n",
       "\n",
       "#sk-container-id-1 label.sk-toggleable__label-arrow:before {\n",
       "  /* Arrow on the left of the label */\n",
       "  content: \"▸\";\n",
       "  float: left;\n",
       "  margin-right: 0.25em;\n",
       "  color: var(--sklearn-color-icon);\n",
       "}\n",
       "\n",
       "#sk-container-id-1 label.sk-toggleable__label-arrow:hover:before {\n",
       "  color: var(--sklearn-color-text);\n",
       "}\n",
       "\n",
       "/* Toggleable content - dropdown */\n",
       "\n",
       "#sk-container-id-1 div.sk-toggleable__content {\n",
       "  max-height: 0;\n",
       "  max-width: 0;\n",
       "  overflow: hidden;\n",
       "  text-align: left;\n",
       "  /* unfitted */\n",
       "  background-color: var(--sklearn-color-unfitted-level-0);\n",
       "}\n",
       "\n",
       "#sk-container-id-1 div.sk-toggleable__content.fitted {\n",
       "  /* fitted */\n",
       "  background-color: var(--sklearn-color-fitted-level-0);\n",
       "}\n",
       "\n",
       "#sk-container-id-1 div.sk-toggleable__content pre {\n",
       "  margin: 0.2em;\n",
       "  border-radius: 0.25em;\n",
       "  color: var(--sklearn-color-text);\n",
       "  /* unfitted */\n",
       "  background-color: var(--sklearn-color-unfitted-level-0);\n",
       "}\n",
       "\n",
       "#sk-container-id-1 div.sk-toggleable__content.fitted pre {\n",
       "  /* unfitted */\n",
       "  background-color: var(--sklearn-color-fitted-level-0);\n",
       "}\n",
       "\n",
       "#sk-container-id-1 input.sk-toggleable__control:checked~div.sk-toggleable__content {\n",
       "  /* Expand drop-down */\n",
       "  max-height: 200px;\n",
       "  max-width: 100%;\n",
       "  overflow: auto;\n",
       "}\n",
       "\n",
       "#sk-container-id-1 input.sk-toggleable__control:checked~label.sk-toggleable__label-arrow:before {\n",
       "  content: \"▾\";\n",
       "}\n",
       "\n",
       "/* Pipeline/ColumnTransformer-specific style */\n",
       "\n",
       "#sk-container-id-1 div.sk-label input.sk-toggleable__control:checked~label.sk-toggleable__label {\n",
       "  color: var(--sklearn-color-text);\n",
       "  background-color: var(--sklearn-color-unfitted-level-2);\n",
       "}\n",
       "\n",
       "#sk-container-id-1 div.sk-label.fitted input.sk-toggleable__control:checked~label.sk-toggleable__label {\n",
       "  background-color: var(--sklearn-color-fitted-level-2);\n",
       "}\n",
       "\n",
       "/* Estimator-specific style */\n",
       "\n",
       "/* Colorize estimator box */\n",
       "#sk-container-id-1 div.sk-estimator input.sk-toggleable__control:checked~label.sk-toggleable__label {\n",
       "  /* unfitted */\n",
       "  background-color: var(--sklearn-color-unfitted-level-2);\n",
       "}\n",
       "\n",
       "#sk-container-id-1 div.sk-estimator.fitted input.sk-toggleable__control:checked~label.sk-toggleable__label {\n",
       "  /* fitted */\n",
       "  background-color: var(--sklearn-color-fitted-level-2);\n",
       "}\n",
       "\n",
       "#sk-container-id-1 div.sk-label label.sk-toggleable__label,\n",
       "#sk-container-id-1 div.sk-label label {\n",
       "  /* The background is the default theme color */\n",
       "  color: var(--sklearn-color-text-on-default-background);\n",
       "}\n",
       "\n",
       "/* On hover, darken the color of the background */\n",
       "#sk-container-id-1 div.sk-label:hover label.sk-toggleable__label {\n",
       "  color: var(--sklearn-color-text);\n",
       "  background-color: var(--sklearn-color-unfitted-level-2);\n",
       "}\n",
       "\n",
       "/* Label box, darken color on hover, fitted */\n",
       "#sk-container-id-1 div.sk-label.fitted:hover label.sk-toggleable__label.fitted {\n",
       "  color: var(--sklearn-color-text);\n",
       "  background-color: var(--sklearn-color-fitted-level-2);\n",
       "}\n",
       "\n",
       "/* Estimator label */\n",
       "\n",
       "#sk-container-id-1 div.sk-label label {\n",
       "  font-family: monospace;\n",
       "  font-weight: bold;\n",
       "  display: inline-block;\n",
       "  line-height: 1.2em;\n",
       "}\n",
       "\n",
       "#sk-container-id-1 div.sk-label-container {\n",
       "  text-align: center;\n",
       "}\n",
       "\n",
       "/* Estimator-specific */\n",
       "#sk-container-id-1 div.sk-estimator {\n",
       "  font-family: monospace;\n",
       "  border: 1px dotted var(--sklearn-color-border-box);\n",
       "  border-radius: 0.25em;\n",
       "  box-sizing: border-box;\n",
       "  margin-bottom: 0.5em;\n",
       "  /* unfitted */\n",
       "  background-color: var(--sklearn-color-unfitted-level-0);\n",
       "}\n",
       "\n",
       "#sk-container-id-1 div.sk-estimator.fitted {\n",
       "  /* fitted */\n",
       "  background-color: var(--sklearn-color-fitted-level-0);\n",
       "}\n",
       "\n",
       "/* on hover */\n",
       "#sk-container-id-1 div.sk-estimator:hover {\n",
       "  /* unfitted */\n",
       "  background-color: var(--sklearn-color-unfitted-level-2);\n",
       "}\n",
       "\n",
       "#sk-container-id-1 div.sk-estimator.fitted:hover {\n",
       "  /* fitted */\n",
       "  background-color: var(--sklearn-color-fitted-level-2);\n",
       "}\n",
       "\n",
       "/* Specification for estimator info (e.g. \"i\" and \"?\") */\n",
       "\n",
       "/* Common style for \"i\" and \"?\" */\n",
       "\n",
       ".sk-estimator-doc-link,\n",
       "a:link.sk-estimator-doc-link,\n",
       "a:visited.sk-estimator-doc-link {\n",
       "  float: right;\n",
       "  font-size: smaller;\n",
       "  line-height: 1em;\n",
       "  font-family: monospace;\n",
       "  background-color: var(--sklearn-color-background);\n",
       "  border-radius: 1em;\n",
       "  height: 1em;\n",
       "  width: 1em;\n",
       "  text-decoration: none !important;\n",
       "  margin-left: 1ex;\n",
       "  /* unfitted */\n",
       "  border: var(--sklearn-color-unfitted-level-1) 1pt solid;\n",
       "  color: var(--sklearn-color-unfitted-level-1);\n",
       "}\n",
       "\n",
       ".sk-estimator-doc-link.fitted,\n",
       "a:link.sk-estimator-doc-link.fitted,\n",
       "a:visited.sk-estimator-doc-link.fitted {\n",
       "  /* fitted */\n",
       "  border: var(--sklearn-color-fitted-level-1) 1pt solid;\n",
       "  color: var(--sklearn-color-fitted-level-1);\n",
       "}\n",
       "\n",
       "/* On hover */\n",
       "div.sk-estimator:hover .sk-estimator-doc-link:hover,\n",
       ".sk-estimator-doc-link:hover,\n",
       "div.sk-label-container:hover .sk-estimator-doc-link:hover,\n",
       ".sk-estimator-doc-link:hover {\n",
       "  /* unfitted */\n",
       "  background-color: var(--sklearn-color-unfitted-level-3);\n",
       "  color: var(--sklearn-color-background);\n",
       "  text-decoration: none;\n",
       "}\n",
       "\n",
       "div.sk-estimator.fitted:hover .sk-estimator-doc-link.fitted:hover,\n",
       ".sk-estimator-doc-link.fitted:hover,\n",
       "div.sk-label-container:hover .sk-estimator-doc-link.fitted:hover,\n",
       ".sk-estimator-doc-link.fitted:hover {\n",
       "  /* fitted */\n",
       "  background-color: var(--sklearn-color-fitted-level-3);\n",
       "  color: var(--sklearn-color-background);\n",
       "  text-decoration: none;\n",
       "}\n",
       "\n",
       "/* Span, style for the box shown on hovering the info icon */\n",
       ".sk-estimator-doc-link span {\n",
       "  display: none;\n",
       "  z-index: 9999;\n",
       "  position: relative;\n",
       "  font-weight: normal;\n",
       "  right: .2ex;\n",
       "  padding: .5ex;\n",
       "  margin: .5ex;\n",
       "  width: min-content;\n",
       "  min-width: 20ex;\n",
       "  max-width: 50ex;\n",
       "  color: var(--sklearn-color-text);\n",
       "  box-shadow: 2pt 2pt 4pt #999;\n",
       "  /* unfitted */\n",
       "  background: var(--sklearn-color-unfitted-level-0);\n",
       "  border: .5pt solid var(--sklearn-color-unfitted-level-3);\n",
       "}\n",
       "\n",
       ".sk-estimator-doc-link.fitted span {\n",
       "  /* fitted */\n",
       "  background: var(--sklearn-color-fitted-level-0);\n",
       "  border: var(--sklearn-color-fitted-level-3);\n",
       "}\n",
       "\n",
       ".sk-estimator-doc-link:hover span {\n",
       "  display: block;\n",
       "}\n",
       "\n",
       "/* \"?\"-specific style due to the `<a>` HTML tag */\n",
       "\n",
       "#sk-container-id-1 a.estimator_doc_link {\n",
       "  float: right;\n",
       "  font-size: 1rem;\n",
       "  line-height: 1em;\n",
       "  font-family: monospace;\n",
       "  background-color: var(--sklearn-color-background);\n",
       "  border-radius: 1rem;\n",
       "  height: 1rem;\n",
       "  width: 1rem;\n",
       "  text-decoration: none;\n",
       "  /* unfitted */\n",
       "  color: var(--sklearn-color-unfitted-level-1);\n",
       "  border: var(--sklearn-color-unfitted-level-1) 1pt solid;\n",
       "}\n",
       "\n",
       "#sk-container-id-1 a.estimator_doc_link.fitted {\n",
       "  /* fitted */\n",
       "  border: var(--sklearn-color-fitted-level-1) 1pt solid;\n",
       "  color: var(--sklearn-color-fitted-level-1);\n",
       "}\n",
       "\n",
       "/* On hover */\n",
       "#sk-container-id-1 a.estimator_doc_link:hover {\n",
       "  /* unfitted */\n",
       "  background-color: var(--sklearn-color-unfitted-level-3);\n",
       "  color: var(--sklearn-color-background);\n",
       "  text-decoration: none;\n",
       "}\n",
       "\n",
       "#sk-container-id-1 a.estimator_doc_link.fitted:hover {\n",
       "  /* fitted */\n",
       "  background-color: var(--sklearn-color-fitted-level-3);\n",
       "}\n",
       "</style><div id=\"sk-container-id-1\" class=\"sk-top-container\"><div class=\"sk-text-repr-fallback\"><pre>GridSearchCV(estimator=RandomForestRegressor(),\n",
       "             param_grid={&#x27;max_depth&#x27;: [1, 2, 3, 4, 5, 6],\n",
       "                         &#x27;min_samples_split&#x27;: [1, 2, 3, 4, 5, 6],\n",
       "                         &#x27;n_estimators&#x27;: [100, 200, 300, 400, 500, 600, 700,\n",
       "                                          800, 900, 1000],\n",
       "                         &#x27;random_state&#x27;: [42]})</pre><b>In a Jupyter environment, please rerun this cell to show the HTML representation or trust the notebook. <br />On GitHub, the HTML representation is unable to render, please try loading this page with nbviewer.org.</b></div><div class=\"sk-container\" hidden><div class=\"sk-item sk-dashed-wrapped\"><div class=\"sk-label-container\"><div class=\"sk-label fitted sk-toggleable\"><input class=\"sk-toggleable__control sk-hidden--visually\" id=\"sk-estimator-id-1\" type=\"checkbox\" ><label for=\"sk-estimator-id-1\" class=\"sk-toggleable__label fitted sk-toggleable__label-arrow fitted\">&nbsp;&nbsp;GridSearchCV<a class=\"sk-estimator-doc-link fitted\" rel=\"noreferrer\" target=\"_blank\" href=\"https://scikit-learn.org/1.4/modules/generated/sklearn.model_selection.GridSearchCV.html\">?<span>Documentation for GridSearchCV</span></a><span class=\"sk-estimator-doc-link fitted\">i<span>Fitted</span></span></label><div class=\"sk-toggleable__content fitted\"><pre>GridSearchCV(estimator=RandomForestRegressor(),\n",
       "             param_grid={&#x27;max_depth&#x27;: [1, 2, 3, 4, 5, 6],\n",
       "                         &#x27;min_samples_split&#x27;: [1, 2, 3, 4, 5, 6],\n",
       "                         &#x27;n_estimators&#x27;: [100, 200, 300, 400, 500, 600, 700,\n",
       "                                          800, 900, 1000],\n",
       "                         &#x27;random_state&#x27;: [42]})</pre></div> </div></div><div class=\"sk-parallel\"><div class=\"sk-parallel-item\"><div class=\"sk-item\"><div class=\"sk-label-container\"><div class=\"sk-label fitted sk-toggleable\"><input class=\"sk-toggleable__control sk-hidden--visually\" id=\"sk-estimator-id-2\" type=\"checkbox\" ><label for=\"sk-estimator-id-2\" class=\"sk-toggleable__label fitted sk-toggleable__label-arrow fitted\">estimator: RandomForestRegressor</label><div class=\"sk-toggleable__content fitted\"><pre>RandomForestRegressor()</pre></div> </div></div><div class=\"sk-serial\"><div class=\"sk-item\"><div class=\"sk-estimator fitted sk-toggleable\"><input class=\"sk-toggleable__control sk-hidden--visually\" id=\"sk-estimator-id-3\" type=\"checkbox\" ><label for=\"sk-estimator-id-3\" class=\"sk-toggleable__label fitted sk-toggleable__label-arrow fitted\">&nbsp;RandomForestRegressor<a class=\"sk-estimator-doc-link fitted\" rel=\"noreferrer\" target=\"_blank\" href=\"https://scikit-learn.org/1.4/modules/generated/sklearn.ensemble.RandomForestRegressor.html\">?<span>Documentation for RandomForestRegressor</span></a></label><div class=\"sk-toggleable__content fitted\"><pre>RandomForestRegressor()</pre></div> </div></div></div></div></div></div></div></div></div>"
      ],
      "text/plain": [
       "GridSearchCV(estimator=RandomForestRegressor(),\n",
       "             param_grid={'max_depth': [1, 2, 3, 4, 5, 6],\n",
       "                         'min_samples_split': [1, 2, 3, 4, 5, 6],\n",
       "                         'n_estimators': [100, 200, 300, 400, 500, 600, 700,\n",
       "                                          800, 900, 1000],\n",
       "                         'random_state': [42]})"
      ]
     },
     "execution_count": 39,
     "metadata": {},
     "output_type": "execute_result"
    }
   ],
   "source": [
    "# Hyperparameter Selection\n",
    "from sklearn.model_selection import GridSearchCV\n",
    "\n",
    "parameters_random_forest = {\n",
    "    'n_estimators': [int(x) for x in np.linspace(start=100, stop=1000, num=10)],\n",
    "    'max_depth': [int(x) for x in np.linspace(start=1, stop=6, num=6)],\n",
    "    'min_samples_split': [int(x) for x in np.linspace(start=1, stop=6, num=6)],\n",
    "    'random_state': [42]\n",
    "}\n",
    "\n",
    "clf_random_forest = GridSearchCV(GridSearchCV_random_forest, parameters_random_forest)\n",
    "clf_random_forest.fit(train_X, train_y.values.ravel())"
   ]
  },
  {
   "cell_type": "code",
   "execution_count": 40,
   "metadata": {},
   "outputs": [
    {
     "data": {
      "text/plain": [
       "{'max_depth': 3,\n",
       " 'min_samples_split': 3,\n",
       " 'n_estimators': 100,\n",
       " 'random_state': 42}"
      ]
     },
     "execution_count": 40,
     "metadata": {},
     "output_type": "execute_result"
    }
   ],
   "source": [
    "clf_random_forest.best_params_"
   ]
  },
  {
   "cell_type": "code",
   "execution_count": 41,
   "metadata": {},
   "outputs": [
    {
     "name": "stderr",
     "output_type": "stream",
     "text": [
      "/home/tahlon/Documents/Projects/DTSC-691-Capstone-Project/.venv/lib/python3.11/site-packages/sklearn/base.py:1474: DataConversionWarning:\n",
      "\n",
      "A column-vector y was passed when a 1d array was expected. Please change the shape of y to (n_samples,), for example using ravel().\n",
      "\n"
     ]
    },
    {
     "data": {
      "text/plain": [
       "0.3787977921209659"
      ]
     },
     "execution_count": 41,
     "metadata": {},
     "output_type": "execute_result"
    }
   ],
   "source": [
    "# Model Training\n",
    "from sklearn.metrics import mean_squared_error\n",
    "\n",
    "Model_Random_Forest = RandomForestRegressor(max_depth=2, min_samples_split=4, n_estimators=100, random_state=42)\n",
    "Model_Random_Forest.fit(train_X, train_y)\n",
    "y_pred_random_forest = Model_Random_Forest.predict(test_X)\n",
    "random_forest_mse = mean_squared_error(test_y, y_pred_random_forest)\n",
    "random_forest_mse"
   ]
  },
  {
   "cell_type": "markdown",
   "metadata": {},
   "source": [
    "# Multilayer Perceptron\n",
    "This multilayer perceptron outputs a overall sensory score based on input chemicals."
   ]
  },
  {
   "cell_type": "markdown",
   "metadata": {},
   "source": [
    "notes: I ultimately want someone to put in a tea and see if it is generally likeable. This returns the scaled score so I need to return that scaled score into an interpretable one. Next I need to see how I would integrate this model into an interactie web app. Think about that..."
   ]
  },
  {
   "cell_type": "code",
   "execution_count": 42,
   "metadata": {},
   "outputs": [],
   "source": [
    "# Model Creation\n",
    "class MLP(nn.Module):\n",
    "    def __init__(self):\n",
    "        super().__init__()  \n",
    "        self.main = nn.Sequential(\n",
    "            # First Layer\n",
    "            nn.Linear(2, 16),\n",
    "            nn.ReLU(),\n",
    "\n",
    "            # Second Layer\n",
    "            nn.Linear(16, 32),\n",
    "            nn.ReLU(),\n",
    "\n",
    "            # Output Layer\n",
    "            nn.Linear(32, 1),\n",
    "            nn.ReLU() # Used because the output is greater than 1\n",
    "        )\n",
    "\n",
    "    def forward(self, input):\n",
    "        output = self.main(input)\n",
    "        return output"
   ]
  },
  {
   "cell_type": "code",
   "execution_count": 43,
   "metadata": {},
   "outputs": [],
   "source": [
    "# Training Loop Creation - very rough creation\n",
    "def train_MLP(model, X, y, learning_rate=0.1, n_epochs=100):\n",
    "    losses = []\n",
    "    criterion = nn.MSELoss()\n",
    "    optimizer = optim.Adam(model.parameters(), lr=learning_rate, betas=(0.5, 0.999))\n",
    "    for epoch in range(n_epochs):\n",
    "        model.train()\n",
    "        y_pred = model(X)\n",
    "        loss = criterion(y_pred, y)\n",
    "        optimizer.zero_grad()\n",
    "        loss.backward()\n",
    "        optimizer.step()\n",
    "\n",
    "        if epoch % 10 == 0: \n",
    "            print(f'[{epoch}/{n_epochs}]',\n",
    "            f'Loss: {loss.item():.4f}')\n",
    "                 \n",
    "        losses.append(loss.item())\n",
    "\n",
    "def predict_MLP(model, X):\n",
    "    model.eval()\n",
    "    with torch.no_grad():\n",
    "        device = next(model.parameters()).device\n",
    "        X = X.to(device)\n",
    "        predictions = model(X)\n",
    "    return predictions"
   ]
  },
  {
   "cell_type": "code",
   "execution_count": 44,
   "metadata": {},
   "outputs": [
    {
     "name": "stdout",
     "output_type": "stream",
     "text": [
      "[0/100] Loss: 6.0468\n",
      "[10/100] Loss: 0.3217\n",
      "[20/100] Loss: 0.3407\n",
      "[30/100] Loss: 0.2220\n",
      "[40/100] Loss: 0.4587\n",
      "[50/100] Loss: 0.2445\n",
      "[60/100] Loss: 0.2141\n",
      "[70/100] Loss: 0.2085\n",
      "[80/100] Loss: 0.2025\n",
      "[90/100] Loss: 0.1941\n"
     ]
    }
   ],
   "source": [
    "# Model Training\n",
    "Model_MLP = MLP()\n",
    "train_MLP(Model_MLP, train_X_tensor, train_y_tensor) "
   ]
  },
  {
   "cell_type": "code",
   "execution_count": 45,
   "metadata": {},
   "outputs": [],
   "source": [
    "# Model Predictions\n",
    "y_pred_mlp = predict_MLP(Model_MLP, test_X_tensor)\n",
    "y_pred_mlp = y_pred_mlp.detach()"
   ]
  },
  {
   "cell_type": "code",
   "execution_count": 46,
   "metadata": {},
   "outputs": [
    {
     "data": {
      "text/plain": [
       "0.22072178772851495"
      ]
     },
     "execution_count": 46,
     "metadata": {},
     "output_type": "execute_result"
    }
   ],
   "source": [
    "# Model Evaluation\n",
    "mse_mlp = mean_squared_error(test_y, y_pred_mlp)\n",
    "mse_mlp"
   ]
  },
  {
   "cell_type": "markdown",
   "metadata": {},
   "source": [
    "# Recurrent Neural Network"
   ]
  },
  {
   "cell_type": "code",
   "execution_count": 47,
   "metadata": {},
   "outputs": [],
   "source": [
    "# Model Creation - https://blog.floydhub.com/a-beginners-guide-on-recurrent-neural-networks-with-pytorch/\n",
    "class RNN(nn.Module):\n",
    "    def __init__(self, input_size=2, output_size=1, hidden_dim=12, n_layers=1):\n",
    "        super(RNN, self).__init__()\n",
    "        self.hidden_dim = hidden_dim\n",
    "        self.n_layers = n_layers\n",
    "\n",
    "        # Layers\n",
    "        self.rnn = nn.RNN(input_size, hidden_dim, n_layers, batch_first=True)\n",
    "        self.fully_connected = nn.Linear(hidden_dim, output_size)\n",
    "\n",
    "    def forward(self, X):\n",
    "        batch_size = X.size(0)\n",
    "        hidden = self.init_hidden(batch_size, X.device)       \n",
    "        out, hidden = self.rnn(X, hidden)\n",
    "        out = out.contiguous().view(-1, self.hidden_dim)\n",
    "        out = self.fully_connected(out)\n",
    "        return out, hidden\n",
    "        \n",
    "    def init_hidden(self, batch_size, device):\n",
    "        hidden = torch.zeros(self.n_layers, batch_size, self.hidden_dim, device=device)\n",
    "        return hidden\n",
    "    \n",
    "def predict_RNN(model, X):\n",
    "    model.eval()\n",
    "    with torch.no_grad():\n",
    "        device = next(model.parameters()).device\n",
    "        X = X.to(device)\n",
    "        predictions = model(X)\n",
    "    return predictions"
   ]
  },
  {
   "cell_type": "code",
   "execution_count": 48,
   "metadata": {},
   "outputs": [],
   "source": [
    "# Training Loop Creation - very rough creation\n",
    "def train_RNN(model, X, y, learning_rate=0.1, n_epochs=100):\n",
    "    losses = []\n",
    "    criterion = nn.MSELoss()\n",
    "    optimizer = torch.optim.Adam(model.parameters(), lr=learning_rate)\n",
    "    for epoch in range(n_epochs):\n",
    "        model.train()\n",
    "        optimizer.zero_grad()\n",
    "        output, hidden = model(X)\n",
    "        loss = criterion(output, y)\n",
    "        loss.backward()\n",
    "        optimizer.step()\n",
    "\n",
    "        if epoch % 10 == 0: \n",
    "            print(f'[{epoch}/{n_epochs}]',\n",
    "            f'Loss_D: {loss.item():.4f}')\n",
    "                 \n",
    "        losses.append(loss.item())\n"
   ]
  },
  {
   "cell_type": "code",
   "execution_count": 49,
   "metadata": {},
   "outputs": [
    {
     "name": "stdout",
     "output_type": "stream",
     "text": [
      "[0/100] Loss_D: 6.1036\n",
      "[10/100] Loss_D: 0.6354\n"
     ]
    },
    {
     "name": "stdout",
     "output_type": "stream",
     "text": [
      "[20/100] Loss_D: 0.4602\n",
      "[30/100] Loss_D: 0.4466\n",
      "[40/100] Loss_D: 0.2935\n",
      "[50/100] Loss_D: 0.2664\n",
      "[60/100] Loss_D: 0.2560\n",
      "[70/100] Loss_D: 0.2502\n",
      "[80/100] Loss_D: 0.2462\n",
      "[90/100] Loss_D: 0.2403\n"
     ]
    }
   ],
   "source": [
    "# Model Training\n",
    "Model_RNN = RNN()\n",
    "train_RNN(Model_RNN, train_X_tensor.unsqueeze(0), train_y_tensor) # Find out why I have to unsqueeze..."
   ]
  },
  {
   "cell_type": "code",
   "execution_count": 50,
   "metadata": {},
   "outputs": [],
   "source": [
    "# Model Predictions\n",
    "y_pred_rnn, hidden_rnn = predict_RNN(Model_RNN, test_X_tensor.unsqueeze(0))\n",
    "y_pred_rnn = y_pred_rnn.detach()"
   ]
  },
  {
   "cell_type": "code",
   "execution_count": 51,
   "metadata": {},
   "outputs": [
    {
     "data": {
      "text/plain": [
       "0.46147698143953286"
      ]
     },
     "execution_count": 51,
     "metadata": {},
     "output_type": "execute_result"
    }
   ],
   "source": [
    "# Model Evaluation\n",
    "mse_rnn = mean_squared_error(test_y, y_pred_rnn)\n",
    "mse_rnn"
   ]
  },
  {
   "cell_type": "markdown",
   "metadata": {},
   "source": [
    "# Model Visualization and Comparison\n",
    "https://neptune.ai/blog/deep-learning-visualization"
   ]
  },
  {
   "cell_type": "code",
   "execution_count": 61,
   "metadata": {},
   "outputs": [
    {
     "data": {
      "text/plain": [
       "(2.5, 3.5)"
      ]
     },
     "execution_count": 61,
     "metadata": {},
     "output_type": "execute_result"
    },
    {
     "data": {
      "image/png": "[encoded data removed]",
      "text/plain": [
       "<Figure size 1000x1000 with 1 Axes>"
      ]
     },
     "metadata": {},
     "output_type": "display_data"
    }
   ],
   "source": [
    "plt.figure(figsize=(10,10))\n",
    "plt.title('Random Forest Predictions')\n",
    "plt.xlabel('Real')\n",
    "plt.ylabel('Predicted')\n",
    "plt.scatter(test_y, y_pred_random_forest)\n",
    "plt.ylim((2.5,3.5))"
   ]
  },
  {
   "cell_type": "code",
   "execution_count": 62,
   "metadata": {},
   "outputs": [
    {
     "data": {
      "text/plain": [
       "(2.5, 4.5)"
      ]
     },
     "execution_count": 62,
     "metadata": {},
     "output_type": "execute_result"
    },
    {
     "data": {
      "image/png": "[encoded data removed]",
      "text/plain": [
       "<Figure size 1000x1000 with 1 Axes>"
      ]
     },
     "metadata": {},
     "output_type": "display_data"
    }
   ],
   "source": [
    "plt.figure(figsize=(10,10))\n",
    "plt.title('Multilayer Perceptron Predictions')\n",
    "plt.xlabel('Real')\n",
    "plt.ylabel('Predicted')\n",
    "plt.scatter(test_y, y_pred_mlp)\n",
    "plt.ylim((2.5,4.5))"
   ]
  },
  {
   "cell_type": "code",
   "execution_count": 65,
   "metadata": {},
   "outputs": [
    {
     "data": {
      "text/plain": [
       "(2.5, 3.5)"
      ]
     },
     "execution_count": 65,
     "metadata": {},
     "output_type": "execute_result"
    },
    {
     "data": {
      "image/png": "[encoded data removed]",
      "text/plain": [
       "<Figure size 1000x1000 with 1 Axes>"
      ]
     },
     "metadata": {},
     "output_type": "display_data"
    }
   ],
   "source": [
    "plt.figure(figsize=(10,10))\n",
    "plt.title('Recurrent Neural Network Predictions')\n",
    "plt.xlabel('Real')\n",
    "plt.ylabel('Predicted')\n",
    "plt.scatter(test_y, y_pred_rnn)\n",
    "plt.ylim((2.5,3.5))"
   ]
  },
  {
   "cell_type": "code",
   "execution_count": 79,
   "metadata": {},
   "outputs": [
    {
     "data": {
      "text/plain": [
       "tensor([[[-0.9994,  0.9862, -0.1857,  0.6485,  0.9990, -0.9935, -0.9996,\n",
       "          -0.9999, -0.9853,  0.9658,  0.9987, -0.9996]]])"
      ]
     },
     "execution_count": 79,
     "metadata": {},
     "output_type": "execute_result"
    }
   ],
   "source": [
    "hidden_rnn"
   ]
  },
  {
   "cell_type": "code",
   "execution_count": 91,
   "metadata": {},
   "outputs": [
    {
     "data": {
      "image/png": "[encoded data removed]",
      "text/plain": [
       "<Figure size 1500x1500 with 2 Axes>"
      ]
     },
     "metadata": {},
     "output_type": "display_data"
    }
   ],
   "source": [
    "from mpl_toolkits.mplot3d import Axes3D\n",
    "\n",
    "plt.style.use('dark_background')\n",
    "fig = plt.figure(figsize=(15, 15))\n",
    "ax = fig.add_subplot(111, projection='3d', facecolor='gray')\n",
    "scatter = ax.scatter(train_X[:29, 0], train_X[:29, 1], y_pred_rnn, c=y_pred_rnn, cmap='plasma', s=50, alpha=0.6)\n",
    "ax.set_xlabel('First Component', fontsize=14, color='white')\n",
    "ax.set_ylabel('Second Component', fontsize=14, color='white')\n",
    "ax.set_zlabel('Sensory Evaluation', fontsize=14, color='white')\n",
    "ax.set_title('3D Scatter Plot of Sensory Evaluation', fontsize=16, color='white')\n",
    "ax.tick_params(axis='x', colors='white')\n",
    "ax.tick_params(axis='y', colors='white')\n",
    "ax.tick_params(axis='z', colors='white')\n",
    "ax.view_init(elev=20, azim=120)\n",
    "cbar = fig.colorbar(scatter, ax=ax, pad=0.1)\n",
    "cbar.set_label('Sensory Evaluation Value', fontsize=14, color='white')\n",
    "cbar.ax.yaxis.set_tick_params(color='white')\n",
    "plt.setp(plt.getp(cbar.ax.axes, 'yticklabels'), color='white')\n",
    "plt.show()\n"
   ]
  },
  {
   "cell_type": "code",
   "execution_count": 56,
   "metadata": {},
   "outputs": [
    {
     "data": {
      "image/png": "[encoded data removed]",
      "text/plain": [
       "<IPython.core.display.Image object>"
      ]
     },
     "execution_count": 56,
     "metadata": {},
     "output_type": "execute_result"
    }
   ],
   "source": [
    "from torchviz import make_dot\n",
    "\n",
    "# Set model to evaluation mode and set it to current device\n",
    "Model_RNN.eval().to(device)\n",
    "\n",
    "# Create a dummy input tensor that matches the model's expected input dimensions\n",
    "dummy_input = torch.randn(1, 1, 2).to(device) \n",
    "\n",
    "# Perform a forward pass through the model with dummy input to get the output\n",
    "output, _ = Model_RNN(dummy_input.to(device))\n",
    "\n",
    "# Generate the visualization using the output tensor\n",
    "dot = make_dot(output, params=dict(Model_RNN.named_parameters()))\n",
    "\n",
    "# Render and save the visualization to a file\n",
    "dot.render(\"RNNModelVisualization\", format=\"png\")\n",
    "\n",
    "from IPython.display import Image\n",
    "\n",
    "Image('RNNModelVisualization.png')"
   ]
  },
  {
   "cell_type": "markdown",
   "metadata": {},
   "source": [
    "# Export model\n",
    "\n",
    "This model will be deployed in Python via a REST API with Flask. The Flask web app will then be deployed to a Linux web server using Unicorn."
   ]
  },
  {
   "cell_type": "code",
   "execution_count": null,
   "metadata": {},
   "outputs": [],
   "source": [
    "def save_models():\n",
    "    torch.save(Model_Random_Forest, 'rf.pickle')\n",
    "    torch.save(Model_MLP, 'mlp.pickle')\n",
    "    torch.save(Model_RNN, 'rnn.pickle')\n",
    "\n",
    "save_models()\n"
   ]
  }
 ],
 "metadata": {
  "kernelspec": {
   "display_name": "Python 3",
   "language": "python",
   "name": "python3"
  },
  "language_info": {
   "codemirror_mode": {
    "name": "ipython",
    "version": 3
   },
   "file_extension": ".py",
   "mimetype": "text/x-python",
   "name": "python",
   "nbconvert_exporter": "python",
   "pygments_lexer": "ipython3",
   "version": "3.11.7"
  }
 },
 "nbformat": 4,
 "nbformat_minor": 2
}
