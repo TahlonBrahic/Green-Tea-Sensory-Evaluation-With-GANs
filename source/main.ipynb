{
 "cells": [
  {
   "cell_type": "markdown",
   "metadata": {},
   "source": [
    "# Standard Imports"
   ]
  },
  {
   "cell_type": "code",
   "execution_count": 10,
   "metadata": {},
   "outputs": [],
   "source": [
    "import numpy as np\n",
    "import pandas as pd\n",
    "import matplotlib.pyplot as plt\n",
    "import torch\n",
    "import torch.nn as nn"
   ]
  },
  {
   "cell_type": "markdown",
   "metadata": {},
   "source": [
    "# Constants"
   ]
  },
  {
   "cell_type": "code",
   "execution_count": 11,
   "metadata": {},
   "outputs": [],
   "source": [
    "seed = 42"
   ]
  },
  {
   "cell_type": "markdown",
   "metadata": {},
   "source": [
    "# Import data"
   ]
  },
  {
   "cell_type": "code",
   "execution_count": 21,
   "metadata": {},
   "outputs": [],
   "source": [
    "# Chemical and Instrumental Assessment of Green Tea Sensory Preference - Y.R. Liang, Q. Ye, J. Jin, H. Liang, J.L. Lu, Y.Y. Du & J.J. Dong\n",
    "# https://doi.org/10.1080/10942910701299430\n",
    "# Notes: downloaded CSVs\n",
    "\n",
    "df_10942910701299430_chemical_composition = pd.read_csv('../data/10942910701299430/chemical_composition.csv', index_col=0, header=1)\n",
    "df_10942910701299430_sensory_evaluation = pd.read_csv('../data/10942910701299430/sensory_evaluation.csv')\n",
    "\n",
    "# Phytochemical Composition and Antioxidant Capacity of 30 Chinese Teas - by Guo-Yi Tang, Cai-Ning Zhao, Xiao-Yu Xu, Ren-You Gan, Shi-Yu Cao, Qing Liu, AoShang, Qian-Qian Mao & Hua-Bin Li\n",
    "# https://doi.org/10.3390/antiox8060180\n",
    "# Notes: Manually scraped data\n",
    "\n",
    "df_antiox8060180_chemical_composition = pd.read_csv('../data/antiox8060180/chemical_composition.csv')\n",
    "\n",
    "# Catechin and caffeine content of tea (Camellia sinensis L.) leaf significantly differ with seasonal variation... - Himangshu Deka, Tupu Barman, Jintu Dutta, Arundhuti Devi, Pradip Tamuly, Ranjit Kumar Paul & Tanmoy Karak \n",
    "# https://doi.org/10.1016/j.jfca.2020.103684\n",
    "# https://krishi.icar.gov.in/jspui/bitstream/123456789/68751/2/S0889157520313892-main.pdf - Free access\n",
    "\n",
    "# df_j.jfca.2020.103684_chemical_composition = pd.read_csv('dava/j.jfca.2020.103684/chemical_composition.csv')\n",
    "\n",
    "# Comparative analysis of tea catechins and theaflavins by high-performance liquid chromatography and capillary electrophoresis - Bee-Lan Lee & Choon-Nam Ong\n",
    "# https://doi.org/10.1016/S0021-9673(00)00215-6\n",
    "# Notes: Manually scraped data\n",
    "\n",
    "df_S0021967300002156 = pd.read_csv('../data/S0021967300002156/chemical_composition.csv')\n",
    "\n",
    "# Survey of Catechins, Gallic Acid, and Methylxanthines in Green, Oolong, Pu-erh, and Black Teas - Jen-Kun Lin, Chih-Li Lin, Yu-Chih Liang, Shoei-Yn Lin-Shiau & I-Ming Juan\n",
    "# https://doi.org/10.1021/jf980223x\n",
    "# Notes: Manually scraped data\n",
    "\n",
    "df_S0021967300002156 = pd.read_csv('../data/jf980223x/chemical_composition.csv')\n"
   ]
  },
  {
   "cell_type": "code",
   "execution_count": 30,
   "metadata": {},
   "outputs": [
    {
     "data": {
      "text/html": [
       "<div>\n",
       "<style scoped>\n",
       "    .dataframe tbody tr th:only-of-type {\n",
       "        vertical-align: middle;\n",
       "    }\n",
       "\n",
       "    .dataframe tbody tr th {\n",
       "        vertical-align: top;\n",
       "    }\n",
       "\n",
       "    .dataframe thead th {\n",
       "        text-align: right;\n",
       "    }\n",
       "</style>\n",
       "<table border=\"1\" class=\"dataframe\">\n",
       "  <thead>\n",
       "    <tr style=\"text-align: right;\">\n",
       "      <th></th>\n",
       "      <th>Sample No</th>\n",
       "      <th>Taste</th>\n",
       "      <th>Appearance</th>\n",
       "      <th>Aroma</th>\n",
       "      <th>Liqour color</th>\n",
       "      <th>Infused leaf</th>\n",
       "      <th>TSSP b</th>\n",
       "    </tr>\n",
       "  </thead>\n",
       "  <tbody>\n",
       "    <tr>\n",
       "      <th>0</th>\n",
       "      <td>1</td>\n",
       "      <td>23.1 ± 0.51</td>\n",
       "      <td>7.9 ± 0.18</td>\n",
       "      <td>23.1 ± 0.53</td>\n",
       "      <td>8.1 ± 0.09</td>\n",
       "      <td>15.2 ± 0.18</td>\n",
       "      <td>77.4 ± 1.71</td>\n",
       "    </tr>\n",
       "    <tr>\n",
       "      <th>1</th>\n",
       "      <td>2</td>\n",
       "      <td>25.8 ± 0.34</td>\n",
       "      <td>8.1 ± 0.11</td>\n",
       "      <td>24.9 ± 0.45</td>\n",
       "      <td>8.3 ± 0.10</td>\n",
       "      <td>16.4 ± 0.19</td>\n",
       "      <td>83.5 ± 1.19</td>\n",
       "    </tr>\n",
       "    <tr>\n",
       "      <th>2</th>\n",
       "      <td>3</td>\n",
       "      <td>23.7 ± 0.37</td>\n",
       "      <td>7.8 ± 0.23</td>\n",
       "      <td>23.7 ± 0.38</td>\n",
       "      <td>7.6 ± 0.10</td>\n",
       "      <td>15.8 ± 0.13</td>\n",
       "      <td>78.6 ± 1.21</td>\n",
       "    </tr>\n",
       "    <tr>\n",
       "      <th>3</th>\n",
       "      <td>4</td>\n",
       "      <td>23.7 ± 0.43</td>\n",
       "      <td>8.3 ± 0.12</td>\n",
       "      <td>24.0 ± 0.46</td>\n",
       "      <td>8.6 ± 0.11</td>\n",
       "      <td>16.6 ± 0.16</td>\n",
       "      <td>81.2 ± 1.28</td>\n",
       "    </tr>\n",
       "    <tr>\n",
       "      <th>4</th>\n",
       "      <td>5</td>\n",
       "      <td>24.6 ± 0.37</td>\n",
       "      <td>8.2 ± 0.24</td>\n",
       "      <td>26.4 ± 0.45</td>\n",
       "      <td>8.5 ± 0.09</td>\n",
       "      <td>16.6 ± 0.18</td>\n",
       "      <td>84.3 ± 1.32</td>\n",
       "    </tr>\n",
       "    <tr>\n",
       "      <th>5</th>\n",
       "      <td>6</td>\n",
       "      <td>24.6 ± 0.39</td>\n",
       "      <td>8.1 ± 0.17</td>\n",
       "      <td>27.0 ± 0.43</td>\n",
       "      <td>8.7 ± 0.12</td>\n",
       "      <td>16.8 ± 0.20</td>\n",
       "      <td>85.2 ± 1.30</td>\n",
       "    </tr>\n",
       "    <tr>\n",
       "      <th>6</th>\n",
       "      <td>7</td>\n",
       "      <td>25.2 ± 0.30</td>\n",
       "      <td>8.4 ± 0.16</td>\n",
       "      <td>24.9 ± 0.33</td>\n",
       "      <td>8.4 ± 0.11</td>\n",
       "      <td>17.8 ± 0.23</td>\n",
       "      <td>84.7 ± 1.12</td>\n",
       "    </tr>\n",
       "    <tr>\n",
       "      <th>7</th>\n",
       "      <td>8</td>\n",
       "      <td>23.7 ± 0.27</td>\n",
       "      <td>7.7 ± 0.19</td>\n",
       "      <td>24.3 ± 0.31</td>\n",
       "      <td>8.4 ± 0.12</td>\n",
       "      <td>15.8 ± 0.21</td>\n",
       "      <td>79.9 ± 1.10</td>\n",
       "    </tr>\n",
       "    <tr>\n",
       "      <th>8</th>\n",
       "      <td>9</td>\n",
       "      <td>23.1 ± 0.31</td>\n",
       "      <td>7.3 ± 0.20</td>\n",
       "      <td>22.2 ± 0.32</td>\n",
       "      <td>8.1 ± 0.09</td>\n",
       "      <td>16.0 ± 0.27</td>\n",
       "      <td>76.7 ± 1.17</td>\n",
       "    </tr>\n",
       "    <tr>\n",
       "      <th>9</th>\n",
       "      <td>10</td>\n",
       "      <td>22.2 ± 0.33</td>\n",
       "      <td>7.8 ± 0.12</td>\n",
       "      <td>22.5 ± 0.36</td>\n",
       "      <td>8.0 ± 0.11</td>\n",
       "      <td>16.4 ± 0.21</td>\n",
       "      <td>76.9 ± 1.11</td>\n",
       "    </tr>\n",
       "    <tr>\n",
       "      <th>10</th>\n",
       "      <td>11</td>\n",
       "      <td>22.5 ± 0.23</td>\n",
       "      <td>7.8 ± 0.31</td>\n",
       "      <td>22.8 ± 0.25</td>\n",
       "      <td>7.5 ± 0.08</td>\n",
       "      <td>15.6 ± 0.17</td>\n",
       "      <td>76.2 ± 1.02</td>\n",
       "    </tr>\n",
       "    <tr>\n",
       "      <th>11</th>\n",
       "      <td>12</td>\n",
       "      <td>24.3 ± 0.11</td>\n",
       "      <td>8.1 ± 0.13</td>\n",
       "      <td>26.1 ± 0.13</td>\n",
       "      <td>8.9 ± 0.07</td>\n",
       "      <td>16.6 ± 0.19</td>\n",
       "      <td>84.0 ± 0.64</td>\n",
       "    </tr>\n",
       "    <tr>\n",
       "      <th>12</th>\n",
       "      <td>13</td>\n",
       "      <td>25.8 ± 0.07</td>\n",
       "      <td>8.1 ± 0.15</td>\n",
       "      <td>25.8 ± 0.05</td>\n",
       "      <td>8.5 ± 0.11</td>\n",
       "      <td>17.6 ± 0.20</td>\n",
       "      <td>85.8 ± 0.61</td>\n",
       "    </tr>\n",
       "    <tr>\n",
       "      <th>13</th>\n",
       "      <td>14</td>\n",
       "      <td>26.7 ± 0.21</td>\n",
       "      <td>8.8 ± 0.22</td>\n",
       "      <td>25.8 ± 0.25</td>\n",
       "      <td>8.4 ± 0.06</td>\n",
       "      <td>17.8 ± 0.13</td>\n",
       "      <td>87.5 ± 0.86</td>\n",
       "    </tr>\n",
       "    <tr>\n",
       "      <th>14</th>\n",
       "      <td>15</td>\n",
       "      <td>27.6 ± 0.43</td>\n",
       "      <td>8.5 ± 0.21</td>\n",
       "      <td>27.6 ± 0.56</td>\n",
       "      <td>8.9 ± 0.07</td>\n",
       "      <td>17.4 ± 0.18</td>\n",
       "      <td>90.0 ± 1.43</td>\n",
       "    </tr>\n",
       "    <tr>\n",
       "      <th>15</th>\n",
       "      <td>16</td>\n",
       "      <td>25.5 ± 0.39</td>\n",
       "      <td>8.3 ± 0.16</td>\n",
       "      <td>26.1 ± 0.42</td>\n",
       "      <td>8.8 ± 0.05</td>\n",
       "      <td>17.2 ± 0.13</td>\n",
       "      <td>85.9 ± 0.14</td>\n",
       "    </tr>\n",
       "    <tr>\n",
       "      <th>16</th>\n",
       "      <td>17</td>\n",
       "      <td>23.4 ± 0.45</td>\n",
       "      <td>7.6 ± 0.15</td>\n",
       "      <td>23.7 ± 0.51</td>\n",
       "      <td>7.7 ± 0.09</td>\n",
       "      <td>16.0 ± 0.17</td>\n",
       "      <td>78.4 ± 1.34</td>\n",
       "    </tr>\n",
       "    <tr>\n",
       "      <th>17</th>\n",
       "      <td>18</td>\n",
       "      <td>22.2 ± 0.33</td>\n",
       "      <td>6.8 ± 0.11</td>\n",
       "      <td>22.8 ± 0.36</td>\n",
       "      <td>7.7 ± 0.08</td>\n",
       "      <td>15.0 ± 0.14</td>\n",
       "      <td>74.5 ± 1.01</td>\n",
       "    </tr>\n",
       "    <tr>\n",
       "      <th>18</th>\n",
       "      <td>19</td>\n",
       "      <td>27.0 ± 0.37</td>\n",
       "      <td>8.0 ± 0.13</td>\n",
       "      <td>26.7 ± 0.42</td>\n",
       "      <td>8.9 ± 0.09</td>\n",
       "      <td>17.6 ± 0.21</td>\n",
       "      <td>88.2 ± 1.22</td>\n",
       "    </tr>\n",
       "    <tr>\n",
       "      <th>19</th>\n",
       "      <td>20</td>\n",
       "      <td>23.7 ± 0.17</td>\n",
       "      <td>7.9 ± 0.22</td>\n",
       "      <td>24.9 ± 0.20</td>\n",
       "      <td>8.3 ± 0.08</td>\n",
       "      <td>15.8 ± 0.18</td>\n",
       "      <td>80.6 ± 0.86</td>\n",
       "    </tr>\n",
       "    <tr>\n",
       "      <th>20</th>\n",
       "      <td>21</td>\n",
       "      <td>22.5 ± 0.21</td>\n",
       "      <td>7.1 ± 0.18</td>\n",
       "      <td>22.2 ± 0.24</td>\n",
       "      <td>7.3 ± 0.06</td>\n",
       "      <td>14.8 ± 0.14</td>\n",
       "      <td>73.9 ± 0.86</td>\n",
       "    </tr>\n",
       "    <tr>\n",
       "      <th>21</th>\n",
       "      <td>22</td>\n",
       "      <td>23.4 ± 0.22</td>\n",
       "      <td>8.1 ± 0.16</td>\n",
       "      <td>23.4 ± 0.27</td>\n",
       "      <td>8.2 ± 0.07</td>\n",
       "      <td>16.8 ± 0.17</td>\n",
       "      <td>79.9 ± 0.90</td>\n",
       "    </tr>\n",
       "    <tr>\n",
       "      <th>22</th>\n",
       "      <td>23</td>\n",
       "      <td>24.0 ± 0.34</td>\n",
       "      <td>7.9 ± 0.12</td>\n",
       "      <td>23.7 ± 0.38</td>\n",
       "      <td>7.8 ± 0.10</td>\n",
       "      <td>16.4 ± 0.21</td>\n",
       "      <td>79.8 ± 1.13</td>\n",
       "    </tr>\n",
       "    <tr>\n",
       "      <th>23</th>\n",
       "      <td>Average</td>\n",
       "      <td>24.3 ± 1.54</td>\n",
       "      <td>7.9 ± 0.45</td>\n",
       "      <td>24.5 ± 1.64</td>\n",
       "      <td>8.2 ± 0.47</td>\n",
       "      <td>16.4 ± 0.88</td>\n",
       "      <td>81.4 ± 4.55</td>\n",
       "    </tr>\n",
       "    <tr>\n",
       "      <th>24</th>\n",
       "      <td>aSD = standard deviation; bTSSP = total score....</td>\n",
       "      <td>NaN</td>\n",
       "      <td>NaN</td>\n",
       "      <td>NaN</td>\n",
       "      <td>NaN</td>\n",
       "      <td>NaN</td>\n",
       "      <td>NaN</td>\n",
       "    </tr>\n",
       "  </tbody>\n",
       "</table>\n",
       "</div>"
      ],
      "text/plain": [
       "                                            Sample No        Taste  \\\n",
       "0                                                   1  23.1 ± 0.51   \n",
       "1                                                   2  25.8 ± 0.34   \n",
       "2                                                   3  23.7 ± 0.37   \n",
       "3                                                   4  23.7 ± 0.43   \n",
       "4                                                   5  24.6 ± 0.37   \n",
       "5                                                   6  24.6 ± 0.39   \n",
       "6                                                   7  25.2 ± 0.30   \n",
       "7                                                   8  23.7 ± 0.27   \n",
       "8                                                   9  23.1 ± 0.31   \n",
       "9                                                  10  22.2 ± 0.33   \n",
       "10                                                 11  22.5 ± 0.23   \n",
       "11                                                 12  24.3 ± 0.11   \n",
       "12                                                 13  25.8 ± 0.07   \n",
       "13                                                 14  26.7 ± 0.21   \n",
       "14                                                 15  27.6 ± 0.43   \n",
       "15                                                 16  25.5 ± 0.39   \n",
       "16                                                 17  23.4 ± 0.45   \n",
       "17                                                 18  22.2 ± 0.33   \n",
       "18                                                 19  27.0 ± 0.37   \n",
       "19                                                 20  23.7 ± 0.17   \n",
       "20                                                 21  22.5 ± 0.21   \n",
       "21                                                 22  23.4 ± 0.22   \n",
       "22                                                 23  24.0 ± 0.34   \n",
       "23                                            Average  24.3 ± 1.54   \n",
       "24  aSD = standard deviation; bTSSP = total score....          NaN   \n",
       "\n",
       "    Appearance        Aroma Liqour color Infused leaf       TSSP b  \n",
       "0   7.9 ± 0.18  23.1 ± 0.53   8.1 ± 0.09  15.2 ± 0.18  77.4 ± 1.71  \n",
       "1   8.1 ± 0.11  24.9 ± 0.45   8.3 ± 0.10  16.4 ± 0.19  83.5 ± 1.19  \n",
       "2   7.8 ± 0.23  23.7 ± 0.38   7.6 ± 0.10  15.8 ± 0.13  78.6 ± 1.21  \n",
       "3   8.3 ± 0.12  24.0 ± 0.46   8.6 ± 0.11  16.6 ± 0.16  81.2 ± 1.28  \n",
       "4   8.2 ± 0.24  26.4 ± 0.45   8.5 ± 0.09  16.6 ± 0.18  84.3 ± 1.32  \n",
       "5   8.1 ± 0.17  27.0 ± 0.43   8.7 ± 0.12  16.8 ± 0.20  85.2 ± 1.30  \n",
       "6   8.4 ± 0.16  24.9 ± 0.33   8.4 ± 0.11  17.8 ± 0.23  84.7 ± 1.12  \n",
       "7   7.7 ± 0.19  24.3 ± 0.31   8.4 ± 0.12  15.8 ± 0.21  79.9 ± 1.10  \n",
       "8   7.3 ± 0.20  22.2 ± 0.32   8.1 ± 0.09  16.0 ± 0.27  76.7 ± 1.17  \n",
       "9   7.8 ± 0.12  22.5 ± 0.36   8.0 ± 0.11  16.4 ± 0.21  76.9 ± 1.11  \n",
       "10  7.8 ± 0.31  22.8 ± 0.25   7.5 ± 0.08  15.6 ± 0.17  76.2 ± 1.02  \n",
       "11  8.1 ± 0.13  26.1 ± 0.13   8.9 ± 0.07  16.6 ± 0.19  84.0 ± 0.64  \n",
       "12  8.1 ± 0.15  25.8 ± 0.05   8.5 ± 0.11  17.6 ± 0.20  85.8 ± 0.61  \n",
       "13  8.8 ± 0.22  25.8 ± 0.25   8.4 ± 0.06  17.8 ± 0.13  87.5 ± 0.86  \n",
       "14  8.5 ± 0.21  27.6 ± 0.56   8.9 ± 0.07  17.4 ± 0.18  90.0 ± 1.43  \n",
       "15  8.3 ± 0.16  26.1 ± 0.42   8.8 ± 0.05  17.2 ± 0.13  85.9 ± 0.14  \n",
       "16  7.6 ± 0.15  23.7 ± 0.51   7.7 ± 0.09  16.0 ± 0.17  78.4 ± 1.34  \n",
       "17  6.8 ± 0.11  22.8 ± 0.36   7.7 ± 0.08  15.0 ± 0.14  74.5 ± 1.01  \n",
       "18  8.0 ± 0.13  26.7 ± 0.42   8.9 ± 0.09  17.6 ± 0.21  88.2 ± 1.22  \n",
       "19  7.9 ± 0.22  24.9 ± 0.20   8.3 ± 0.08  15.8 ± 0.18  80.6 ± 0.86  \n",
       "20  7.1 ± 0.18  22.2 ± 0.24   7.3 ± 0.06  14.8 ± 0.14  73.9 ± 0.86  \n",
       "21  8.1 ± 0.16  23.4 ± 0.27   8.2 ± 0.07  16.8 ± 0.17  79.9 ± 0.90  \n",
       "22  7.9 ± 0.12  23.7 ± 0.38   7.8 ± 0.10  16.4 ± 0.21  79.8 ± 1.13  \n",
       "23  7.9 ± 0.45  24.5 ± 1.64   8.2 ± 0.47  16.4 ± 0.88  81.4 ± 4.55  \n",
       "24         NaN          NaN          NaN          NaN          NaN  "
      ]
     },
     "execution_count": 30,
     "metadata": {},
     "output_type": "execute_result"
    }
   ],
   "source": [
    "df_10942910701299430_sensory_evaluation"
   ]
  },
  {
   "cell_type": "markdown",
   "metadata": {},
   "source": [
    "# Combine data\n",
    "\n",
    "## Data Frame Format\n",
    "\n",
    "The data frames will be combined into the following format:\n",
    "\n",
    "- `'Catechin'`\n",
    "- `'Epicatechin'`\n",
    "- `'Gallocatechin'`\n",
    "- `'Epigallocatechin'`\n",
    "- `'Catechin Gallate'`\n",
    "- `'Epicatechin Gallate'`\n",
    "- `'Gallocatechin Gallate'`\n",
    "- `'Epigallocatechin Gallate'`\n",
    "- `'Gallic Acid'`\n",
    "- `'Chlorogenic Acid'`\n",
    "- `'Caffeine'`\n",
    "- `'Taste'`\n",
    "- `'Appearance'`\n",
    "- `'Aroma'`\n",
    "- `'Liqour color'`\n"
   ]
  },
  {
   "cell_type": "code",
   "execution_count": null,
   "metadata": {},
   "outputs": [],
   "source": []
  },
  {
   "cell_type": "markdown",
   "metadata": {},
   "source": [
    "# Visualize data"
   ]
  },
  {
   "cell_type": "code",
   "execution_count": null,
   "metadata": {},
   "outputs": [],
   "source": []
  },
  {
   "cell_type": "markdown",
   "metadata": {},
   "source": [
    "# Data Wrangling"
   ]
  },
  {
   "cell_type": "code",
   "execution_count": null,
   "metadata": {},
   "outputs": [],
   "source": []
  },
  {
   "cell_type": "markdown",
   "metadata": {},
   "source": [
    "# Training Device"
   ]
  },
  {
   "cell_type": "code",
   "execution_count": null,
   "metadata": {},
   "outputs": [
    {
     "name": "stdout",
     "output_type": "stream",
     "text": [
      "Using cpu device\n"
     ]
    }
   ],
   "source": [
    "# Get cpu, gpu or mps device for training.\n",
    "device = (\n",
    "    \"cuda\"\n",
    "    if torch.cuda.is_available()\n",
    "    else \"mps\"\n",
    "    if torch.backends.mps.is_available()\n",
    "    else \"cpu\"\n",
    ")\n",
    "print(f\"Using {device} device\")"
   ]
  },
  {
   "cell_type": "markdown",
   "metadata": {},
   "source": [
    "# Generative Adversarial Network"
   ]
  },
  {
   "cell_type": "code",
   "execution_count": null,
   "metadata": {},
   "outputs": [],
   "source": [
    "class Generator(nn.Module):\n",
    "    def __init__(self, ngpu):\n",
    "            super(Generator, self).__init__()\n",
    "            self.ngpu = ngpu\n",
    "\n",
    "class Discriminator(nn.Module):    \n",
    "    def __init__(self, ngpu):\n",
    "        super(Discriminator, self).__init__()\n",
    "        self.ngpu = ngpu"
   ]
  },
  {
   "cell_type": "markdown",
   "metadata": {},
   "source": [
    "# Split data"
   ]
  },
  {
   "cell_type": "code",
   "execution_count": null,
   "metadata": {},
   "outputs": [],
   "source": [
    "from torch.utils.data import DataLoader, random_split\n",
    "\n",
    "train_size = int(0.8 * len(df))\n",
    "test_size = len(df) - train_size\n",
    "train_df, test_df = random_split(df, [train_size, test_size])\n",
    "\n",
    "train_loader = DataLoader(train_df, batch_size=64, shuffle=True)\n",
    "test_loader = DataLoader(test_df, batch_size=64, shuffle=True)"
   ]
  },
  {
   "cell_type": "markdown",
   "metadata": {},
   "source": [
    "# Feature Engineering"
   ]
  },
  {
   "cell_type": "code",
   "execution_count": null,
   "metadata": {},
   "outputs": [],
   "source": []
  },
  {
   "cell_type": "markdown",
   "metadata": {},
   "source": [
    "# DBSCAN"
   ]
  },
  {
   "cell_type": "code",
   "execution_count": null,
   "metadata": {},
   "outputs": [],
   "source": [
    "# Model Creation"
   ]
  },
  {
   "cell_type": "code",
   "execution_count": null,
   "metadata": {},
   "outputs": [],
   "source": [
    "# Hyperparameter Selection"
   ]
  },
  {
   "cell_type": "code",
   "execution_count": null,
   "metadata": {},
   "outputs": [],
   "source": [
    "# Model Training"
   ]
  },
  {
   "cell_type": "markdown",
   "metadata": {},
   "source": [
    "# Multilayer Perceptron"
   ]
  },
  {
   "cell_type": "code",
   "execution_count": null,
   "metadata": {},
   "outputs": [],
   "source": [
    "# Model Creation"
   ]
  },
  {
   "cell_type": "code",
   "execution_count": null,
   "metadata": {},
   "outputs": [],
   "source": [
    "# Hyperparameter Selection"
   ]
  },
  {
   "cell_type": "code",
   "execution_count": null,
   "metadata": {},
   "outputs": [],
   "source": [
    "# Model Training"
   ]
  },
  {
   "cell_type": "markdown",
   "metadata": {},
   "source": [
    "# Convolutiontional Neural Network"
   ]
  },
  {
   "cell_type": "code",
   "execution_count": null,
   "metadata": {},
   "outputs": [],
   "source": [
    "# Model Creation"
   ]
  },
  {
   "cell_type": "code",
   "execution_count": null,
   "metadata": {},
   "outputs": [],
   "source": [
    "# Hyperparameter Selection\n"
   ]
  },
  {
   "cell_type": "code",
   "execution_count": null,
   "metadata": {},
   "outputs": [],
   "source": [
    "# Model Training"
   ]
  },
  {
   "cell_type": "markdown",
   "metadata": {},
   "source": [
    "# Model Visualization and Comparison"
   ]
  },
  {
   "cell_type": "code",
   "execution_count": null,
   "metadata": {},
   "outputs": [],
   "source": []
  },
  {
   "cell_type": "markdown",
   "metadata": {},
   "source": [
    "# Export model"
   ]
  },
  {
   "cell_type": "code",
   "execution_count": null,
   "metadata": {},
   "outputs": [],
   "source": []
  }
 ],
 "metadata": {
  "kernelspec": {
   "display_name": "Python 3",
   "language": "python",
   "name": "python3"
  },
  "language_info": {
   "codemirror_mode": {
    "name": "ipython",
    "version": 3
   },
   "file_extension": ".py",
   "mimetype": "text/x-python",
   "name": "python",
   "nbconvert_exporter": "python",
   "pygments_lexer": "ipython3",
   "version": "3.11.6"
  }
 },
 "nbformat": 4,
 "nbformat_minor": 2
}
