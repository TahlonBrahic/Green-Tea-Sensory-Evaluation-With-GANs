{
 "cells": [
  {
   "cell_type": "markdown",
   "metadata": {},
   "source": [
    "# Standard Imports"
   ]
  },
  {
   "cell_type": "code",
   "execution_count": 1032,
   "metadata": {},
   "outputs": [],
   "source": [
    "import numpy as np\n",
    "import pandas as pd\n",
    "import matplotlib.pyplot as plt\n",
    "import torch\n",
    "import torch.nn as nn"
   ]
  },
  {
   "cell_type": "markdown",
   "metadata": {},
   "source": [
    "# Constants"
   ]
  },
  {
   "cell_type": "code",
   "execution_count": 1033,
   "metadata": {},
   "outputs": [],
   "source": [
    "seed = 42"
   ]
  },
  {
   "cell_type": "markdown",
   "metadata": {},
   "source": [
    "# Import data"
   ]
  },
  {
   "cell_type": "code",
   "execution_count": 1034,
   "metadata": {},
   "outputs": [],
   "source": [
    "# Chemical and Instrumental Assessment of Green Tea Sensory Preference - Y.R. Liang, Q. Ye, J. Jin, H. Liang, J.L. Lu, Y.Y. Du & J.J. Dong\n",
    "# https://doi.org/10.1080/10942910701299430\n",
    "# Notes: downloaded CSVs\n",
    "\n",
    "df_10942910701299430_chemical_composition = pd.read_csv('../data/10942910701299430/chemical_composition.csv', index_col=0, header=1)\n",
    "df_10942910701299430_sensory_evaluation = pd.read_csv('../data/10942910701299430/sensory_evaluation.csv')\n",
    "\n",
    "# Phytochemical Composition and Antioxidant Capacity of 30 Chinese Teas - by Guo-Yi Tang, Cai-Ning Zhao, Xiao-Yu Xu, Ren-You Gan, Shi-Yu Cao, Qing Liu, AoShang, Qian-Qian Mao & Hua-Bin Li\n",
    "# https://doi.org/10.3390/antiox8060180\n",
    "# Notes: Manually scraped data\n",
    "\n",
    "df_antiox8060180_chemical_composition = pd.read_csv('../data/antiox8060180/chemical_composition.csv')\n",
    "\n",
    "# Catechin and caffeine content of tea (Camellia sinensis L.) leaf significantly differ with seasonal variation... - Himangshu Deka, Tupu Barman, Jintu Dutta, Arundhuti Devi, Pradip Tamuly, Ranjit Kumar Paul & Tanmoy Karak \n",
    "# https://doi.org/10.1016/j.jfca.2020.103684\n",
    "# https://krishi.icar.gov.in/jspui/bitstream/123456789/68751/2/S0889157520313892-main.pdf - Free access\n",
    "\n",
    "# df_j.jfca.2020.103684_chemical_composition = pd.read_csv('dava/j.jfca.2020.103684/chemical_composition.csv')\n",
    "\n",
    "# Comparative analysis of tea catechins and theaflavins by high-performance liquid chromatography and capillary electrophoresis - Bee-Lan Lee & Choon-Nam Ong\n",
    "# https://doi.org/10.1016/S0021-9673(00)00215-6\n",
    "# Notes: Manually scraped data\n",
    "\n",
    "df_S0021967300002156 = pd.read_csv('../data/S0021967300002156/chemical_composition.csv')\n",
    "\n",
    "# Survey of Catechins, Gallic Acid, and Methylxanthines in Green, Oolong, Pu-erh, and Black Teas - Jen-Kun Lin, Chih-Li Lin, Yu-Chih Liang, Shoei-Yn Lin-Shiau & I-Ming Juan\n",
    "# https://doi.org/10.1021/jf980223x\n",
    "# Notes: Manually scraped data\n",
    "\n",
    "df_jf980223x = pd.read_csv('../data/jf980223x/chemical_composition.csv')\n"
   ]
  },
  {
   "cell_type": "code",
   "execution_count": 1035,
   "metadata": {},
   "outputs": [],
   "source": [
    "# List of all imported dataframes\n",
    "all_dataframes = [df_10942910701299430_chemical_composition,\n",
    "                  df_10942910701299430_sensory_evaluation,\n",
    "                  df_antiox8060180_chemical_composition,\n",
    "                  df_S0021967300002156,\n",
    "                  df_jf980223x]"
   ]
  },
  {
   "cell_type": "markdown",
   "metadata": {},
   "source": [
    "# Combine data\n",
    "\n",
    "To combine the data I am going to create a data pipeline that does the following:\n",
    "\n",
    "1. Add all the pandas dataframes to a list.\n",
    "2. Read that list into a function.\n",
    "3. The function reads an individual dataframe from that list then resets the index, rename catechins to be like the catechin dictionary below, drop unused columns, add columns that are part of the standardized column format, and then sorts the columns to be part of the standardized column format.\n",
    "4. The function will then add the dataframe to a list denoting it is processed.\n",
    "5. Once the function has processed all the dataframes in the lists it will loop through the data frames in the finished list and concatenate them.\n",
    "6. The function will return a combined dataframe.\n",
    "\n",
    "## Data Frame Format\n",
    "\n",
    "The data frames will be combined into the following format:\n",
    "\n",
    "- `'Catechin'`\n",
    "- `'Epicatechin'`\n",
    "- `'Gallocatechin'`\n",
    "- `'Epigallocatechin'`\n",
    "- `'Catechin Gallate'`\n",
    "- `'Epicatechin Gallate'`\n",
    "- `'Gallocatechin Gallate'`\n",
    "- `'Epigallocatechin Gallate'`\n",
    "- `'Gallic Acid'`\n",
    "- `'Chlorogenic Acid'`\n",
    "- `'Caffeine'`\n",
    "- `'Taste'`\n",
    "- `'Appearance'`\n",
    "- `'Aroma'`\n",
    "- `'Liqour color'`\n"
   ]
  },
  {
   "cell_type": "code",
   "execution_count": 1036,
   "metadata": {},
   "outputs": [],
   "source": [
    "catechin_dictionary = {\n",
    "    'C': 'Catechin',\n",
    "    'EC': 'Epicatechin',\n",
    "    'GC': 'Gallocatechin',\n",
    "    'EGC': 'Epigallocatechin',\n",
    "    'CG': 'Catechin Gallate',\n",
    "    'ECG': 'Epicatechin Gallate',\n",
    "    'GCG': 'Gallocatechin Gallate',\n",
    "    'EGCG': 'Epigallocatechin Gallate'\n",
    "}\n",
    "\n",
    "standardized_columns = [\n",
    "    'Catechin',\n",
    "    'Epicatechin',\n",
    "    'Gallocatechin',\n",
    "    'Epigallocatechin',\n",
    "    'Catechin Gallate',\n",
    "    'Epicatechin Gallate',\n",
    "    'Gallocatechin Gallate',\n",
    "    'Epigallocatechin Gallate',\n",
    "    'Gallic Acid',\n",
    "    'Chlorogenic Acid',\n",
    "    'Caffeine',\n",
    "    'Taste',\n",
    "    'Appearance',\n",
    "    'Aroma',\n",
    "    'Liqour color'\n",
    "]"
   ]
  },
  {
   "cell_type": "code",
   "execution_count": 1037,
   "metadata": {},
   "outputs": [
    {
     "data": {
      "text/plain": [
       "True"
      ]
     },
     "execution_count": 1037,
     "metadata": {},
     "output_type": "execute_result"
    }
   ],
   "source": [
    "df_jf980223x['EC'].dtype == 'float64'"
   ]
  },
  {
   "cell_type": "markdown",
   "metadata": {},
   "source": [
    "To faciliate scability I am create a sklearn pipeline and process all my data to be concatenated.\n",
    "First I will define the functions that will go into my data preprocessing pipeline."
   ]
  },
  {
   "cell_type": "code",
   "execution_count": 1038,
   "metadata": {},
   "outputs": [],
   "source": [
    "def reset_index(dataframe: pd.DataFrame):\n",
    "    return dataframe.reset_index(drop=1)\n",
    "\n",
    "def rename_columns(dataframe: pd.DataFrame):\n",
    "    return dataframe.rename(columns=catechin_dictionary)\n",
    "\n",
    "def drop_nonstandardized_columns(dataframe: pd.DataFrame):\n",
    "    return dataframe.drop(columns=[column for column in dataframe if column not in standardized_columns])\n",
    "\n",
    "def reformat_columns(dataframe: pd.DataFrame):\n",
    "    return dataframe.reindex(columns=standardized_columns)\n",
    "\n",
    "def remove_standard_deviation_format(dataframe: pd.DataFrame):\n",
    "    for column in range(len(dataframe)):\n",
    "        if (dataframe.iloc[column].dtype == 'obect') or (dataframe.iloc[column].dtype == 'string'):\n",
    "            dataframe.iloc[column] = dataframe.iloc[column].str.replace('± \\d*.\\d*', '', regex=True)\n",
    "    return dataframe    "
   ]
  },
  {
   "cell_type": "markdown",
   "metadata": {},
   "source": [
    "Next, the data pipeline applies all of those functions to the inputed dataset."
   ]
  },
  {
   "cell_type": "code",
   "execution_count": 1039,
   "metadata": {},
   "outputs": [],
   "source": [
    "from sklearn.pipeline import make_pipeline\n",
    "from sklearn.preprocessing import FunctionTransformer\n",
    "\n",
    "ResetIndexTransformer = FunctionTransformer(reset_index)\n",
    "RenameColumnsTransformer = FunctionTransformer(rename_columns)\n",
    "DropNonstandardizedColumnsTransformer = FunctionTransformer(drop_nonstandardized_columns)\n",
    "ReformatColumnsTransformer = FunctionTransformer(reformat_columns)\n",
    "RemoveStandardDeviationFormat = FunctionTransformer(remove_standard_deviation_format)\n",
    "\n",
    "data_combining_pipeline = make_pipeline(\n",
    "    ResetIndexTransformer,\n",
    "    RenameColumnsTransformer,\n",
    "    DropNonstandardizedColumnsTransformer,\n",
    "    ReformatColumnsTransformer,\n",
    "    RemoveStandardDeviationFormat\n",
    ")\n"
   ]
  },
  {
   "cell_type": "markdown",
   "metadata": {},
   "source": [
    "Now I am creating a pipeline that transforms each dataframe then concatenates it and returns one dataframe to be used for the model."
   ]
  },
  {
   "cell_type": "code",
   "execution_count": 1040,
   "metadata": {},
   "outputs": [],
   "source": [
    "def process_dataframes(dataframes: list):\n",
    "    processed_dataframes = []\n",
    "    for dataframe in dataframes:\n",
    "        dataframe = data_combining_pipeline.fit_transform(dataframe)\n",
    "        processed_dataframes.append(dataframe)\n",
    "    return processed_dataframes\n",
    "\n",
    "def concatenate_dataframes(dataframes: list):\n",
    "    formated_dataframe = pd.concat(dataframes, ignore_index=True)\n",
    "    return formated_dataframe\n"
   ]
  },
  {
   "cell_type": "code",
   "execution_count": 1041,
   "metadata": {},
   "outputs": [],
   "source": [
    "ProcessDataframes = FunctionTransformer(process_dataframes)\n",
    "ConcatenateDataframes = FunctionTransformer(concatenate_dataframes)\n",
    "\n",
    "data_combining_pipeline_processor = make_pipeline(\n",
    "    ProcessDataframes,\n",
    "    ConcatenateDataframes\n",
    ")"
   ]
  },
  {
   "cell_type": "code",
   "execution_count": 1055,
   "metadata": {},
   "outputs": [
    {
     "data": {
      "text/html": [
       "<div>\n",
       "<style scoped>\n",
       "    .dataframe tbody tr th:only-of-type {\n",
       "        vertical-align: middle;\n",
       "    }\n",
       "\n",
       "    .dataframe tbody tr th {\n",
       "        vertical-align: top;\n",
       "    }\n",
       "\n",
       "    .dataframe thead th {\n",
       "        text-align: right;\n",
       "    }\n",
       "</style>\n",
       "<table border=\"1\" class=\"dataframe\">\n",
       "  <thead>\n",
       "    <tr style=\"text-align: right;\">\n",
       "      <th></th>\n",
       "      <th>Catechin</th>\n",
       "      <th>Epicatechin</th>\n",
       "      <th>Gallocatechin</th>\n",
       "      <th>Epigallocatechin</th>\n",
       "      <th>Catechin Gallate</th>\n",
       "      <th>Epicatechin Gallate</th>\n",
       "      <th>Gallocatechin Gallate</th>\n",
       "      <th>Epigallocatechin Gallate</th>\n",
       "      <th>Gallic Acid</th>\n",
       "      <th>Chlorogenic Acid</th>\n",
       "      <th>Caffeine</th>\n",
       "      <th>Taste</th>\n",
       "      <th>Appearance</th>\n",
       "      <th>Aroma</th>\n",
       "      <th>Liqour color</th>\n",
       "    </tr>\n",
       "  </thead>\n",
       "  <tbody>\n",
       "    <tr>\n",
       "      <th>0</th>\n",
       "      <td>8.93 ± 0.09</td>\n",
       "      <td>7.04 ± 07</td>\n",
       "      <td>8.36 ± 0.08</td>\n",
       "      <td>18.00 ± 0.16</td>\n",
       "      <td>3.72 ± 0.04</td>\n",
       "      <td>4.66 ± 0.07</td>\n",
       "      <td>21.50 ± 0.38</td>\n",
       "      <td>21.11 ± 0.28</td>\n",
       "      <td>NaN</td>\n",
       "      <td>NaN</td>\n",
       "      <td>31.47 ± 0.22</td>\n",
       "      <td>NaN</td>\n",
       "      <td>NaN</td>\n",
       "      <td>NaN</td>\n",
       "      <td>NaN</td>\n",
       "    </tr>\n",
       "    <tr>\n",
       "      <th>1</th>\n",
       "      <td>9.87 ± 008</td>\n",
       "      <td>.4.99 ± 0.04</td>\n",
       "      <td>22.55 ± 0.21</td>\n",
       "      <td>10.92 ± 0.08</td>\n",
       "      <td>5.33 ± 0.04</td>\n",
       "      <td>5.29 ± 0.09</td>\n",
       "      <td>26.62 ± 0.34</td>\n",
       "      <td>23.42 ± 0.18</td>\n",
       "      <td>NaN</td>\n",
       "      <td>NaN</td>\n",
       "      <td>39.24 ± 0.18</td>\n",
       "      <td>NaN</td>\n",
       "      <td>NaN</td>\n",
       "      <td>NaN</td>\n",
       "      <td>NaN</td>\n",
       "    </tr>\n",
       "    <tr>\n",
       "      <th>2</th>\n",
       "      <td>6.37 ± 0.07</td>\n",
       "      <td>4.92 ± 0.06</td>\n",
       "      <td>21.87 ± 0.17</td>\n",
       "      <td>10.98 ± 0.08</td>\n",
       "      <td>5.29 ± 0.07</td>\n",
       "      <td>5.43 ± 0.07</td>\n",
       "      <td>24.84 ± 0.42</td>\n",
       "      <td>23.63 ± 0.21</td>\n",
       "      <td>NaN</td>\n",
       "      <td>NaN</td>\n",
       "      <td>41.08 ± 0.32</td>\n",
       "      <td>NaN</td>\n",
       "      <td>NaN</td>\n",
       "      <td>NaN</td>\n",
       "      <td>NaN</td>\n",
       "    </tr>\n",
       "    <tr>\n",
       "      <th>3</th>\n",
       "      <td>6.78 ± 0.03</td>\n",
       "      <td>5.91 ± 0.07</td>\n",
       "      <td>23.08 ± 0.18</td>\n",
       "      <td>11.47 ± 0.12</td>\n",
       "      <td>5.76 ± 0.06</td>\n",
       "      <td>6.43 ± 0.06</td>\n",
       "      <td>25.34 ± 0.27</td>\n",
       "      <td>22.14 ± 0.20</td>\n",
       "      <td>NaN</td>\n",
       "      <td>NaN</td>\n",
       "      <td>50.97 ± 0.29</td>\n",
       "      <td>NaN</td>\n",
       "      <td>NaN</td>\n",
       "      <td>NaN</td>\n",
       "      <td>NaN</td>\n",
       "    </tr>\n",
       "    <tr>\n",
       "      <th>4</th>\n",
       "      <td>5.82 ± 0.07</td>\n",
       "      <td>5.60 ± 0.07</td>\n",
       "      <td>24.12 ± 0.22</td>\n",
       "      <td>13.35 ± 0.11</td>\n",
       "      <td>5.28 ± 0.06</td>\n",
       "      <td>5.94 ± 0.04</td>\n",
       "      <td>27.92 ± 0.32</td>\n",
       "      <td>25.09 ± 0.22</td>\n",
       "      <td>NaN</td>\n",
       "      <td>NaN</td>\n",
       "      <td>53.70 ± 0.45</td>\n",
       "      <td>NaN</td>\n",
       "      <td>NaN</td>\n",
       "      <td>NaN</td>\n",
       "      <td>NaN</td>\n",
       "    </tr>\n",
       "    <tr>\n",
       "      <th>...</th>\n",
       "      <td>...</td>\n",
       "      <td>...</td>\n",
       "      <td>...</td>\n",
       "      <td>...</td>\n",
       "      <td>...</td>\n",
       "      <td>...</td>\n",
       "      <td>...</td>\n",
       "      <td>...</td>\n",
       "      <td>...</td>\n",
       "      <td>...</td>\n",
       "      <td>...</td>\n",
       "      <td>...</td>\n",
       "      <td>...</td>\n",
       "      <td>...</td>\n",
       "      <td>...</td>\n",
       "    </tr>\n",
       "    <tr>\n",
       "      <th>76</th>\n",
       "      <td>0.02</td>\n",
       "      <td>1.06</td>\n",
       "      <td>NaN</td>\n",
       "      <td>1.17</td>\n",
       "      <td>NaN</td>\n",
       "      <td>1.84</td>\n",
       "      <td>0.26</td>\n",
       "      <td>13.77</td>\n",
       "      <td>NaN</td>\n",
       "      <td>NaN</td>\n",
       "      <td>6.72</td>\n",
       "      <td>NaN</td>\n",
       "      <td>NaN</td>\n",
       "      <td>NaN</td>\n",
       "      <td>NaN</td>\n",
       "    </tr>\n",
       "    <tr>\n",
       "      <th>77</th>\n",
       "      <td>0.02</td>\n",
       "      <td>1.15</td>\n",
       "      <td>NaN</td>\n",
       "      <td>1.19</td>\n",
       "      <td>NaN</td>\n",
       "      <td>2.59</td>\n",
       "      <td>0.56</td>\n",
       "      <td>18.81</td>\n",
       "      <td>NaN</td>\n",
       "      <td>NaN</td>\n",
       "      <td>8.62</td>\n",
       "      <td>NaN</td>\n",
       "      <td>NaN</td>\n",
       "      <td>NaN</td>\n",
       "      <td>NaN</td>\n",
       "    </tr>\n",
       "    <tr>\n",
       "      <th>78</th>\n",
       "      <td>0.02</td>\n",
       "      <td>0.92</td>\n",
       "      <td>NaN</td>\n",
       "      <td>0.95</td>\n",
       "      <td>NaN</td>\n",
       "      <td>2.04</td>\n",
       "      <td>0.33</td>\n",
       "      <td>14.88</td>\n",
       "      <td>NaN</td>\n",
       "      <td>NaN</td>\n",
       "      <td>6.9</td>\n",
       "      <td>NaN</td>\n",
       "      <td>NaN</td>\n",
       "      <td>NaN</td>\n",
       "      <td>NaN</td>\n",
       "    </tr>\n",
       "    <tr>\n",
       "      <th>79</th>\n",
       "      <td>0.03</td>\n",
       "      <td>1.05</td>\n",
       "      <td>NaN</td>\n",
       "      <td>0.93</td>\n",
       "      <td>NaN</td>\n",
       "      <td>1.95</td>\n",
       "      <td>0.24</td>\n",
       "      <td>14.69</td>\n",
       "      <td>NaN</td>\n",
       "      <td>NaN</td>\n",
       "      <td>7.8</td>\n",
       "      <td>NaN</td>\n",
       "      <td>NaN</td>\n",
       "      <td>NaN</td>\n",
       "      <td>NaN</td>\n",
       "    </tr>\n",
       "    <tr>\n",
       "      <th>80</th>\n",
       "      <td>0.02</td>\n",
       "      <td>0.76</td>\n",
       "      <td>NaN</td>\n",
       "      <td>0.64</td>\n",
       "      <td>NaN</td>\n",
       "      <td>1.61</td>\n",
       "      <td>0.16</td>\n",
       "      <td>10.5</td>\n",
       "      <td>NaN</td>\n",
       "      <td>NaN</td>\n",
       "      <td>7.06</td>\n",
       "      <td>NaN</td>\n",
       "      <td>NaN</td>\n",
       "      <td>NaN</td>\n",
       "      <td>NaN</td>\n",
       "    </tr>\n",
       "  </tbody>\n",
       "</table>\n",
       "<p>81 rows × 15 columns</p>\n",
       "</div>"
      ],
      "text/plain": [
       "       Catechin   Epicatechin Gallocatechin Epigallocatechin Catechin Gallate  \\\n",
       "0   8.93 ± 0.09     7.04 ± 07   8.36 ± 0.08     18.00 ± 0.16      3.72 ± 0.04   \n",
       "1    9.87 ± 008  .4.99 ± 0.04  22.55 ± 0.21     10.92 ± 0.08      5.33 ± 0.04   \n",
       "2   6.37 ± 0.07   4.92 ± 0.06  21.87 ± 0.17     10.98 ± 0.08      5.29 ± 0.07   \n",
       "3   6.78 ± 0.03   5.91 ± 0.07  23.08 ± 0.18     11.47 ± 0.12      5.76 ± 0.06   \n",
       "4   5.82 ± 0.07   5.60 ± 0.07  24.12 ± 0.22     13.35 ± 0.11      5.28 ± 0.06   \n",
       "..          ...           ...           ...              ...              ...   \n",
       "76         0.02          1.06           NaN             1.17              NaN   \n",
       "77         0.02          1.15           NaN             1.19              NaN   \n",
       "78         0.02          0.92           NaN             0.95              NaN   \n",
       "79         0.03          1.05           NaN             0.93              NaN   \n",
       "80         0.02          0.76           NaN             0.64              NaN   \n",
       "\n",
       "   Epicatechin Gallate Gallocatechin Gallate Epigallocatechin Gallate  \\\n",
       "0          4.66 ± 0.07          21.50 ± 0.38             21.11 ± 0.28   \n",
       "1          5.29 ± 0.09          26.62 ± 0.34             23.42 ± 0.18   \n",
       "2          5.43 ± 0.07          24.84 ± 0.42             23.63 ± 0.21   \n",
       "3          6.43 ± 0.06          25.34 ± 0.27             22.14 ± 0.20   \n",
       "4          5.94 ± 0.04          27.92 ± 0.32             25.09 ± 0.22   \n",
       "..                 ...                   ...                      ...   \n",
       "76                1.84                  0.26                    13.77   \n",
       "77                2.59                  0.56                    18.81   \n",
       "78                2.04                  0.33                    14.88   \n",
       "79                1.95                  0.24                    14.69   \n",
       "80                1.61                  0.16                     10.5   \n",
       "\n",
       "   Gallic Acid Chlorogenic Acid      Caffeine Taste Appearance Aroma  \\\n",
       "0          NaN              NaN  31.47 ± 0.22   NaN        NaN   NaN   \n",
       "1          NaN              NaN  39.24 ± 0.18   NaN        NaN   NaN   \n",
       "2          NaN              NaN  41.08 ± 0.32   NaN        NaN   NaN   \n",
       "3          NaN              NaN  50.97 ± 0.29   NaN        NaN   NaN   \n",
       "4          NaN              NaN  53.70 ± 0.45   NaN        NaN   NaN   \n",
       "..         ...              ...           ...   ...        ...   ...   \n",
       "76         NaN              NaN          6.72   NaN        NaN   NaN   \n",
       "77         NaN              NaN          8.62   NaN        NaN   NaN   \n",
       "78         NaN              NaN           6.9   NaN        NaN   NaN   \n",
       "79         NaN              NaN           7.8   NaN        NaN   NaN   \n",
       "80         NaN              NaN          7.06   NaN        NaN   NaN   \n",
       "\n",
       "   Liqour color  \n",
       "0           NaN  \n",
       "1           NaN  \n",
       "2           NaN  \n",
       "3           NaN  \n",
       "4           NaN  \n",
       "..          ...  \n",
       "76          NaN  \n",
       "77          NaN  \n",
       "78          NaN  \n",
       "79          NaN  \n",
       "80          NaN  \n",
       "\n",
       "[81 rows x 15 columns]"
      ]
     },
     "execution_count": 1055,
     "metadata": {},
     "output_type": "execute_result"
    }
   ],
   "source": [
    "df = data_combining_pipeline_processor.transform(all_dataframes)\n",
    "df"
   ]
  },
  {
   "cell_type": "markdown",
   "metadata": {},
   "source": [
    "# Visualize data"
   ]
  },
  {
   "cell_type": "code",
   "execution_count": null,
   "metadata": {},
   "outputs": [],
   "source": []
  },
  {
   "cell_type": "code",
   "execution_count": null,
   "metadata": {},
   "outputs": [],
   "source": []
  },
  {
   "cell_type": "markdown",
   "metadata": {},
   "source": [
    "# Data Wrangling"
   ]
  },
  {
   "cell_type": "code",
   "execution_count": null,
   "metadata": {},
   "outputs": [],
   "source": []
  },
  {
   "cell_type": "markdown",
   "metadata": {},
   "source": [
    "# Training Device"
   ]
  },
  {
   "cell_type": "code",
   "execution_count": 1043,
   "metadata": {},
   "outputs": [
    {
     "name": "stdout",
     "output_type": "stream",
     "text": [
      "Using cpu device\n"
     ]
    }
   ],
   "source": [
    "# Get cpu, gpu or mps device for training.\n",
    "device = (\n",
    "    \"cuda\"\n",
    "    if torch.cuda.is_available()\n",
    "    else \"mps\"\n",
    "    if torch.backends.mps.is_available()\n",
    "    else \"cpu\"\n",
    ")\n",
    "print(f\"Using {device} device\")"
   ]
  },
  {
   "cell_type": "markdown",
   "metadata": {},
   "source": [
    "# Generative Adversarial Network"
   ]
  },
  {
   "cell_type": "code",
   "execution_count": 1044,
   "metadata": {},
   "outputs": [],
   "source": [
    "class Generator(nn.Module):\n",
    "    def __init__(self, ngpu):\n",
    "            super(Generator, self).__init__()\n",
    "            self.ngpu = ngpu\n",
    "\n",
    "class Discriminator(nn.Module):    \n",
    "    def __init__(self, ngpu):\n",
    "        super(Discriminator, self).__init__()\n",
    "        self.ngpu = ngpu"
   ]
  },
  {
   "cell_type": "markdown",
   "metadata": {},
   "source": [
    "# Split data"
   ]
  },
  {
   "cell_type": "code",
   "execution_count": 1045,
   "metadata": {},
   "outputs": [],
   "source": [
    "from torch.utils.data import DataLoader, random_split\n",
    "\n",
    "train_size = int(0.8 * len(df))\n",
    "test_size = len(df) - train_size\n",
    "train_df, test_df = random_split(df, [train_size, test_size])\n",
    "\n",
    "train_loader = DataLoader(train_df, batch_size=64, shuffle=True)\n",
    "test_loader = DataLoader(test_df, batch_size=64, shuffle=True)"
   ]
  },
  {
   "cell_type": "markdown",
   "metadata": {},
   "source": [
    "# Feature Engineering"
   ]
  },
  {
   "cell_type": "code",
   "execution_count": null,
   "metadata": {},
   "outputs": [],
   "source": []
  },
  {
   "cell_type": "markdown",
   "metadata": {},
   "source": [
    "# DBSCAN"
   ]
  },
  {
   "cell_type": "code",
   "execution_count": 1046,
   "metadata": {},
   "outputs": [],
   "source": [
    "# Model Creation"
   ]
  },
  {
   "cell_type": "code",
   "execution_count": 1047,
   "metadata": {},
   "outputs": [],
   "source": [
    "# Hyperparameter Selection"
   ]
  },
  {
   "cell_type": "code",
   "execution_count": 1048,
   "metadata": {},
   "outputs": [],
   "source": [
    "# Model Training"
   ]
  },
  {
   "cell_type": "markdown",
   "metadata": {},
   "source": [
    "# Multilayer Perceptron"
   ]
  },
  {
   "cell_type": "code",
   "execution_count": 1049,
   "metadata": {},
   "outputs": [],
   "source": [
    "# Model Creation"
   ]
  },
  {
   "cell_type": "code",
   "execution_count": 1050,
   "metadata": {},
   "outputs": [],
   "source": [
    "# Hyperparameter Selection"
   ]
  },
  {
   "cell_type": "code",
   "execution_count": 1051,
   "metadata": {},
   "outputs": [],
   "source": [
    "# Model Training"
   ]
  },
  {
   "cell_type": "markdown",
   "metadata": {},
   "source": [
    "# Convolutiontional Neural Network"
   ]
  },
  {
   "cell_type": "code",
   "execution_count": 1052,
   "metadata": {},
   "outputs": [],
   "source": [
    "# Model Creation"
   ]
  },
  {
   "cell_type": "code",
   "execution_count": 1053,
   "metadata": {},
   "outputs": [],
   "source": [
    "# Hyperparameter Selection\n"
   ]
  },
  {
   "cell_type": "code",
   "execution_count": 1054,
   "metadata": {},
   "outputs": [],
   "source": [
    "# Model Training"
   ]
  },
  {
   "cell_type": "markdown",
   "metadata": {},
   "source": [
    "# Model Visualization and Comparison"
   ]
  },
  {
   "cell_type": "code",
   "execution_count": null,
   "metadata": {},
   "outputs": [],
   "source": []
  },
  {
   "cell_type": "markdown",
   "metadata": {},
   "source": [
    "# Export model"
   ]
  },
  {
   "cell_type": "code",
   "execution_count": null,
   "metadata": {},
   "outputs": [],
   "source": []
  }
 ],
 "metadata": {
  "kernelspec": {
   "display_name": "Python 3",
   "language": "python",
   "name": "python3"
  },
  "language_info": {
   "codemirror_mode": {
    "name": "ipython",
    "version": 3
   },
   "file_extension": ".py",
   "mimetype": "text/x-python",
   "name": "python",
   "nbconvert_exporter": "python",
   "pygments_lexer": "ipython3",
   "version": "3.11.6"
  }
 },
 "nbformat": 4,
 "nbformat_minor": 2
}
